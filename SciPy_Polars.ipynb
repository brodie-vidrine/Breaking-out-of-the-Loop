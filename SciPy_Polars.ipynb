{
 "cells": [
  {
   "cell_type": "markdown",
   "id": "9a5acccb-e66b-434e-842a-7b027bed2a4f",
   "metadata": {},
   "source": [
    "# Breaking Out of the Loop\n",
    "## Refactoring Legacy Software with Polars\n",
    "\n",
    "In this quick tutorial, we'll be creating a very limited version of the Global Summary of the Month. By the end, you should have a handy cookbook for whipping up solutions to common data-crunching requirements.\n",
    "\n",
    "\n",
    "### Part 1 - Reading Your Input\n",
    "***\n",
    "\n",
    "Let's start by importing Polars. We'll also import a library called itables to make exploring our tables easier in the notebook."
   ]
  },
  {
   "cell_type": "code",
   "execution_count": 1,
   "id": "5d17ef78-52c2-449d-b59c-7307cda59b26",
   "metadata": {},
   "outputs": [],
   "source": [
    "import polars as pl\n",
    "#import itables\n",
    "#itables.init_notebook_mode(connected=False)"
   ]
  },
  {
   "cell_type": "markdown",
   "id": "b6a11d19-8f50-4524-a5f3-372b2fb3dccd",
   "metadata": {},
   "source": [
    "For today's example, we'll be using real NOAA data. More specifically, we'll be pulling station files from the Global Historical Climate Network's daily dataset. These are just plain text \"flat files\" with fixed column widths. Daily values are limited to 5 spaces and are followed by measurement, QC, and source flags--each taking up a single space:\n",
    "\n",
    "<img src=\"imgs/dly.png\" alt=\"image\" width=\"500\" height=\"auto\">\n",
    "\n",
    "Unfortunately, Polars doesn't have a native method for reading fixed-width files, so I'm including a utility class here. You'll find it in the GitHub repo as **InputOutputUtils.py.**"
   ]
  },
  {
   "cell_type": "code",
   "execution_count": 2,
   "id": "3615841d-d477-4790-b3e0-2ac1385390d6",
   "metadata": {
    "scrolled": true
   },
   "outputs": [
    {
     "data": {
      "text/html": [
       "<div><style>\n",
       ".dataframe > thead > tr,\n",
       ".dataframe > tbody > tr {\n",
       "  text-align: right;\n",
       "  white-space: pre-wrap;\n",
       "}\n",
       "</style>\n",
       "<small>shape: (5, 6)</small><table border=\"1\" class=\"dataframe\"><thead><tr><th>STATION</th><th>DATE</th><th>Element</th><th>daily_values</th><th>qc_flags</th><th>days_in_month</th></tr><tr><td>str</td><td>date</td><td>str</td><td>list[f32]</td><td>list[str]</td><td>i32</td></tr></thead><tbody><tr><td>&quot;USW00094789&quot;</td><td>1948-07-01</td><td>&quot;TMAX&quot;</td><td>[-9999.0, -9999.0, … 317.0]</td><td>[&quot;&quot;, &quot;&quot;, … &quot;&quot;]</td><td>31</td></tr><tr><td>&quot;USW00094789&quot;</td><td>1948-07-01</td><td>&quot;TMIN&quot;</td><td>[-9999.0, -9999.0, … 233.0]</td><td>[&quot;&quot;, &quot;&quot;, … &quot;&quot;]</td><td>31</td></tr><tr><td>&quot;USW00094789&quot;</td><td>1948-07-01</td><td>&quot;PRCP&quot;</td><td>[-9999.0, -9999.0, … 0.0]</td><td>[&quot;&quot;, &quot;&quot;, … &quot;&quot;]</td><td>31</td></tr><tr><td>&quot;USW00094789&quot;</td><td>1948-07-01</td><td>&quot;SNOW&quot;</td><td>[-9999.0, -9999.0, … 0.0]</td><td>[&quot;&quot;, &quot;&quot;, … &quot;&quot;]</td><td>31</td></tr><tr><td>&quot;USW00094789&quot;</td><td>1948-07-01</td><td>&quot;SNWD&quot;</td><td>[-9999.0, -9999.0, … 0.0]</td><td>[&quot;&quot;, &quot;&quot;, … &quot;&quot;]</td><td>31</td></tr></tbody></table></div>"
      ],
      "text/plain": [
       "shape: (5, 6)\n",
       "┌─────────────┬────────────┬─────────┬─────────────────────────────┬────────────────┬───────────────┐\n",
       "│ STATION     ┆ DATE       ┆ Element ┆ daily_values                ┆ qc_flags       ┆ days_in_month │\n",
       "│ ---         ┆ ---        ┆ ---     ┆ ---                         ┆ ---            ┆ ---           │\n",
       "│ str         ┆ date       ┆ str     ┆ list[f32]                   ┆ list[str]      ┆ i32           │\n",
       "╞═════════════╪════════════╪═════════╪═════════════════════════════╪════════════════╪═══════════════╡\n",
       "│ USW00094789 ┆ 1948-07-01 ┆ TMAX    ┆ [-9999.0, -9999.0, … 317.0] ┆ [\"\", \"\", … \"\"] ┆ 31            │\n",
       "│ USW00094789 ┆ 1948-07-01 ┆ TMIN    ┆ [-9999.0, -9999.0, … 233.0] ┆ [\"\", \"\", … \"\"] ┆ 31            │\n",
       "│ USW00094789 ┆ 1948-07-01 ┆ PRCP    ┆ [-9999.0, -9999.0, … 0.0]   ┆ [\"\", \"\", … \"\"] ┆ 31            │\n",
       "│ USW00094789 ┆ 1948-07-01 ┆ SNOW    ┆ [-9999.0, -9999.0, … 0.0]   ┆ [\"\", \"\", … \"\"] ┆ 31            │\n",
       "│ USW00094789 ┆ 1948-07-01 ┆ SNWD    ┆ [-9999.0, -9999.0, … 0.0]   ┆ [\"\", \"\", … \"\"] ┆ 31            │\n",
       "└─────────────┴────────────┴─────────┴─────────────────────────────┴────────────────┴───────────────┘"
      ]
     },
     "execution_count": 2,
     "metadata": {},
     "output_type": "execute_result"
    }
   ],
   "source": [
    "import InputOutputUtils as io\n",
    "from importlib import reload\n",
    "reload(io) #Prevents caching in Python modules\n",
    "#JFK International Airport\n",
    "station_file = \"stations/USW00094789.dly\"\n",
    "df = io.dlyAsDataFrame( station_file )\n",
    "df.head()\n",
    "#show(df, layout={\"topStart\": None, \"topEnd\": None})"
   ]
  },
  {
   "cell_type": "markdown",
   "id": "e914cbba-2bce-446e-93bb-c353fb0fd54d",
   "metadata": {},
   "source": [
    "\n",
    "\n",
    "What's happening inside of input_output_utils is outside the scope of this talk, but it's a useful class. Shoutout to (GET NAME) over on StackOverflow for posting the snippet I used to create it. The important thing is, we've converted our fixed-width flat file into a Polars Dataframe.\n",
    "\n",
    "### Part 2 - Data Crunching\n",
    "***\n",
    "\n",
    "The real GSOM puts out more than 63 possible element-columns. In this quick demonstration, our program will only put out 5 elements:\n",
    "* Average Minimum Temperature\n",
    "* Average Maximum Temperature\n",
    "* Average Temperature\n",
    "* Cooling Degree Days\n",
    "* Heating Degree Days\n",
    "\n",
    "#### 2A - Filtering\n",
    "***\n",
    "\n",
    "To create these elements, we'll only need to keep rows where Element is equal to TMIN and TMAX. Let's go ahead and filter those elements:\n"
   ]
  },
  {
   "cell_type": "code",
   "execution_count": 3,
   "id": "91e4af81-7388-489d-8c79-3411e912bb54",
   "metadata": {},
   "outputs": [
    {
     "data": {
      "text/html": [
       "<div><style>\n",
       ".dataframe > thead > tr,\n",
       ".dataframe > tbody > tr {\n",
       "  text-align: right;\n",
       "  white-space: pre-wrap;\n",
       "}\n",
       "</style>\n",
       "<small>shape: (5, 5)</small><table border=\"1\" class=\"dataframe\"><thead><tr><th>STATION</th><th>Element</th><th>DATE</th><th>daily_values</th><th>qc_flags</th></tr><tr><td>str</td><td>str</td><td>date</td><td>list[f32]</td><td>list[str]</td></tr></thead><tbody><tr><td>&quot;USW00094789&quot;</td><td>&quot;TMAX&quot;</td><td>1948-07-01</td><td>[-9999.0, -9999.0, … 317.0]</td><td>[&quot;&quot;, &quot;&quot;, … &quot;&quot;]</td></tr><tr><td>&quot;USW00094789&quot;</td><td>&quot;TMIN&quot;</td><td>1948-07-01</td><td>[-9999.0, -9999.0, … 233.0]</td><td>[&quot;&quot;, &quot;&quot;, … &quot;&quot;]</td></tr><tr><td>&quot;USW00094789&quot;</td><td>&quot;TMAX&quot;</td><td>1948-08-01</td><td>[233.0, 261.0, … 283.0]</td><td>[&quot;&quot;, &quot;&quot;, … &quot;&quot;]</td></tr><tr><td>&quot;USW00094789&quot;</td><td>&quot;TMIN&quot;</td><td>1948-08-01</td><td>[211.0, 200.0, … 172.0]</td><td>[&quot;&quot;, &quot;&quot;, … &quot;&quot;]</td></tr><tr><td>&quot;USW00094789&quot;</td><td>&quot;TMAX&quot;</td><td>1948-09-01</td><td>[256.0, 250.0, … -9999.0]</td><td>[&quot;&quot;, &quot;&quot;, … &quot;&quot;]</td></tr></tbody></table></div>"
      ],
      "text/plain": [
       "shape: (5, 5)\n",
       "┌─────────────┬─────────┬────────────┬─────────────────────────────┬────────────────┐\n",
       "│ STATION     ┆ Element ┆ DATE       ┆ daily_values                ┆ qc_flags       │\n",
       "│ ---         ┆ ---     ┆ ---        ┆ ---                         ┆ ---            │\n",
       "│ str         ┆ str     ┆ date       ┆ list[f32]                   ┆ list[str]      │\n",
       "╞═════════════╪═════════╪════════════╪═════════════════════════════╪════════════════╡\n",
       "│ USW00094789 ┆ TMAX    ┆ 1948-07-01 ┆ [-9999.0, -9999.0, … 317.0] ┆ [\"\", \"\", … \"\"] │\n",
       "│ USW00094789 ┆ TMIN    ┆ 1948-07-01 ┆ [-9999.0, -9999.0, … 233.0] ┆ [\"\", \"\", … \"\"] │\n",
       "│ USW00094789 ┆ TMAX    ┆ 1948-08-01 ┆ [233.0, 261.0, … 283.0]     ┆ [\"\", \"\", … \"\"] │\n",
       "│ USW00094789 ┆ TMIN    ┆ 1948-08-01 ┆ [211.0, 200.0, … 172.0]     ┆ [\"\", \"\", … \"\"] │\n",
       "│ USW00094789 ┆ TMAX    ┆ 1948-09-01 ┆ [256.0, 250.0, … -9999.0]   ┆ [\"\", \"\", … \"\"] │\n",
       "└─────────────┴─────────┴────────────┴─────────────────────────────┴────────────────┘"
      ]
     },
     "execution_count": 3,
     "metadata": {},
     "output_type": "execute_result"
    }
   ],
   "source": [
    "#Create an array with the elements we want to keep\n",
    "needed = [\"TMIN\", \"TMAX\"]\n",
    "\n",
    "#only show rows where \"Element\" matches strings in this list\n",
    "df = df.filter(\n",
    "    pl.col(\"Element\").is_in(needed)\n",
    ")\n",
    "\n",
    "df.select([\"STATION\", \"Element\", \"DATE\", \"daily_values\", \"qc_flags\"]).head()"
   ]
  },
  {
   "cell_type": "markdown",
   "id": "9d171143-408a-4235-ab4b-6438bb40f80a",
   "metadata": {},
   "source": [
    "If you look at the shape of the dataframes, you'll see our row count has dropped from 15, 584 rows to 1,842. You don't necessarily need to drive yourself nuts trying to whittle down the size of your dataset, but if it's 700% larger than it needs to be, your speed will suffer.\n"
   ]
  },
  {
   "cell_type": "markdown",
   "id": "acd3113a-b24a-48dd-aba5-b8e54933b065",
   "metadata": {},
   "source": [
    "#### 2B - Data Validation\n",
    "***\n",
    "\n",
    "Before we run our calculations, let's first delete any invalid data in our daily_value lists. In the real GSOM, we'd remove any daily values where the corresponding QC flag wasn't an empty string. For the purposes of this demo, we're only going to remove the values that are equal to -9999.0."
   ]
  },
  {
   "cell_type": "code",
   "execution_count": 4,
   "id": "70f24705-40c4-4225-b780-f657eb775e45",
   "metadata": {},
   "outputs": [
    {
     "data": {
      "text/html": [
       "<div><style>\n",
       ".dataframe > thead > tr,\n",
       ".dataframe > tbody > tr {\n",
       "  text-align: right;\n",
       "  white-space: pre-wrap;\n",
       "}\n",
       "</style>\n",
       "<small>shape: (5, 4)</small><table border=\"1\" class=\"dataframe\"><thead><tr><th>DATE</th><th>Element</th><th>daily_values</th><th>filtered_values</th></tr><tr><td>date</td><td>str</td><td>list[f32]</td><td>list[f32]</td></tr></thead><tbody><tr><td>1948-07-01</td><td>&quot;TMAX&quot;</td><td>[-9999.0, -9999.0, … 317.0]</td><td>[233.0, 272.0, … 317.0]</td></tr><tr><td>1948-07-01</td><td>&quot;TMIN&quot;</td><td>[-9999.0, -9999.0, … 233.0]</td><td>[178.0, 211.0, … 233.0]</td></tr><tr><td>1948-08-01</td><td>&quot;TMAX&quot;</td><td>[233.0, 261.0, … 283.0]</td><td>[233.0, 261.0, … 283.0]</td></tr><tr><td>1948-08-01</td><td>&quot;TMIN&quot;</td><td>[211.0, 200.0, … 172.0]</td><td>[211.0, 200.0, … 172.0]</td></tr><tr><td>1948-09-01</td><td>&quot;TMAX&quot;</td><td>[256.0, 250.0, … -9999.0]</td><td>[256.0, 250.0, … 239.0]</td></tr></tbody></table></div>"
      ],
      "text/plain": [
       "shape: (5, 4)\n",
       "┌────────────┬─────────┬─────────────────────────────┬─────────────────────────┐\n",
       "│ DATE       ┆ Element ┆ daily_values                ┆ filtered_values         │\n",
       "│ ---        ┆ ---     ┆ ---                         ┆ ---                     │\n",
       "│ date       ┆ str     ┆ list[f32]                   ┆ list[f32]               │\n",
       "╞════════════╪═════════╪═════════════════════════════╪═════════════════════════╡\n",
       "│ 1948-07-01 ┆ TMAX    ┆ [-9999.0, -9999.0, … 317.0] ┆ [233.0, 272.0, … 317.0] │\n",
       "│ 1948-07-01 ┆ TMIN    ┆ [-9999.0, -9999.0, … 233.0] ┆ [178.0, 211.0, … 233.0] │\n",
       "│ 1948-08-01 ┆ TMAX    ┆ [233.0, 261.0, … 283.0]     ┆ [233.0, 261.0, … 283.0] │\n",
       "│ 1948-08-01 ┆ TMIN    ┆ [211.0, 200.0, … 172.0]     ┆ [211.0, 200.0, … 172.0] │\n",
       "│ 1948-09-01 ┆ TMAX    ┆ [256.0, 250.0, … -9999.0]   ┆ [256.0, 250.0, … 239.0] │\n",
       "└────────────┴─────────┴─────────────────────────────┴─────────────────────────┘"
      ]
     },
     "execution_count": 4,
     "metadata": {},
     "output_type": "execute_result"
    }
   ],
   "source": [
    "\n",
    "df = df.with_columns(\n",
    "        #We could have simply replaced daily_values, but we're not done with it yet!\n",
    "        filtered_values = pl.col(\"daily_values\").list.eval(\n",
    "            pl.element().filter(pl.element() != -9999.0)\n",
    "        )\n",
    "    )\n",
    "\n",
    "df.select(\n",
    "    [\"DATE\", \"Element\", \"daily_values\", \"filtered_values\"]\n",
    "    ).head()"
   ]
  },
  {
   "cell_type": "markdown",
   "id": "00936798-4c12-4f1b-b3e9-631ccee83b32",
   "metadata": {},
   "source": [
    "Once we've filtered our daily_values, we can subtract it's length from the days_in_month column. We'll then filter out any rows where we have 4 or more missing_days. "
   ]
  },
  {
   "cell_type": "code",
   "execution_count": 5,
   "id": "2de84274-455b-4ebb-a60a-25d76cbb93a8",
   "metadata": {},
   "outputs": [
    {
     "data": {
      "text/html": [
       "<div><style>\n",
       ".dataframe > thead > tr,\n",
       ".dataframe > tbody > tr {\n",
       "  text-align: right;\n",
       "  white-space: pre-wrap;\n",
       "}\n",
       "</style>\n",
       "<small>shape: (5, 5)</small><table border=\"1\" class=\"dataframe\"><thead><tr><th>DATE</th><th>Element</th><th>daily_values</th><th>filtered_values</th><th>missing_days</th></tr><tr><td>date</td><td>str</td><td>list[f32]</td><td>list[f32]</td><td>i64</td></tr></thead><tbody><tr><td>1948-08-01</td><td>&quot;TMAX&quot;</td><td>[233.0, 261.0, … 283.0]</td><td>[233.0, 261.0, … 283.0]</td><td>0</td></tr><tr><td>1948-08-01</td><td>&quot;TMIN&quot;</td><td>[211.0, 200.0, … 172.0]</td><td>[211.0, 200.0, … 172.0]</td><td>0</td></tr><tr><td>1948-09-01</td><td>&quot;TMAX&quot;</td><td>[256.0, 250.0, … -9999.0]</td><td>[256.0, 250.0, … 239.0]</td><td>0</td></tr><tr><td>1948-09-01</td><td>&quot;TMIN&quot;</td><td>[144.0, 150.0, … -9999.0]</td><td>[144.0, 150.0, … 167.0]</td><td>0</td></tr><tr><td>1948-10-01</td><td>&quot;TMAX&quot;</td><td>[256.0, 261.0, … 200.0]</td><td>[256.0, 261.0, … 200.0]</td><td>0</td></tr></tbody></table></div>"
      ],
      "text/plain": [
       "shape: (5, 5)\n",
       "┌────────────┬─────────┬───────────────────────────┬─────────────────────────┬──────────────┐\n",
       "│ DATE       ┆ Element ┆ daily_values              ┆ filtered_values         ┆ missing_days │\n",
       "│ ---        ┆ ---     ┆ ---                       ┆ ---                     ┆ ---          │\n",
       "│ date       ┆ str     ┆ list[f32]                 ┆ list[f32]               ┆ i64          │\n",
       "╞════════════╪═════════╪═══════════════════════════╪═════════════════════════╪══════════════╡\n",
       "│ 1948-08-01 ┆ TMAX    ┆ [233.0, 261.0, … 283.0]   ┆ [233.0, 261.0, … 283.0] ┆ 0            │\n",
       "│ 1948-08-01 ┆ TMIN    ┆ [211.0, 200.0, … 172.0]   ┆ [211.0, 200.0, … 172.0] ┆ 0            │\n",
       "│ 1948-09-01 ┆ TMAX    ┆ [256.0, 250.0, … -9999.0] ┆ [256.0, 250.0, … 239.0] ┆ 0            │\n",
       "│ 1948-09-01 ┆ TMIN    ┆ [144.0, 150.0, … -9999.0] ┆ [144.0, 150.0, … 167.0] ┆ 0            │\n",
       "│ 1948-10-01 ┆ TMAX    ┆ [256.0, 261.0, … 200.0]   ┆ [256.0, 261.0, … 200.0] ┆ 0            │\n",
       "└────────────┴─────────┴───────────────────────────┴─────────────────────────┴──────────────┘"
      ]
     },
     "execution_count": 5,
     "metadata": {},
     "output_type": "execute_result"
    }
   ],
   "source": [
    "df = df.with_columns(\n",
    "        missing_days = pl.col(\"days_in_month\") - pl.col(\"filtered_values\").list.len()\n",
    "    ).filter(\n",
    "        pl.col(\"missing_days\") < 4\n",
    "    )\n",
    "\n",
    "df.select(\n",
    "        [\"DATE\", \"Element\", \"daily_values\", \"filtered_values\", \"missing_days\"]\n",
    "    ).head()"
   ]
  },
  {
   "cell_type": "markdown",
   "id": "eb9f2afa-391f-4a03-9a98-f028a206386e",
   "metadata": {},
   "source": [
    "#### 2C - Easy Requirements\n",
    "***\n",
    "Now that we have a cleaned up version of our daily_values, we can create a monthly summary for Average Minimum Temperature and Average Maximum Temperature. We'll also need to scale the value down by 90%. Luckily, we can handle this all in a single line!"
   ]
  },
  {
   "cell_type": "code",
   "execution_count": 6,
   "id": "237075dc-7c52-4500-87e7-403ea2b8ae6e",
   "metadata": {},
   "outputs": [
    {
     "data": {
      "text/html": [
       "<div><style>\n",
       ".dataframe > thead > tr,\n",
       ".dataframe > tbody > tr {\n",
       "  text-align: right;\n",
       "  white-space: pre-wrap;\n",
       "}\n",
       "</style>\n",
       "<small>shape: (5, 4)</small><table border=\"1\" class=\"dataframe\"><thead><tr><th>DATE</th><th>Element</th><th>filtered_values</th><th>value</th></tr><tr><td>date</td><td>str</td><td>list[f32]</td><td>f32</td></tr></thead><tbody><tr><td>1948-08-01</td><td>&quot;TMAX&quot;</td><td>[233.0, 261.0, … 283.0]</td><td>27.812902</td></tr><tr><td>1948-08-01</td><td>&quot;TMIN&quot;</td><td>[211.0, 200.0, … 172.0]</td><td>19.493549</td></tr><tr><td>1948-09-01</td><td>&quot;TMAX&quot;</td><td>[256.0, 250.0, … 239.0]</td><td>24.969999</td></tr><tr><td>1948-09-01</td><td>&quot;TMIN&quot;</td><td>[144.0, 150.0, … 167.0]</td><td>15.313334</td></tr><tr><td>1948-10-01</td><td>&quot;TMAX&quot;</td><td>[256.0, 261.0, … 200.0]</td><td>17.670967</td></tr></tbody></table></div>"
      ],
      "text/plain": [
       "shape: (5, 4)\n",
       "┌────────────┬─────────┬─────────────────────────┬───────────┐\n",
       "│ DATE       ┆ Element ┆ filtered_values         ┆ value     │\n",
       "│ ---        ┆ ---     ┆ ---                     ┆ ---       │\n",
       "│ date       ┆ str     ┆ list[f32]               ┆ f32       │\n",
       "╞════════════╪═════════╪═════════════════════════╪═══════════╡\n",
       "│ 1948-08-01 ┆ TMAX    ┆ [233.0, 261.0, … 283.0] ┆ 27.812902 │\n",
       "│ 1948-08-01 ┆ TMIN    ┆ [211.0, 200.0, … 172.0] ┆ 19.493549 │\n",
       "│ 1948-09-01 ┆ TMAX    ┆ [256.0, 250.0, … 239.0] ┆ 24.969999 │\n",
       "│ 1948-09-01 ┆ TMIN    ┆ [144.0, 150.0, … 167.0] ┆ 15.313334 │\n",
       "│ 1948-10-01 ┆ TMAX    ┆ [256.0, 261.0, … 200.0] ┆ 17.670967 │\n",
       "└────────────┴─────────┴─────────────────────────┴───────────┘"
      ]
     },
     "execution_count": 6,
     "metadata": {},
     "output_type": "execute_result"
    }
   ],
   "source": [
    "#TODO Run .mean() on TMIN and TMAX\n",
    "df = df.with_columns(\n",
    "    value = pl.col(\"filtered_values\").list.mean() * .1\n",
    "    \n",
    ")\n",
    "\n",
    "df.select([\"DATE\", \"Element\", \"filtered_values\", \"value\"]).head()"
   ]
  },
  {
   "cell_type": "markdown",
   "id": "e688e149-a933-4794-89a4-31f600bc6896",
   "metadata": {},
   "source": []
  },
  {
   "cell_type": "markdown",
   "id": "7196d856-242f-45e3-bebd-e427141f5bb6",
   "metadata": {},
   "source": [
    "#### 2C - Challenging Requirements\n",
    "***\n",
    "We've successfully run calculations on our base elements and decided which values we need to discard using only native Polars expressions. What if we need to compare two base elements? **FOR EXAMPLE**, GSOM also produces Average Temperature by comparing Average Max Temp and Average Min Temp. The real GSOM actually just adds TMAX & TMIN and then divides by two. What if we wanted to be a little more precise and create a list of daily averages and then mean() that? How am I supposed to make it human readable? How does that work?\n",
    "\n",
    "We're going to give ourselves permission to add as many columns as we need to. Just drop them when you're done with your calculations. \"It's free real estate.\" Polars and Panda are meant to operate in columnwise fashion. Operating over many columns is absolutely no problem.\n",
    "\n",
    "The first step will be creating both \"sides\" of our new TAVG elements."
   ]
  },
  {
   "cell_type": "code",
   "execution_count": 7,
   "id": "50d28528-8176-4e8c-9622-86a2f82c999f",
   "metadata": {},
   "outputs": [
    {
     "data": {
      "text/html": [
       "<div><style>\n",
       ".dataframe > thead > tr,\n",
       ".dataframe > tbody > tr {\n",
       "  text-align: right;\n",
       "  white-space: pre-wrap;\n",
       "}\n",
       "</style>\n",
       "<small>shape: (5, 11)</small><table border=\"1\" class=\"dataframe\"><thead><tr><th>STATION</th><th>DATE</th><th>Element</th><th>daily_values</th><th>qc_flags</th><th>days_in_month</th><th>filtered_values</th><th>missing_days</th><th>value</th><th>daily_values_2</th><th>qc_flags_2</th></tr><tr><td>str</td><td>date</td><td>str</td><td>list[f32]</td><td>list[str]</td><td>i32</td><td>list[f32]</td><td>i64</td><td>f32</td><td>list[f32]</td><td>list[str]</td></tr></thead><tbody><tr><td>&quot;USW00094789&quot;</td><td>1948-08-01</td><td>&quot;TMIN&quot;</td><td>[233.0, 261.0, … 283.0]</td><td>[&quot;&quot;, &quot;&quot;, … &quot;&quot;]</td><td>31</td><td>[233.0, 261.0, … 283.0]</td><td>0</td><td>27.812902</td><td>[233.0, 261.0, … 283.0]</td><td>[&quot;&quot;, &quot;&quot;, … &quot;&quot;]</td></tr><tr><td>&quot;USW00094789&quot;</td><td>1948-09-01</td><td>&quot;TMIN&quot;</td><td>[256.0, 250.0, … -9999.0]</td><td>[&quot;&quot;, &quot;&quot;, … &quot;&quot;]</td><td>30</td><td>[256.0, 250.0, … 239.0]</td><td>0</td><td>24.969999</td><td>[256.0, 250.0, … -9999.0]</td><td>[&quot;&quot;, &quot;&quot;, … &quot;&quot;]</td></tr><tr><td>&quot;USW00094789&quot;</td><td>1948-10-01</td><td>&quot;TMIN&quot;</td><td>[256.0, 261.0, … 200.0]</td><td>[&quot;&quot;, &quot;&quot;, … &quot;&quot;]</td><td>31</td><td>[256.0, 261.0, … 200.0]</td><td>0</td><td>17.670967</td><td>[256.0, 261.0, … 200.0]</td><td>[&quot;&quot;, &quot;&quot;, … &quot;&quot;]</td></tr><tr><td>&quot;USW00094789&quot;</td><td>1948-11-01</td><td>&quot;TMIN&quot;</td><td>[172.0, 128.0, … -9999.0]</td><td>[&quot;&quot;, &quot;&quot;, … &quot;&quot;]</td><td>30</td><td>[172.0, 128.0, … 72.0]</td><td>0</td><td>14.173334</td><td>[172.0, 128.0, … -9999.0]</td><td>[&quot;&quot;, &quot;&quot;, … &quot;&quot;]</td></tr><tr><td>&quot;USW00094789&quot;</td><td>1948-12-01</td><td>&quot;TMIN&quot;</td><td>[106.0, 83.0, … 100.0]</td><td>[&quot;&quot;, &quot;&quot;, … &quot;&quot;]</td><td>31</td><td>[106.0, 83.0, … 100.0]</td><td>0</td><td>6.551613</td><td>[106.0, 83.0, … 100.0]</td><td>[&quot;&quot;, &quot;&quot;, … &quot;&quot;]</td></tr></tbody></table></div>"
      ],
      "text/plain": [
       "shape: (5, 11)\n",
       "┌─────────────┬────────────┬─────────┬────────────────┬───┬──────────────┬───────────┬────────────────┬────────────────┐\n",
       "│ STATION     ┆ DATE       ┆ Element ┆ daily_values   ┆ … ┆ missing_days ┆ value     ┆ daily_values_2 ┆ qc_flags_2     │\n",
       "│ ---         ┆ ---        ┆ ---     ┆ ---            ┆   ┆ ---          ┆ ---       ┆ ---            ┆ ---            │\n",
       "│ str         ┆ date       ┆ str     ┆ list[f32]      ┆   ┆ i64          ┆ f32       ┆ list[f32]      ┆ list[str]      │\n",
       "╞═════════════╪════════════╪═════════╪════════════════╪═══╪══════════════╪═══════════╪════════════════╪════════════════╡\n",
       "│ USW00094789 ┆ 1948-08-01 ┆ TMIN    ┆ [233.0, 261.0, ┆ … ┆ 0            ┆ 27.812902 ┆ [233.0, 261.0, ┆ [\"\", \"\", … \"\"] │\n",
       "│             ┆            ┆         ┆ … 283.0]       ┆   ┆              ┆           ┆ … 283.0]       ┆                │\n",
       "│ USW00094789 ┆ 1948-09-01 ┆ TMIN    ┆ [256.0, 250.0, ┆ … ┆ 0            ┆ 24.969999 ┆ [256.0, 250.0, ┆ [\"\", \"\", … \"\"] │\n",
       "│             ┆            ┆         ┆ … -9999.0]     ┆   ┆              ┆           ┆ … -9999.0]     ┆                │\n",
       "│ USW00094789 ┆ 1948-10-01 ┆ TMIN    ┆ [256.0, 261.0, ┆ … ┆ 0            ┆ 17.670967 ┆ [256.0, 261.0, ┆ [\"\", \"\", … \"\"] │\n",
       "│             ┆            ┆         ┆ … 200.0]       ┆   ┆              ┆           ┆ … 200.0]       ┆                │\n",
       "│ USW00094789 ┆ 1948-11-01 ┆ TMIN    ┆ [172.0, 128.0, ┆ … ┆ 0            ┆ 14.173334 ┆ [172.0, 128.0, ┆ [\"\", \"\", … \"\"] │\n",
       "│             ┆            ┆         ┆ … -9999.0]     ┆   ┆              ┆           ┆ … -9999.0]     ┆                │\n",
       "│ USW00094789 ┆ 1948-12-01 ┆ TMIN    ┆ [106.0, 83.0,  ┆ … ┆ 0            ┆ 6.551613  ┆ [106.0, 83.0,  ┆ [\"\", \"\", … \"\"] │\n",
       "│             ┆            ┆         ┆ … 100.0]       ┆   ┆              ┆           ┆ … 100.0]       ┆                │\n",
       "└─────────────┴────────────┴─────────┴────────────────┴───┴──────────────┴───────────┴────────────────┴────────────────┘"
      ]
     },
     "execution_count": 7,
     "metadata": {},
     "output_type": "execute_result"
    }
   ],
   "source": [
    "#TODO Create TAVG with the \"free real estate\" method\n",
    "#Let's start by grabbing all of the TMIN. They'll be the \"left side\" of our join.\n",
    "tavg = df.filter(pl.col(\"Element\")==\"TMIN\")\n",
    "\n",
    "#Now let's grab our tmax rows and change the name of our list columns\n",
    "tmax = df.filter(\n",
    "    pl.col(\"Element\")==\"TMAX\"\n",
    ").with_columns(\n",
    "    daily_values_2 = pl.col(\"daily_values\"),\n",
    "    qc_flags_2 = pl.col(\"qc_flags\")\n",
    ")#.select([\"DATE\", \"Element\", \"daily_values_2\", \"qc_flags_2\"])\n",
    "\n",
    "#We change the element name to prepare for the join. \n",
    "#We use pl.lit() for literal values\n",
    "tmax = tmax.with_columns(\n",
    "    Element = pl.lit(\"TMIN\")\n",
    ")\n",
    "\n",
    "tmax.head()"
   ]
  },
  {
   "cell_type": "markdown",
   "id": "c65be41f-9917-4b40-8f93-1fd069129ea3",
   "metadata": {},
   "source": [
    "Let's use the join() expression to create our TAVG rows with everything they'll need to be calculated."
   ]
  },
  {
   "cell_type": "code",
   "execution_count": 8,
   "id": "ed61e49d-484d-4051-8b78-d0d08faf5f02",
   "metadata": {},
   "outputs": [
    {
     "data": {
      "text/html": [
       "<div><style>\n",
       ".dataframe > thead > tr,\n",
       ".dataframe > tbody > tr {\n",
       "  text-align: right;\n",
       "  white-space: pre-wrap;\n",
       "}\n",
       "</style>\n",
       "<small>shape: (5, 11)</small><table border=\"1\" class=\"dataframe\"><thead><tr><th>STATION</th><th>DATE</th><th>Element</th><th>daily_values</th><th>qc_flags</th><th>days_in_month</th><th>filtered_values</th><th>missing_days</th><th>value</th><th>daily_values_2</th><th>qc_flags_2</th></tr><tr><td>str</td><td>date</td><td>str</td><td>list[f32]</td><td>list[str]</td><td>i32</td><td>list[f32]</td><td>i64</td><td>f32</td><td>list[f32]</td><td>list[str]</td></tr></thead><tbody><tr><td>&quot;USW00094789&quot;</td><td>1948-08-01</td><td>&quot;TAVG&quot;</td><td>[211.0, 200.0, … 172.0]</td><td>[&quot;&quot;, &quot;&quot;, … &quot;&quot;]</td><td>31</td><td>[211.0, 200.0, … 172.0]</td><td>0</td><td>19.493549</td><td>[233.0, 261.0, … 283.0]</td><td>[&quot;&quot;, &quot;&quot;, … &quot;&quot;]</td></tr><tr><td>&quot;USW00094789&quot;</td><td>1948-09-01</td><td>&quot;TAVG&quot;</td><td>[144.0, 150.0, … -9999.0]</td><td>[&quot;&quot;, &quot;&quot;, … &quot;&quot;]</td><td>30</td><td>[144.0, 150.0, … 167.0]</td><td>0</td><td>15.313334</td><td>[256.0, 250.0, … -9999.0]</td><td>[&quot;&quot;, &quot;&quot;, … &quot;&quot;]</td></tr><tr><td>&quot;USW00094789&quot;</td><td>1948-10-01</td><td>&quot;TAVG&quot;</td><td>[167.0, 161.0, … 67.0]</td><td>[&quot;&quot;, &quot;&quot;, … &quot;&quot;]</td><td>31</td><td>[167.0, 161.0, … 67.0]</td><td>0</td><td>8.841936</td><td>[256.0, 261.0, … 200.0]</td><td>[&quot;&quot;, &quot;&quot;, … &quot;&quot;]</td></tr><tr><td>&quot;USW00094789&quot;</td><td>1948-11-01</td><td>&quot;TAVG&quot;</td><td>[100.0, 56.0, … -9999.0]</td><td>[&quot;&quot;, &quot;&quot;, … &quot;&quot;]</td><td>30</td><td>[100.0, 56.0, … -6.0]</td><td>0</td><td>6.6</td><td>[172.0, 128.0, … -9999.0]</td><td>[&quot;&quot;, &quot;&quot;, … &quot;&quot;]</td></tr><tr><td>&quot;USW00094789&quot;</td><td>1948-12-01</td><td>&quot;TAVG&quot;</td><td>[22.0, -6.0, … -39.0]</td><td>[&quot;&quot;, &quot;&quot;, … &quot;&quot;]</td><td>31</td><td>[22.0, -6.0, … -39.0]</td><td>0</td><td>-1.148387</td><td>[106.0, 83.0, … 100.0]</td><td>[&quot;&quot;, &quot;&quot;, … &quot;&quot;]</td></tr></tbody></table></div>"
      ],
      "text/plain": [
       "shape: (5, 11)\n",
       "┌─────────────┬────────────┬─────────┬────────────────┬───┬──────────────┬───────────┬────────────────┬────────────────┐\n",
       "│ STATION     ┆ DATE       ┆ Element ┆ daily_values   ┆ … ┆ missing_days ┆ value     ┆ daily_values_2 ┆ qc_flags_2     │\n",
       "│ ---         ┆ ---        ┆ ---     ┆ ---            ┆   ┆ ---          ┆ ---       ┆ ---            ┆ ---            │\n",
       "│ str         ┆ date       ┆ str     ┆ list[f32]      ┆   ┆ i64          ┆ f32       ┆ list[f32]      ┆ list[str]      │\n",
       "╞═════════════╪════════════╪═════════╪════════════════╪═══╪══════════════╪═══════════╪════════════════╪════════════════╡\n",
       "│ USW00094789 ┆ 1948-08-01 ┆ TAVG    ┆ [211.0, 200.0, ┆ … ┆ 0            ┆ 19.493549 ┆ [233.0, 261.0, ┆ [\"\", \"\", … \"\"] │\n",
       "│             ┆            ┆         ┆ … 172.0]       ┆   ┆              ┆           ┆ … 283.0]       ┆                │\n",
       "│ USW00094789 ┆ 1948-09-01 ┆ TAVG    ┆ [144.0, 150.0, ┆ … ┆ 0            ┆ 15.313334 ┆ [256.0, 250.0, ┆ [\"\", \"\", … \"\"] │\n",
       "│             ┆            ┆         ┆ … -9999.0]     ┆   ┆              ┆           ┆ … -9999.0]     ┆                │\n",
       "│ USW00094789 ┆ 1948-10-01 ┆ TAVG    ┆ [167.0, 161.0, ┆ … ┆ 0            ┆ 8.841936  ┆ [256.0, 261.0, ┆ [\"\", \"\", … \"\"] │\n",
       "│             ┆            ┆         ┆ … 67.0]        ┆   ┆              ┆           ┆ … 200.0]       ┆                │\n",
       "│ USW00094789 ┆ 1948-11-01 ┆ TAVG    ┆ [100.0, 56.0,  ┆ … ┆ 0            ┆ 6.6       ┆ [172.0, 128.0, ┆ [\"\", \"\", … \"\"] │\n",
       "│             ┆            ┆         ┆ … -9999.0]     ┆   ┆              ┆           ┆ … -9999.0]     ┆                │\n",
       "│ USW00094789 ┆ 1948-12-01 ┆ TAVG    ┆ [22.0, -6.0, … ┆ … ┆ 0            ┆ -1.148387 ┆ [106.0, 83.0,  ┆ [\"\", \"\", … \"\"] │\n",
       "│             ┆            ┆         ┆ -39.0]         ┆   ┆              ┆           ┆ … 100.0]       ┆                │\n",
       "└─────────────┴────────────┴─────────┴────────────────┴───┴──────────────┴───────────┴────────────────┴────────────────┘"
      ]
     },
     "execution_count": 8,
     "metadata": {},
     "output_type": "execute_result"
    }
   ],
   "source": [
    "tavg = tavg.join(\n",
    "            tmax, on=[\"DATE\", \"Element\"], how=\"left\"\n",
    "        ).with_columns(\n",
    "            Element = pl.lit(\"TAVG\")\n",
    "        )\n",
    "#Saving the columns we need for the vertical stack manually\n",
    "#In this case I've only got 11 columns, so brute force is ok\n",
    "#If you try to vstack tables with mismatched width, you're gonna have a real bad time.\n",
    "tavg = tavg.select([\"STATION\", \"DATE\", \"Element\", \"daily_values\", \"qc_flags\", \"days_in_month\", \"filtered_values\", \"missing_days\", \"value\", \"daily_values_2\", \"qc_flags_2\"])\n",
    "tavg.head()"
   ]
  },
  {
   "cell_type": "code",
   "execution_count": 9,
   "id": "6df32cc8-bc43-4071-a696-35ed6ac3217b",
   "metadata": {},
   "outputs": [
    {
     "data": {
      "text/html": [
       "<div><style>\n",
       ".dataframe > thead > tr,\n",
       ".dataframe > tbody > tr {\n",
       "  text-align: right;\n",
       "  white-space: pre-wrap;\n",
       "}\n",
       "</style>\n",
       "<small>shape: (5, 11)</small><table border=\"1\" class=\"dataframe\"><thead><tr><th>STATION</th><th>DATE</th><th>Element</th><th>daily_values</th><th>qc_flags</th><th>days_in_month</th><th>filtered_values</th><th>missing_days</th><th>value</th><th>daily_values_2</th><th>qc_flags_2</th></tr><tr><td>str</td><td>date</td><td>str</td><td>list[f32]</td><td>list[str]</td><td>i32</td><td>list[f32]</td><td>i64</td><td>f32</td><td>list[f32]</td><td>list[str]</td></tr></thead><tbody><tr><td>&quot;USW00094789&quot;</td><td>1948-08-01</td><td>&quot;TMAX&quot;</td><td>[233.0, 261.0, … 283.0]</td><td>[&quot;&quot;, &quot;&quot;, … &quot;&quot;]</td><td>31</td><td>[233.0, 261.0, … 283.0]</td><td>0</td><td>27.812902</td><td>[]</td><td>[]</td></tr><tr><td>&quot;USW00094789&quot;</td><td>1948-08-01</td><td>&quot;TMIN&quot;</td><td>[211.0, 200.0, … 172.0]</td><td>[&quot;&quot;, &quot;&quot;, … &quot;&quot;]</td><td>31</td><td>[211.0, 200.0, … 172.0]</td><td>0</td><td>19.493549</td><td>[]</td><td>[]</td></tr><tr><td>&quot;USW00094789&quot;</td><td>1948-08-01</td><td>&quot;TAVG&quot;</td><td>[211.0, 200.0, … 172.0]</td><td>[&quot;&quot;, &quot;&quot;, … &quot;&quot;]</td><td>31</td><td>[211.0, 200.0, … 172.0]</td><td>0</td><td>19.493549</td><td>[233.0, 261.0, … 283.0]</td><td>[&quot;&quot;, &quot;&quot;, … &quot;&quot;]</td></tr><tr><td>&quot;USW00094789&quot;</td><td>1948-09-01</td><td>&quot;TMAX&quot;</td><td>[256.0, 250.0, … -9999.0]</td><td>[&quot;&quot;, &quot;&quot;, … &quot;&quot;]</td><td>30</td><td>[256.0, 250.0, … 239.0]</td><td>0</td><td>24.969999</td><td>[]</td><td>[]</td></tr><tr><td>&quot;USW00094789&quot;</td><td>1948-09-01</td><td>&quot;TMIN&quot;</td><td>[144.0, 150.0, … -9999.0]</td><td>[&quot;&quot;, &quot;&quot;, … &quot;&quot;]</td><td>30</td><td>[144.0, 150.0, … 167.0]</td><td>0</td><td>15.313334</td><td>[]</td><td>[]</td></tr></tbody></table></div>"
      ],
      "text/plain": [
       "shape: (5, 11)\n",
       "┌─────────────┬────────────┬─────────┬────────────────┬───┬──────────────┬───────────┬────────────────┬────────────────┐\n",
       "│ STATION     ┆ DATE       ┆ Element ┆ daily_values   ┆ … ┆ missing_days ┆ value     ┆ daily_values_2 ┆ qc_flags_2     │\n",
       "│ ---         ┆ ---        ┆ ---     ┆ ---            ┆   ┆ ---          ┆ ---       ┆ ---            ┆ ---            │\n",
       "│ str         ┆ date       ┆ str     ┆ list[f32]      ┆   ┆ i64          ┆ f32       ┆ list[f32]      ┆ list[str]      │\n",
       "╞═════════════╪════════════╪═════════╪════════════════╪═══╪══════════════╪═══════════╪════════════════╪════════════════╡\n",
       "│ USW00094789 ┆ 1948-08-01 ┆ TMAX    ┆ [233.0, 261.0, ┆ … ┆ 0            ┆ 27.812902 ┆ []             ┆ []             │\n",
       "│             ┆            ┆         ┆ … 283.0]       ┆   ┆              ┆           ┆                ┆                │\n",
       "│ USW00094789 ┆ 1948-08-01 ┆ TMIN    ┆ [211.0, 200.0, ┆ … ┆ 0            ┆ 19.493549 ┆ []             ┆ []             │\n",
       "│             ┆            ┆         ┆ … 172.0]       ┆   ┆              ┆           ┆                ┆                │\n",
       "│ USW00094789 ┆ 1948-08-01 ┆ TAVG    ┆ [211.0, 200.0, ┆ … ┆ 0            ┆ 19.493549 ┆ [233.0, 261.0, ┆ [\"\", \"\", … \"\"] │\n",
       "│             ┆            ┆         ┆ … 172.0]       ┆   ┆              ┆           ┆ … 283.0]       ┆                │\n",
       "│ USW00094789 ┆ 1948-09-01 ┆ TMAX    ┆ [256.0, 250.0, ┆ … ┆ 0            ┆ 24.969999 ┆ []             ┆ []             │\n",
       "│             ┆            ┆         ┆ … -9999.0]     ┆   ┆              ┆           ┆                ┆                │\n",
       "│ USW00094789 ┆ 1948-09-01 ┆ TMIN    ┆ [144.0, 150.0, ┆ … ┆ 0            ┆ 15.313334 ┆ []             ┆ []             │\n",
       "│             ┆            ┆         ┆ … -9999.0]     ┆   ┆              ┆           ┆                ┆                │\n",
       "└─────────────┴────────────┴─────────┴────────────────┴───┴──────────────┴───────────┴────────────────┴────────────────┘"
      ]
     },
     "execution_count": 9,
     "metadata": {},
     "output_type": "execute_result"
    }
   ],
   "source": [
    "#Add blank columns for daily_values_2 and qc_flags_2 \n",
    "#so we don't break the vstack\n",
    "df = df.with_columns(\n",
    "    daily_values_2 = [],\n",
    "    qc_flags_2 = []\n",
    ").with_columns(\n",
    "    pl.col(\"daily_values_2\").cast(pl.List(pl.Float32)),\n",
    "    pl.col(\"qc_flags_2\").cast(pl.List(pl.String))\n",
    ")\n",
    "\n",
    "#Finally insert our derived \n",
    "df = df.vstack(tavg).sort(\"DATE\")\n",
    "df.head()"
   ]
  },
  {
   "cell_type": "code",
   "execution_count": 10,
   "id": "cd9f3fc6-4e67-405e-a104-e70a5817e515",
   "metadata": {},
   "outputs": [
    {
     "data": {
      "text/html": [
       "<div><style>\n",
       ".dataframe > thead > tr,\n",
       ".dataframe > tbody > tr {\n",
       "  text-align: right;\n",
       "  white-space: pre-wrap;\n",
       "}\n",
       "</style>\n",
       "<small>shape: (5, 135)</small><table border=\"1\" class=\"dataframe\"><thead><tr><th>STATION</th><th>DATE</th><th>Element</th><th>daily_values</th><th>qc_flags</th><th>days_in_month</th><th>filtered_values</th><th>missing_days</th><th>value</th><th>daily_values_2</th><th>qc_flags_2</th><th>tmin_0</th><th>tmin_1</th><th>tmin_2</th><th>tmin_3</th><th>tmin_4</th><th>tmin_5</th><th>tmin_6</th><th>tmin_7</th><th>tmin_8</th><th>tmin_9</th><th>tmin_10</th><th>tmin_11</th><th>tmin_12</th><th>tmin_13</th><th>tmin_14</th><th>tmin_15</th><th>tmin_16</th><th>tmin_17</th><th>tmin_18</th><th>tmin_19</th><th>tmin_20</th><th>tmin_21</th><th>tmin_22</th><th>tmin_23</th><th>tmin_24</th><th>tmin_25</th><th>&hellip;</th><th>min_qc_25</th><th>min_qc_26</th><th>min_qc_27</th><th>min_qc_28</th><th>min_qc_29</th><th>min_qc_30</th><th>max_qc_0</th><th>max_qc_1</th><th>max_qc_2</th><th>max_qc_3</th><th>max_qc_4</th><th>max_qc_5</th><th>max_qc_6</th><th>max_qc_7</th><th>max_qc_8</th><th>max_qc_9</th><th>max_qc_10</th><th>max_qc_11</th><th>max_qc_12</th><th>max_qc_13</th><th>max_qc_14</th><th>max_qc_15</th><th>max_qc_16</th><th>max_qc_17</th><th>max_qc_18</th><th>max_qc_19</th><th>max_qc_20</th><th>max_qc_21</th><th>max_qc_22</th><th>max_qc_23</th><th>max_qc_24</th><th>max_qc_25</th><th>max_qc_26</th><th>max_qc_27</th><th>max_qc_28</th><th>max_qc_29</th><th>max_qc_30</th></tr><tr><td>str</td><td>date</td><td>str</td><td>list[f32]</td><td>list[str]</td><td>i32</td><td>list[f32]</td><td>i64</td><td>f32</td><td>list[f32]</td><td>list[str]</td><td>f32</td><td>f32</td><td>f32</td><td>f32</td><td>f32</td><td>f32</td><td>f32</td><td>f32</td><td>f32</td><td>f32</td><td>f32</td><td>f32</td><td>f32</td><td>f32</td><td>f32</td><td>f32</td><td>f32</td><td>f32</td><td>f32</td><td>f32</td><td>f32</td><td>f32</td><td>f32</td><td>f32</td><td>f32</td><td>f32</td><td>&hellip;</td><td>str</td><td>str</td><td>str</td><td>str</td><td>str</td><td>str</td><td>str</td><td>str</td><td>str</td><td>str</td><td>str</td><td>str</td><td>str</td><td>str</td><td>str</td><td>str</td><td>str</td><td>str</td><td>str</td><td>str</td><td>str</td><td>str</td><td>str</td><td>str</td><td>str</td><td>str</td><td>str</td><td>str</td><td>str</td><td>str</td><td>str</td><td>str</td><td>str</td><td>str</td><td>str</td><td>str</td><td>str</td></tr></thead><tbody><tr><td>&quot;USW00094789&quot;</td><td>1948-08-01</td><td>&quot;TMAX&quot;</td><td>[233.0, 261.0, … 283.0]</td><td>[&quot;&quot;, &quot;&quot;, … &quot;&quot;]</td><td>31</td><td>[233.0, 261.0, … 283.0]</td><td>0</td><td>27.812902</td><td>[]</td><td>[]</td><td>233.0</td><td>261.0</td><td>239.0</td><td>239.0</td><td>222.0</td><td>233.0</td><td>256.0</td><td>250.0</td><td>278.0</td><td>267.0</td><td>261.0</td><td>239.0</td><td>272.0</td><td>289.0</td><td>311.0</td><td>289.0</td><td>267.0</td><td>244.0</td><td>261.0</td><td>222.0</td><td>267.0</td><td>256.0</td><td>272.0</td><td>261.0</td><td>344.0</td><td>378.0</td><td>&hellip;</td><td>&quot;&quot;</td><td>&quot;&quot;</td><td>&quot;&quot;</td><td>&quot;&quot;</td><td>&quot;&quot;</td><td>&quot;&quot;</td><td>null</td><td>null</td><td>null</td><td>null</td><td>null</td><td>null</td><td>null</td><td>null</td><td>null</td><td>null</td><td>null</td><td>null</td><td>null</td><td>null</td><td>null</td><td>null</td><td>null</td><td>null</td><td>null</td><td>null</td><td>null</td><td>null</td><td>null</td><td>null</td><td>null</td><td>null</td><td>null</td><td>null</td><td>null</td><td>null</td><td>null</td></tr><tr><td>&quot;USW00094789&quot;</td><td>1948-08-01</td><td>&quot;TMIN&quot;</td><td>[211.0, 200.0, … 172.0]</td><td>[&quot;&quot;, &quot;&quot;, … &quot;&quot;]</td><td>31</td><td>[211.0, 200.0, … 172.0]</td><td>0</td><td>19.493549</td><td>[]</td><td>[]</td><td>211.0</td><td>200.0</td><td>189.0</td><td>206.0</td><td>194.0</td><td>167.0</td><td>150.0</td><td>161.0</td><td>172.0</td><td>167.0</td><td>161.0</td><td>206.0</td><td>206.0</td><td>189.0</td><td>172.0</td><td>189.0</td><td>178.0</td><td>183.0</td><td>200.0</td><td>194.0</td><td>183.0</td><td>183.0</td><td>183.0</td><td>194.0</td><td>217.0</td><td>244.0</td><td>&hellip;</td><td>&quot;&quot;</td><td>&quot;&quot;</td><td>&quot;&quot;</td><td>&quot;&quot;</td><td>&quot;&quot;</td><td>&quot;&quot;</td><td>null</td><td>null</td><td>null</td><td>null</td><td>null</td><td>null</td><td>null</td><td>null</td><td>null</td><td>null</td><td>null</td><td>null</td><td>null</td><td>null</td><td>null</td><td>null</td><td>null</td><td>null</td><td>null</td><td>null</td><td>null</td><td>null</td><td>null</td><td>null</td><td>null</td><td>null</td><td>null</td><td>null</td><td>null</td><td>null</td><td>null</td></tr><tr><td>&quot;USW00094789&quot;</td><td>1948-08-01</td><td>&quot;TAVG&quot;</td><td>[211.0, 200.0, … 172.0]</td><td>[&quot;&quot;, &quot;&quot;, … &quot;&quot;]</td><td>31</td><td>[211.0, 200.0, … 172.0]</td><td>0</td><td>19.493549</td><td>[233.0, 261.0, … 283.0]</td><td>[&quot;&quot;, &quot;&quot;, … &quot;&quot;]</td><td>211.0</td><td>200.0</td><td>189.0</td><td>206.0</td><td>194.0</td><td>167.0</td><td>150.0</td><td>161.0</td><td>172.0</td><td>167.0</td><td>161.0</td><td>206.0</td><td>206.0</td><td>189.0</td><td>172.0</td><td>189.0</td><td>178.0</td><td>183.0</td><td>200.0</td><td>194.0</td><td>183.0</td><td>183.0</td><td>183.0</td><td>194.0</td><td>217.0</td><td>244.0</td><td>&hellip;</td><td>&quot;&quot;</td><td>&quot;&quot;</td><td>&quot;&quot;</td><td>&quot;&quot;</td><td>&quot;&quot;</td><td>&quot;&quot;</td><td>&quot;&quot;</td><td>&quot;&quot;</td><td>&quot;&quot;</td><td>&quot;&quot;</td><td>&quot;&quot;</td><td>&quot;&quot;</td><td>&quot;&quot;</td><td>&quot;&quot;</td><td>&quot;&quot;</td><td>&quot;&quot;</td><td>&quot;&quot;</td><td>&quot;&quot;</td><td>&quot;&quot;</td><td>&quot;&quot;</td><td>&quot;&quot;</td><td>&quot;&quot;</td><td>&quot;&quot;</td><td>&quot;&quot;</td><td>&quot;&quot;</td><td>&quot;&quot;</td><td>&quot;&quot;</td><td>&quot;&quot;</td><td>&quot;&quot;</td><td>&quot;&quot;</td><td>&quot;&quot;</td><td>&quot;&quot;</td><td>&quot;&quot;</td><td>&quot;&quot;</td><td>&quot;&quot;</td><td>&quot;&quot;</td><td>&quot;&quot;</td></tr><tr><td>&quot;USW00094789&quot;</td><td>1948-09-01</td><td>&quot;TMAX&quot;</td><td>[256.0, 250.0, … -9999.0]</td><td>[&quot;&quot;, &quot;&quot;, … &quot;&quot;]</td><td>30</td><td>[256.0, 250.0, … 239.0]</td><td>0</td><td>24.969999</td><td>[]</td><td>[]</td><td>256.0</td><td>250.0</td><td>244.0</td><td>256.0</td><td>261.0</td><td>256.0</td><td>261.0</td><td>261.0</td><td>278.0</td><td>233.0</td><td>250.0</td><td>272.0</td><td>278.0</td><td>272.0</td><td>233.0</td><td>217.0</td><td>217.0</td><td>300.0</td><td>278.0</td><td>267.0</td><td>233.0</td><td>217.0</td><td>211.0</td><td>189.0</td><td>217.0</td><td>228.0</td><td>&hellip;</td><td>&quot;&quot;</td><td>&quot;&quot;</td><td>&quot;&quot;</td><td>&quot;&quot;</td><td>&quot;&quot;</td><td>&quot;&quot;</td><td>null</td><td>null</td><td>null</td><td>null</td><td>null</td><td>null</td><td>null</td><td>null</td><td>null</td><td>null</td><td>null</td><td>null</td><td>null</td><td>null</td><td>null</td><td>null</td><td>null</td><td>null</td><td>null</td><td>null</td><td>null</td><td>null</td><td>null</td><td>null</td><td>null</td><td>null</td><td>null</td><td>null</td><td>null</td><td>null</td><td>null</td></tr><tr><td>&quot;USW00094789&quot;</td><td>1948-09-01</td><td>&quot;TMIN&quot;</td><td>[144.0, 150.0, … -9999.0]</td><td>[&quot;&quot;, &quot;&quot;, … &quot;&quot;]</td><td>30</td><td>[144.0, 150.0, … 167.0]</td><td>0</td><td>15.313334</td><td>[]</td><td>[]</td><td>144.0</td><td>150.0</td><td>183.0</td><td>172.0</td><td>183.0</td><td>167.0</td><td>178.0</td><td>189.0</td><td>211.0</td><td>172.0</td><td>161.0</td><td>178.0</td><td>200.0</td><td>172.0</td><td>133.0</td><td>117.0</td><td>106.0</td><td>178.0</td><td>189.0</td><td>194.0</td><td>139.0</td><td>100.0</td><td>100.0</td><td>128.0</td><td>122.0</td><td>100.0</td><td>&hellip;</td><td>&quot;&quot;</td><td>&quot;&quot;</td><td>&quot;&quot;</td><td>&quot;&quot;</td><td>&quot;&quot;</td><td>&quot;&quot;</td><td>null</td><td>null</td><td>null</td><td>null</td><td>null</td><td>null</td><td>null</td><td>null</td><td>null</td><td>null</td><td>null</td><td>null</td><td>null</td><td>null</td><td>null</td><td>null</td><td>null</td><td>null</td><td>null</td><td>null</td><td>null</td><td>null</td><td>null</td><td>null</td><td>null</td><td>null</td><td>null</td><td>null</td><td>null</td><td>null</td><td>null</td></tr></tbody></table></div>"
      ],
      "text/plain": [
       "shape: (5, 135)\n",
       "┌─────────────┬────────────┬─────────┬───────────────────────────┬───┬───────────┬───────────┬───────────┬───────────┐\n",
       "│ STATION     ┆ DATE       ┆ Element ┆ daily_values              ┆ … ┆ max_qc_27 ┆ max_qc_28 ┆ max_qc_29 ┆ max_qc_30 │\n",
       "│ ---         ┆ ---        ┆ ---     ┆ ---                       ┆   ┆ ---       ┆ ---       ┆ ---       ┆ ---       │\n",
       "│ str         ┆ date       ┆ str     ┆ list[f32]                 ┆   ┆ str       ┆ str       ┆ str       ┆ str       │\n",
       "╞═════════════╪════════════╪═════════╪═══════════════════════════╪═══╪═══════════╪═══════════╪═══════════╪═══════════╡\n",
       "│ USW00094789 ┆ 1948-08-01 ┆ TMAX    ┆ [233.0, 261.0, … 283.0]   ┆ … ┆ null      ┆ null      ┆ null      ┆ null      │\n",
       "│ USW00094789 ┆ 1948-08-01 ┆ TMIN    ┆ [211.0, 200.0, … 172.0]   ┆ … ┆ null      ┆ null      ┆ null      ┆ null      │\n",
       "│ USW00094789 ┆ 1948-08-01 ┆ TAVG    ┆ [211.0, 200.0, … 172.0]   ┆ … ┆           ┆           ┆           ┆           │\n",
       "│ USW00094789 ┆ 1948-09-01 ┆ TMAX    ┆ [256.0, 250.0, … -9999.0] ┆ … ┆ null      ┆ null      ┆ null      ┆ null      │\n",
       "│ USW00094789 ┆ 1948-09-01 ┆ TMIN    ┆ [144.0, 150.0, … -9999.0] ┆ … ┆ null      ┆ null      ┆ null      ┆ null      │\n",
       "└─────────────┴────────────┴─────────┴───────────────────────────┴───┴───────────┴───────────┴───────────┴───────────┘"
      ]
     },
     "execution_count": 10,
     "metadata": {},
     "output_type": "execute_result"
    }
   ],
   "source": [
    "tmin_vals = [\"tmin_\" + str(i) for i in range(31)]\n",
    "tmax_vals = [\"tmax_\" + str(i) for i in range(31)]\n",
    "min_qc_flags = [\"min_qc_\" + str(i) for i in range(31)]\n",
    "max_qc_flags = [\"max_qc_\" + str(i) for i in range(31)]\n",
    "\n",
    "df = df.with_columns(\n",
    "        df.select( \n",
    "            pl.col.daily_values.list.to_struct(fields=tmin_vals)\n",
    "        ).unnest(\"daily_values\")\n",
    "    ).with_columns(\n",
    "         df.select( \n",
    "            pl.col.daily_values_2.list.to_struct(fields=tmax_vals)\n",
    "        ).unnest(\"daily_values_2\")\n",
    "    ).with_columns(\n",
    "        df.select( \n",
    "            pl.col.qc_flags.list.to_struct(fields=min_qc_flags)\n",
    "        ).unnest(\"qc_flags\")\n",
    "    ).with_columns(\n",
    "        df.select( \n",
    "            pl.col.qc_flags_2.list.to_struct(fields=max_qc_flags)\n",
    "        ).unnest(\"qc_flags_2\")\n",
    "    )\n",
    "\n",
    "df.head()"
   ]
  },
  {
   "cell_type": "markdown",
   "id": "89141145-b3c2-45ab-9631-c71daae54bf4",
   "metadata": {},
   "source": [
    "**135 columns?** Have you lost your mind, Brodie?!\n",
    "\n",
    "Just remember your mantra, kids:\n",
    "\n",
    "<img src=\"imgs/free_real_estate.png\" alt=\"image\" width=\"500\" height=\"auto\">\n",
    "\n",
    "\n",
    "OK. I promise we're almost there! So how are we supposed to write a query that compares 125 columns? We're going to dynamically build 31 queries using a loop. I know I titled the presentation \"Breaking Out of the Loop\", but we're really going to want to make an exception here. "
   ]
  },
  {
   "cell_type": "code",
   "execution_count": 21,
   "id": "b1b3dee5-0ef2-4cda-9bf9-b802925775ce",
   "metadata": {},
   "outputs": [
    {
     "data": {
      "text/html": [
       "<div><style>\n",
       ".dataframe > thead > tr,\n",
       ".dataframe > tbody > tr {\n",
       "  text-align: right;\n",
       "  white-space: pre-wrap;\n",
       "}\n",
       "</style>\n",
       "<small>shape: (5, 3)</small><table border=\"1\" class=\"dataframe\"><thead><tr><th>Element</th><th>DATE</th><th>daily_averages</th></tr><tr><td>str</td><td>date</td><td>list[f32]</td></tr></thead><tbody><tr><td>&quot;TAVG&quot;</td><td>1948-08-01</td><td>[22.200001, 23.050001, … 22.75]</td></tr><tr><td>&quot;TAVG&quot;</td><td>1948-09-01</td><td>[20.0, 20.0, … -9999.0]</td></tr><tr><td>&quot;TAVG&quot;</td><td>1948-10-01</td><td>[21.15, 21.1, … 13.35]</td></tr><tr><td>&quot;TAVG&quot;</td><td>1948-11-01</td><td>[13.6, 9.2, … -9999.0]</td></tr><tr><td>&quot;TAVG&quot;</td><td>1948-12-01</td><td>[6.4, 3.85, … 3.05]</td></tr></tbody></table></div>"
      ],
      "text/plain": [
       "shape: (5, 3)\n",
       "┌─────────┬────────────┬─────────────────────────────────┐\n",
       "│ Element ┆ DATE       ┆ daily_averages                  │\n",
       "│ ---     ┆ ---        ┆ ---                             │\n",
       "│ str     ┆ date       ┆ list[f32]                       │\n",
       "╞═════════╪════════════╪═════════════════════════════════╡\n",
       "│ TAVG    ┆ 1948-08-01 ┆ [22.200001, 23.050001, … 22.75… │\n",
       "│ TAVG    ┆ 1948-09-01 ┆ [20.0, 20.0, … -9999.0]         │\n",
       "│ TAVG    ┆ 1948-10-01 ┆ [21.15, 21.1, … 13.35]          │\n",
       "│ TAVG    ┆ 1948-11-01 ┆ [13.6, 9.2, … -9999.0]          │\n",
       "│ TAVG    ┆ 1948-12-01 ┆ [6.4, 3.85, … 3.05]             │\n",
       "└─────────┴────────────┴─────────────────────────────────┘"
      ]
     },
     "execution_count": 21,
     "metadata": {},
     "output_type": "execute_result"
    }
   ],
   "source": [
    "daily_average_expressions = []\n",
    "daily_averages = [\"da_\" + str(i) for i in range(31)]\n",
    "\n",
    "for v, v2, qc, qc2, dv in zip(tmin_vals, tmax_vals, min_qc_flags, max_qc_flags, daily_averages):\n",
    "    daily_average_expressions.append(\n",
    "        pl.when(\n",
    "            pl.col(\"Element\").is_in([\"TAVG\"]) \n",
    "            & ~pl.col( v ).is_in([-9999.0])\n",
    "            & pl.col( qc ).is_in([\"\"])\n",
    "            & ~pl.col( v2 ).is_in([-9999.0])\n",
    "            & pl.col( qc2 ).is_in([\"\"])\n",
    "        ).then(\n",
    "            ((pl.col(v) + pl.col(v2))/2)*.1\n",
    "        ).otherwise(\n",
    "            -9999.0\n",
    "        ).alias(dv)\n",
    "    )\n",
    "\n",
    "#\n",
    "import polars.selectors as cs\n",
    "\n",
    "df = df.with_columns(\n",
    "            daily_average_expressions\n",
    "        ).with_columns(\n",
    "            daily_averages = pl.concat_list(cs.matches(\".*da_.*\"))\n",
    "        )\n",
    "\n",
    "df.filter(pl.col.Element.is_in([\"TAVG\"])).select([\"Element\", \"DATE\", \"daily_averages\"]).head()"
   ]
  },
  {
   "cell_type": "markdown",
   "id": "9675a2df-46a4-4f58-83d5-07f7b132c263",
   "metadata": {},
   "source": [
    "#### 2D - \"Tap Out\" Requirements\n",
    "***\n",
    "Ok, so you really tried your best to use native Polars or Pandas expressions, but neither you nor the AI can get the right output. What now? Now we're going to create a custom, \"Just in time\" compiled function using Numba."
   ]
  },
  {
   "cell_type": "code",
   "execution_count": null,
   "id": "b4dd2749-40cc-4918-9a40-71d548bc83bb",
   "metadata": {},
   "outputs": [],
   "source": [
    "#TODO Create CLDD & HTDD with a guvectorize function"
   ]
  },
  {
   "cell_type": "markdown",
   "id": "293df93a-c620-44f5-afe3-ae6913ede46b",
   "metadata": {},
   "source": [
    "### Part 3 - Creating the Output CSV\n",
    "***"
   ]
  },
  {
   "cell_type": "code",
   "execution_count": null,
   "id": "9bca5f4c-afd2-4d33-8b9a-6d3415e97cde",
   "metadata": {},
   "outputs": [],
   "source": [
    "#TODO Pivot the dataframe to the final structure"
   ]
  },
  {
   "cell_type": "code",
   "execution_count": null,
   "id": "aa8f801c-32bd-4d17-befe-a85065b06a6e",
   "metadata": {},
   "outputs": [],
   "source": [
    "#TODO Write to CSV to local"
   ]
  }
 ],
 "metadata": {
  "kernelspec": {
   "display_name": "Python 3 (ipykernel)",
   "language": "python",
   "name": "python3"
  },
  "language_info": {
   "codemirror_mode": {
    "name": "ipython",
    "version": 3
   },
   "file_extension": ".py",
   "mimetype": "text/x-python",
   "name": "python",
   "nbconvert_exporter": "python",
   "pygments_lexer": "ipython3",
   "version": "3.12.0"
  }
 },
 "nbformat": 4,
 "nbformat_minor": 5
}
