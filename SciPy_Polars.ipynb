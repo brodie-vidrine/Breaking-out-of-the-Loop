{
 "cells": [
  {
   "cell_type": "markdown",
   "id": "9a5acccb-e66b-434e-842a-7b027bed2a4f",
   "metadata": {},
   "source": [
    "# Breaking Out of the Loop\n",
    "## Refactoring Legacy Software with Polars\n",
    "\n",
    "In this quick tutorial, we'll be creating a very limited version of the Global Summary of the Month. By the end, you should have a handy cookbook for whipping up solutions to common data-crunching requirements.\n",
    "\n",
    "\n",
    "### Part 1 - Reading Your Input\n",
    "***\n",
    "\n",
    "Let's start by importing Polars. We'll also import a library called itables to make exploring our tables easier in the notebook."
   ]
  },
  {
   "cell_type": "code",
   "execution_count": 1,
   "id": "5d17ef78-52c2-449d-b59c-7307cda59b26",
   "metadata": {},
   "outputs": [],
   "source": [
    "import polars as pl\n",
    "#import itables\n",
    "#itables.init_notebook_mode(connected=False)"
   ]
  },
  {
   "cell_type": "markdown",
   "id": "b6a11d19-8f50-4524-a5f3-372b2fb3dccd",
   "metadata": {},
   "source": [
    "For today's example, we'll be using real NOAA data. More specifically, we'll be pulling station files from the Global Historical Climate Network's daily dataset. These are just plain text \"flat files\" with fixed column widths. Daily values are limited to 5 spaces and are followed by measurement, QC, and source flags--each taking up a single space:\n",
    "\n",
    "<img src=\"imgs/dly.png\" alt=\"image\" width=\"500\" height=\"auto\">\n",
    "\n",
    "Unfortunately, Polars doesn't have a native method for reading fixed-width files, so I'm including a utility class here. You'll find it in the GitHub repo as **InputOutputUtils.py.**"
   ]
  },
  {
   "cell_type": "code",
   "execution_count": 9,
   "id": "3615841d-d477-4790-b3e0-2ac1385390d6",
   "metadata": {
    "scrolled": true
   },
   "outputs": [
    {
     "data": {
      "text/html": [
       "<div><style>\n",
       ".dataframe > thead > tr,\n",
       ".dataframe > tbody > tr {\n",
       "  text-align: right;\n",
       "  white-space: pre-wrap;\n",
       "}\n",
       "</style>\n",
       "<small>shape: (5, 69)</small><table border=\"1\" class=\"dataframe\"><thead><tr><th>STATION</th><th>Element</th><th>0_measure</th><th>0_source</th><th>1_measure</th><th>1_source</th><th>2_measure</th><th>2_source</th><th>3_measure</th><th>3_source</th><th>4_measure</th><th>4_source</th><th>5_measure</th><th>5_source</th><th>6_measure</th><th>6_source</th><th>7_measure</th><th>7_source</th><th>8_measure</th><th>8_source</th><th>9_measure</th><th>9_source</th><th>10_measure</th><th>10_source</th><th>11_measure</th><th>11_source</th><th>12_measure</th><th>12_source</th><th>13_measure</th><th>13_source</th><th>14_measure</th><th>14_source</th><th>15_measure</th><th>15_source</th><th>16_measure</th><th>16_source</th><th>17_measure</th><th>17_source</th><th>18_measure</th><th>18_source</th><th>19_measure</th><th>19_source</th><th>20_measure</th><th>20_source</th><th>21_measure</th><th>21_source</th><th>22_measure</th><th>22_source</th><th>23_measure</th><th>23_source</th><th>24_measure</th><th>24_source</th><th>25_measure</th><th>25_source</th><th>26_measure</th><th>26_source</th><th>27_measure</th><th>27_source</th><th>28_measure</th><th>28_source</th><th>29_measure</th><th>29_source</th><th>30_measure</th><th>30_source</th><th>daily_values</th><th>qc_flags</th><th>DATE</th><th>YEAR_MONTH</th><th>days_in_month</th></tr><tr><td>str</td><td>str</td><td>str</td><td>str</td><td>str</td><td>str</td><td>str</td><td>str</td><td>str</td><td>str</td><td>str</td><td>str</td><td>str</td><td>str</td><td>str</td><td>str</td><td>str</td><td>str</td><td>str</td><td>str</td><td>str</td><td>str</td><td>str</td><td>str</td><td>str</td><td>str</td><td>str</td><td>str</td><td>str</td><td>str</td><td>str</td><td>str</td><td>str</td><td>str</td><td>str</td><td>str</td><td>str</td><td>str</td><td>str</td><td>str</td><td>str</td><td>str</td><td>str</td><td>str</td><td>str</td><td>str</td><td>str</td><td>str</td><td>str</td><td>str</td><td>str</td><td>str</td><td>str</td><td>str</td><td>str</td><td>str</td><td>str</td><td>str</td><td>str</td><td>str</td><td>str</td><td>str</td><td>str</td><td>str</td><td>list[f32]</td><td>list[str]</td><td>date</td><td>str</td><td>i32</td></tr></thead><tbody><tr><td>&quot;USW00094789&quot;</td><td>&quot;TMAX&quot;</td><td>&quot;&quot;</td><td>&quot;&quot;</td><td>&quot;&quot;</td><td>&quot;&quot;</td><td>&quot;&quot;</td><td>&quot;&quot;</td><td>&quot;&quot;</td><td>&quot;&quot;</td><td>&quot;&quot;</td><td>&quot;&quot;</td><td>&quot;&quot;</td><td>&quot;&quot;</td><td>&quot;&quot;</td><td>&quot;&quot;</td><td>&quot;&quot;</td><td>&quot;&quot;</td><td>&quot;&quot;</td><td>&quot;&quot;</td><td>&quot;&quot;</td><td>&quot;&quot;</td><td>&quot;&quot;</td><td>&quot;&quot;</td><td>&quot;&quot;</td><td>&quot;&quot;</td><td>&quot;&quot;</td><td>&quot;&quot;</td><td>&quot;&quot;</td><td>&quot;&quot;</td><td>&quot;&quot;</td><td>&quot;&quot;</td><td>&quot;&quot;</td><td>&quot;&quot;</td><td>&quot;&quot;</td><td>&quot;X&quot;</td><td>&quot;&quot;</td><td>&quot;X&quot;</td><td>&quot;&quot;</td><td>&quot;X&quot;</td><td>&quot;&quot;</td><td>&quot;X&quot;</td><td>&quot;&quot;</td><td>&quot;X&quot;</td><td>&quot;&quot;</td><td>&quot;X&quot;</td><td>&quot;&quot;</td><td>&quot;X&quot;</td><td>&quot;&quot;</td><td>&quot;X&quot;</td><td>&quot;&quot;</td><td>&quot;X&quot;</td><td>&quot;&quot;</td><td>&quot;X&quot;</td><td>&quot;&quot;</td><td>&quot;X&quot;</td><td>&quot;&quot;</td><td>&quot;X&quot;</td><td>&quot;&quot;</td><td>&quot;X&quot;</td><td>&quot;&quot;</td><td>&quot;X&quot;</td><td>&quot;&quot;</td><td>&quot;X&quot;</td><td>[-9999.0, -9999.0, … 317.0]</td><td>[&quot;&quot;, &quot;&quot;, … &quot;&quot;]</td><td>1948-07-01</td><td>&quot;194807&quot;</td><td>31</td></tr><tr><td>&quot;USW00094789&quot;</td><td>&quot;TMIN&quot;</td><td>&quot;&quot;</td><td>&quot;&quot;</td><td>&quot;&quot;</td><td>&quot;&quot;</td><td>&quot;&quot;</td><td>&quot;&quot;</td><td>&quot;&quot;</td><td>&quot;&quot;</td><td>&quot;&quot;</td><td>&quot;&quot;</td><td>&quot;&quot;</td><td>&quot;&quot;</td><td>&quot;&quot;</td><td>&quot;&quot;</td><td>&quot;&quot;</td><td>&quot;&quot;</td><td>&quot;&quot;</td><td>&quot;&quot;</td><td>&quot;&quot;</td><td>&quot;&quot;</td><td>&quot;&quot;</td><td>&quot;&quot;</td><td>&quot;&quot;</td><td>&quot;&quot;</td><td>&quot;&quot;</td><td>&quot;&quot;</td><td>&quot;&quot;</td><td>&quot;&quot;</td><td>&quot;&quot;</td><td>&quot;&quot;</td><td>&quot;&quot;</td><td>&quot;&quot;</td><td>&quot;&quot;</td><td>&quot;X&quot;</td><td>&quot;&quot;</td><td>&quot;X&quot;</td><td>&quot;&quot;</td><td>&quot;X&quot;</td><td>&quot;&quot;</td><td>&quot;X&quot;</td><td>&quot;&quot;</td><td>&quot;X&quot;</td><td>&quot;&quot;</td><td>&quot;X&quot;</td><td>&quot;&quot;</td><td>&quot;X&quot;</td><td>&quot;&quot;</td><td>&quot;X&quot;</td><td>&quot;&quot;</td><td>&quot;X&quot;</td><td>&quot;&quot;</td><td>&quot;X&quot;</td><td>&quot;&quot;</td><td>&quot;X&quot;</td><td>&quot;&quot;</td><td>&quot;X&quot;</td><td>&quot;&quot;</td><td>&quot;X&quot;</td><td>&quot;&quot;</td><td>&quot;X&quot;</td><td>&quot;&quot;</td><td>&quot;X&quot;</td><td>[-9999.0, -9999.0, … 233.0]</td><td>[&quot;&quot;, &quot;&quot;, … &quot;&quot;]</td><td>1948-07-01</td><td>&quot;194807&quot;</td><td>31</td></tr><tr><td>&quot;USW00094789&quot;</td><td>&quot;PRCP&quot;</td><td>&quot;&quot;</td><td>&quot;&quot;</td><td>&quot;&quot;</td><td>&quot;&quot;</td><td>&quot;&quot;</td><td>&quot;&quot;</td><td>&quot;&quot;</td><td>&quot;&quot;</td><td>&quot;&quot;</td><td>&quot;&quot;</td><td>&quot;&quot;</td><td>&quot;&quot;</td><td>&quot;&quot;</td><td>&quot;&quot;</td><td>&quot;&quot;</td><td>&quot;&quot;</td><td>&quot;&quot;</td><td>&quot;&quot;</td><td>&quot;&quot;</td><td>&quot;&quot;</td><td>&quot;&quot;</td><td>&quot;&quot;</td><td>&quot;&quot;</td><td>&quot;&quot;</td><td>&quot;&quot;</td><td>&quot;&quot;</td><td>&quot;&quot;</td><td>&quot;&quot;</td><td>&quot;&quot;</td><td>&quot;&quot;</td><td>&quot;&quot;</td><td>&quot;&quot;</td><td>&quot;&quot;</td><td>&quot;X&quot;</td><td>&quot;T&quot;</td><td>&quot;X&quot;</td><td>&quot;T&quot;</td><td>&quot;X&quot;</td><td>&quot;&quot;</td><td>&quot;X&quot;</td><td>&quot;&quot;</td><td>&quot;X&quot;</td><td>&quot;T&quot;</td><td>&quot;X&quot;</td><td>&quot;&quot;</td><td>&quot;X&quot;</td><td>&quot;&quot;</td><td>&quot;X&quot;</td><td>&quot;&quot;</td><td>&quot;X&quot;</td><td>&quot;&quot;</td><td>&quot;X&quot;</td><td>&quot;&quot;</td><td>&quot;X&quot;</td><td>&quot;T&quot;</td><td>&quot;X&quot;</td><td>&quot;&quot;</td><td>&quot;X&quot;</td><td>&quot;T&quot;</td><td>&quot;X&quot;</td><td>&quot;T&quot;</td><td>&quot;X&quot;</td><td>[-9999.0, -9999.0, … 0.0]</td><td>[&quot;&quot;, &quot;&quot;, … &quot;&quot;]</td><td>1948-07-01</td><td>&quot;194807&quot;</td><td>31</td></tr><tr><td>&quot;USW00094789&quot;</td><td>&quot;SNOW&quot;</td><td>&quot;&quot;</td><td>&quot;&quot;</td><td>&quot;&quot;</td><td>&quot;&quot;</td><td>&quot;&quot;</td><td>&quot;&quot;</td><td>&quot;&quot;</td><td>&quot;&quot;</td><td>&quot;&quot;</td><td>&quot;&quot;</td><td>&quot;&quot;</td><td>&quot;&quot;</td><td>&quot;&quot;</td><td>&quot;&quot;</td><td>&quot;&quot;</td><td>&quot;&quot;</td><td>&quot;&quot;</td><td>&quot;&quot;</td><td>&quot;&quot;</td><td>&quot;&quot;</td><td>&quot;&quot;</td><td>&quot;&quot;</td><td>&quot;&quot;</td><td>&quot;&quot;</td><td>&quot;&quot;</td><td>&quot;&quot;</td><td>&quot;&quot;</td><td>&quot;&quot;</td><td>&quot;&quot;</td><td>&quot;&quot;</td><td>&quot;&quot;</td><td>&quot;&quot;</td><td>&quot;&quot;</td><td>&quot;X&quot;</td><td>&quot;&quot;</td><td>&quot;X&quot;</td><td>&quot;&quot;</td><td>&quot;X&quot;</td><td>&quot;&quot;</td><td>&quot;X&quot;</td><td>&quot;&quot;</td><td>&quot;X&quot;</td><td>&quot;&quot;</td><td>&quot;X&quot;</td><td>&quot;&quot;</td><td>&quot;X&quot;</td><td>&quot;&quot;</td><td>&quot;X&quot;</td><td>&quot;&quot;</td><td>&quot;X&quot;</td><td>&quot;&quot;</td><td>&quot;X&quot;</td><td>&quot;&quot;</td><td>&quot;X&quot;</td><td>&quot;&quot;</td><td>&quot;X&quot;</td><td>&quot;&quot;</td><td>&quot;X&quot;</td><td>&quot;&quot;</td><td>&quot;X&quot;</td><td>&quot;&quot;</td><td>&quot;X&quot;</td><td>[-9999.0, -9999.0, … 0.0]</td><td>[&quot;&quot;, &quot;&quot;, … &quot;&quot;]</td><td>1948-07-01</td><td>&quot;194807&quot;</td><td>31</td></tr><tr><td>&quot;USW00094789&quot;</td><td>&quot;SNWD&quot;</td><td>&quot;&quot;</td><td>&quot;&quot;</td><td>&quot;&quot;</td><td>&quot;&quot;</td><td>&quot;&quot;</td><td>&quot;&quot;</td><td>&quot;&quot;</td><td>&quot;&quot;</td><td>&quot;&quot;</td><td>&quot;&quot;</td><td>&quot;&quot;</td><td>&quot;&quot;</td><td>&quot;&quot;</td><td>&quot;&quot;</td><td>&quot;&quot;</td><td>&quot;&quot;</td><td>&quot;&quot;</td><td>&quot;&quot;</td><td>&quot;&quot;</td><td>&quot;&quot;</td><td>&quot;&quot;</td><td>&quot;&quot;</td><td>&quot;&quot;</td><td>&quot;&quot;</td><td>&quot;&quot;</td><td>&quot;&quot;</td><td>&quot;&quot;</td><td>&quot;&quot;</td><td>&quot;&quot;</td><td>&quot;&quot;</td><td>&quot;&quot;</td><td>&quot;&quot;</td><td>&quot;&quot;</td><td>&quot;X&quot;</td><td>&quot;&quot;</td><td>&quot;X&quot;</td><td>&quot;&quot;</td><td>&quot;X&quot;</td><td>&quot;&quot;</td><td>&quot;X&quot;</td><td>&quot;&quot;</td><td>&quot;X&quot;</td><td>&quot;&quot;</td><td>&quot;X&quot;</td><td>&quot;&quot;</td><td>&quot;X&quot;</td><td>&quot;&quot;</td><td>&quot;X&quot;</td><td>&quot;&quot;</td><td>&quot;X&quot;</td><td>&quot;&quot;</td><td>&quot;X&quot;</td><td>&quot;&quot;</td><td>&quot;X&quot;</td><td>&quot;&quot;</td><td>&quot;X&quot;</td><td>&quot;&quot;</td><td>&quot;X&quot;</td><td>&quot;&quot;</td><td>&quot;X&quot;</td><td>&quot;&quot;</td><td>&quot;X&quot;</td><td>[-9999.0, -9999.0, … 0.0]</td><td>[&quot;&quot;, &quot;&quot;, … &quot;&quot;]</td><td>1948-07-01</td><td>&quot;194807&quot;</td><td>31</td></tr></tbody></table></div>"
      ],
      "text/plain": [
       "shape: (5, 69)\n",
       "┌─────────────┬─────────┬───────────┬──────────┬───┬────────────────┬────────────┬────────────┬───────────────┐\n",
       "│ STATION     ┆ Element ┆ 0_measure ┆ 0_source ┆ … ┆ qc_flags       ┆ DATE       ┆ YEAR_MONTH ┆ days_in_month │\n",
       "│ ---         ┆ ---     ┆ ---       ┆ ---      ┆   ┆ ---            ┆ ---        ┆ ---        ┆ ---           │\n",
       "│ str         ┆ str     ┆ str       ┆ str      ┆   ┆ list[str]      ┆ date       ┆ str        ┆ i32           │\n",
       "╞═════════════╪═════════╪═══════════╪══════════╪═══╪════════════════╪════════════╪════════════╪═══════════════╡\n",
       "│ USW00094789 ┆ TMAX    ┆           ┆          ┆ … ┆ [\"\", \"\", … \"\"] ┆ 1948-07-01 ┆ 194807     ┆ 31            │\n",
       "│ USW00094789 ┆ TMIN    ┆           ┆          ┆ … ┆ [\"\", \"\", … \"\"] ┆ 1948-07-01 ┆ 194807     ┆ 31            │\n",
       "│ USW00094789 ┆ PRCP    ┆           ┆          ┆ … ┆ [\"\", \"\", … \"\"] ┆ 1948-07-01 ┆ 194807     ┆ 31            │\n",
       "│ USW00094789 ┆ SNOW    ┆           ┆          ┆ … ┆ [\"\", \"\", … \"\"] ┆ 1948-07-01 ┆ 194807     ┆ 31            │\n",
       "│ USW00094789 ┆ SNWD    ┆           ┆          ┆ … ┆ [\"\", \"\", … \"\"] ┆ 1948-07-01 ┆ 194807     ┆ 31            │\n",
       "└─────────────┴─────────┴───────────┴──────────┴───┴────────────────┴────────────┴────────────┴───────────────┘"
      ]
     },
     "execution_count": 9,
     "metadata": {},
     "output_type": "execute_result"
    }
   ],
   "source": [
    "import InputOutputUtils as io\n",
    "from importlib import reload\n",
    "reload(io) #Prevents caching in Python modules\n",
    "station_file = \"stations/USW00094789.dly\"\n",
    "df = io.dlyAsDataFrame( station_file )\n",
    "df.head()\n",
    "#show(df, layout={\"topStart\": None, \"topEnd\": None})"
   ]
  },
  {
   "cell_type": "markdown",
   "id": "e914cbba-2bce-446e-93bb-c353fb0fd54d",
   "metadata": {},
   "source": [
    "\n",
    "\n",
    "What's happening inside of input_output_utils is outside the scope of this talk, but it's a useful class. Shoutout to (GET NAME) over on StackOverflow for posting the snippet I used to create it. The important thing is, we've converted our fixed-width flat file into a Polars Dataframe.\n",
    "\n",
    "### Part 2 - Data Crunching\n",
    "***\n",
    "\n",
    "The real GSOM puts out more than 63 possible element-columns. In this quick demonstration, our program will only put out 5 elements:\n",
    "* Average Minimum Temperature\n",
    "* Average Maximum Temperature\n",
    "* Average Temperature\n",
    "* Cooling Degree Days\n",
    "* Heating Degree Days\n",
    "\n",
    "#### 2A - Filtering\n",
    "***\n",
    "\n",
    "To create these elements, we'll only need to keep rows where Element is equal to TMIN and TMAX. Let's go ahead and filter those elements:\n"
   ]
  },
  {
   "cell_type": "code",
   "execution_count": 10,
   "id": "91e4af81-7388-489d-8c79-3411e912bb54",
   "metadata": {},
   "outputs": [
    {
     "data": {
      "text/html": [
       "<div><style>\n",
       ".dataframe > thead > tr,\n",
       ".dataframe > tbody > tr {\n",
       "  text-align: right;\n",
       "  white-space: pre-wrap;\n",
       "}\n",
       "</style>\n",
       "<small>shape: (1_842, 5)</small><table border=\"1\" class=\"dataframe\"><thead><tr><th>STATION</th><th>Element</th><th>DATE</th><th>daily_values</th><th>qc_flags</th></tr><tr><td>str</td><td>str</td><td>date</td><td>list[f32]</td><td>list[str]</td></tr></thead><tbody><tr><td>&quot;USW00094789&quot;</td><td>&quot;TMAX&quot;</td><td>1948-07-01</td><td>[-9999.0, -9999.0, … 317.0]</td><td>[&quot;&quot;, &quot;&quot;, … &quot;&quot;]</td></tr><tr><td>&quot;USW00094789&quot;</td><td>&quot;TMIN&quot;</td><td>1948-07-01</td><td>[-9999.0, -9999.0, … 233.0]</td><td>[&quot;&quot;, &quot;&quot;, … &quot;&quot;]</td></tr><tr><td>&quot;USW00094789&quot;</td><td>&quot;TMAX&quot;</td><td>1948-08-01</td><td>[233.0, 261.0, … 283.0]</td><td>[&quot;&quot;, &quot;&quot;, … &quot;&quot;]</td></tr><tr><td>&quot;USW00094789&quot;</td><td>&quot;TMIN&quot;</td><td>1948-08-01</td><td>[211.0, 200.0, … 172.0]</td><td>[&quot;&quot;, &quot;&quot;, … &quot;&quot;]</td></tr><tr><td>&quot;USW00094789&quot;</td><td>&quot;TMAX&quot;</td><td>1948-09-01</td><td>[256.0, 250.0, … -9999.0]</td><td>[&quot;&quot;, &quot;&quot;, … &quot;&quot;]</td></tr><tr><td>&hellip;</td><td>&hellip;</td><td>&hellip;</td><td>&hellip;</td><td>&hellip;</td></tr><tr><td>&quot;USW00094789&quot;</td><td>&quot;TMIN&quot;</td><td>2025-01-01</td><td>[50.0, 17.0, … 44.0]</td><td>[&quot;&quot;, &quot;&quot;, … &quot;&quot;]</td></tr><tr><td>&quot;USW00094789&quot;</td><td>&quot;TMAX&quot;</td><td>2025-02-01</td><td>[100.0, 39.0, … -9999.0]</td><td>[&quot;&quot;, &quot;&quot;, … &quot;&quot;]</td></tr><tr><td>&quot;USW00094789&quot;</td><td>&quot;TMIN&quot;</td><td>2025-02-01</td><td>[-49.0, -71.0, … -9999.0]</td><td>[&quot;&quot;, &quot;&quot;, … &quot;&quot;]</td></tr><tr><td>&quot;USW00094789&quot;</td><td>&quot;TMAX&quot;</td><td>2025-03-01</td><td>[194.0, 33.0, … -9999.0]</td><td>[&quot;&quot;, &quot;&quot;, … &quot;&quot;]</td></tr><tr><td>&quot;USW00094789&quot;</td><td>&quot;TMIN&quot;</td><td>2025-03-01</td><td>[-10.0, -49.0, … -9999.0]</td><td>[&quot;&quot;, &quot;&quot;, … &quot;&quot;]</td></tr></tbody></table></div>"
      ],
      "text/plain": [
       "shape: (1_842, 5)\n",
       "┌─────────────┬─────────┬────────────┬─────────────────────────────┬────────────────┐\n",
       "│ STATION     ┆ Element ┆ DATE       ┆ daily_values                ┆ qc_flags       │\n",
       "│ ---         ┆ ---     ┆ ---        ┆ ---                         ┆ ---            │\n",
       "│ str         ┆ str     ┆ date       ┆ list[f32]                   ┆ list[str]      │\n",
       "╞═════════════╪═════════╪════════════╪═════════════════════════════╪════════════════╡\n",
       "│ USW00094789 ┆ TMAX    ┆ 1948-07-01 ┆ [-9999.0, -9999.0, … 317.0] ┆ [\"\", \"\", … \"\"] │\n",
       "│ USW00094789 ┆ TMIN    ┆ 1948-07-01 ┆ [-9999.0, -9999.0, … 233.0] ┆ [\"\", \"\", … \"\"] │\n",
       "│ USW00094789 ┆ TMAX    ┆ 1948-08-01 ┆ [233.0, 261.0, … 283.0]     ┆ [\"\", \"\", … \"\"] │\n",
       "│ USW00094789 ┆ TMIN    ┆ 1948-08-01 ┆ [211.0, 200.0, … 172.0]     ┆ [\"\", \"\", … \"\"] │\n",
       "│ USW00094789 ┆ TMAX    ┆ 1948-09-01 ┆ [256.0, 250.0, … -9999.0]   ┆ [\"\", \"\", … \"\"] │\n",
       "│ …           ┆ …       ┆ …          ┆ …                           ┆ …              │\n",
       "│ USW00094789 ┆ TMIN    ┆ 2025-01-01 ┆ [50.0, 17.0, … 44.0]        ┆ [\"\", \"\", … \"\"] │\n",
       "│ USW00094789 ┆ TMAX    ┆ 2025-02-01 ┆ [100.0, 39.0, … -9999.0]    ┆ [\"\", \"\", … \"\"] │\n",
       "│ USW00094789 ┆ TMIN    ┆ 2025-02-01 ┆ [-49.0, -71.0, … -9999.0]   ┆ [\"\", \"\", … \"\"] │\n",
       "│ USW00094789 ┆ TMAX    ┆ 2025-03-01 ┆ [194.0, 33.0, … -9999.0]    ┆ [\"\", \"\", … \"\"] │\n",
       "│ USW00094789 ┆ TMIN    ┆ 2025-03-01 ┆ [-10.0, -49.0, … -9999.0]   ┆ [\"\", \"\", … \"\"] │\n",
       "└─────────────┴─────────┴────────────┴─────────────────────────────┴────────────────┘"
      ]
     },
     "execution_count": 10,
     "metadata": {},
     "output_type": "execute_result"
    }
   ],
   "source": [
    "#Create an array with the elements we want to keep\n",
    "needed = [\"TMIN\", \"TMAX\"]\n",
    "\n",
    "#only show rows where \"Element\" matches strings in this list\n",
    "df = df.filter(\n",
    "    pl.col(\"Element\").is_in(needed)\n",
    ")\n",
    "\n",
    "df.select([\"STATION\", \"Element\", \"DATE\", \"daily_values\", \"qc_flags\"])"
   ]
  },
  {
   "cell_type": "markdown",
   "id": "9d171143-408a-4235-ab4b-6438bb40f80a",
   "metadata": {},
   "source": [
    "If you look at the shape of the dataframes, you'll see our row count has dropped from 15, 584 rows to 1,842. You don't necessarily need to drive yourself nuts trying to whittle down the size of your dataset, but if it's 700% larger than it needs to be, your speed will suffer.\n"
   ]
  },
  {
   "cell_type": "markdown",
   "id": "acd3113a-b24a-48dd-aba5-b8e54933b065",
   "metadata": {},
   "source": [
    "#### 2B - Data Validation\n",
    "***"
   ]
  },
  {
   "cell_type": "code",
   "execution_count": 4,
   "id": "70f24705-40c4-4225-b780-f657eb775e45",
   "metadata": {},
   "outputs": [],
   "source": [
    "#TODO Remove bad data\n"
   ]
  },
  {
   "cell_type": "markdown",
   "id": "eb9f2afa-391f-4a03-9a98-f028a206386e",
   "metadata": {},
   "source": [
    "#### 2C - Easy Requirements\n",
    "***"
   ]
  },
  {
   "cell_type": "code",
   "execution_count": 5,
   "id": "237075dc-7c52-4500-87e7-403ea2b8ae6e",
   "metadata": {},
   "outputs": [],
   "source": [
    "#TODO Run .mean() on TMIN and TMAX"
   ]
  },
  {
   "cell_type": "markdown",
   "id": "7196d856-242f-45e3-bebd-e427141f5bb6",
   "metadata": {},
   "source": [
    "#### 2C - Challenging Requirements\n",
    "***"
   ]
  },
  {
   "cell_type": "code",
   "execution_count": 6,
   "id": "50d28528-8176-4e8c-9622-86a2f82c999f",
   "metadata": {},
   "outputs": [],
   "source": [
    "#TODO Create TAVG with the \"free real estate\" method"
   ]
  },
  {
   "cell_type": "markdown",
   "id": "9675a2df-46a4-4f58-83d5-07f7b132c263",
   "metadata": {},
   "source": [
    "#### 2D - \"Tap Out\" Requirements\n",
    "***\n",
    "Ok, so you really tried your best to use native Polars or Pandas expressions, but neither you nor the AI can get the right output. What now? Now we're going to create a custom, \"Just in time\" compiled function using Numba."
   ]
  },
  {
   "cell_type": "code",
   "execution_count": 6,
   "id": "b4dd2749-40cc-4918-9a40-71d548bc83bb",
   "metadata": {},
   "outputs": [],
   "source": [
    "#TODO Create CLDD & HTDD with a guvectorize function"
   ]
  },
  {
   "cell_type": "markdown",
   "id": "293df93a-c620-44f5-afe3-ae6913ede46b",
   "metadata": {},
   "source": [
    "### Part 3 - Creating the Output CSV\n",
    "***\n",
    "Ok, so you really tried your best to use native Polars or Pandas expressions, but neither you nor the AI can get the right output. What now? Now we're going to create a custom, \"Just in time\" compiled function using Numba."
   ]
  },
  {
   "cell_type": "code",
   "execution_count": 7,
   "id": "9bca5f4c-afd2-4d33-8b9a-6d3415e97cde",
   "metadata": {},
   "outputs": [],
   "source": [
    "#TODO Pivot the dataframe to the final structure"
   ]
  },
  {
   "cell_type": "code",
   "execution_count": 8,
   "id": "aa8f801c-32bd-4d17-befe-a85065b06a6e",
   "metadata": {},
   "outputs": [],
   "source": [
    "#TODO Write to CSV to local"
   ]
  }
 ],
 "metadata": {
  "kernelspec": {
   "display_name": "Python 3 (ipykernel)",
   "language": "python",
   "name": "python3"
  },
  "language_info": {
   "codemirror_mode": {
    "name": "ipython",
    "version": 3
   },
   "file_extension": ".py",
   "mimetype": "text/x-python",
   "name": "python",
   "nbconvert_exporter": "python",
   "pygments_lexer": "ipython3",
   "version": "3.12.0"
  }
 },
 "nbformat": 4,
 "nbformat_minor": 5
}
