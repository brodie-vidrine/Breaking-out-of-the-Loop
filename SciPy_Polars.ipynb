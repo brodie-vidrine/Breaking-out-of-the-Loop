{
 "cells": [
  {
   "cell_type": "markdown",
   "id": "9a5acccb-e66b-434e-842a-7b027bed2a4f",
   "metadata": {},
   "source": [
    "# Breaking Out of the Loop\n",
    "## Refactoring Legacy Software with Polars\n",
    "\n",
    "In this quick tutorial, we'll be creating a very limited version of the Global Summary of the Month. By the end, you should have a handy cookbook for whipping up solutions to common data-crunching requirements. \n",
    "\n",
    "Let's start by importing Polars, NumPy, and Numba."
   ]
  },
  {
   "cell_type": "code",
   "execution_count": 3,
   "id": "5d17ef78-52c2-449d-b59c-7307cda59b26",
   "metadata": {},
   "outputs": [],
   "source": [
    "import polars as pl\n",
    "import numpy\n",
    "import numba"
   ]
  },
  {
   "cell_type": "markdown",
   "id": "b6a11d19-8f50-4524-a5f3-372b2fb3dccd",
   "metadata": {},
   "source": [
    "For today's example, we'll be using real NOAA data. More specifically, we'll be pulling station files from the Global Historical Climate Network's daily dataset. These are just plain text \"flat files\" with fixed column widths.\n",
    "\n",
    "<img src=\"imgs/dly.png\" alt=\"image\" width=\"500\" height=\"auto\">\n",
    "\n",
    "Unfortunately, Polars doesn't have a native method for reading fixed-width files, so I'm including a utility class here."
   ]
  },
  {
   "cell_type": "code",
   "execution_count": 7,
   "id": "3615841d-d477-4790-b3e0-2ac1385390d6",
   "metadata": {},
   "outputs": [
    {
     "data": {
      "text/html": [
       "<div><style>\n",
       ".dataframe > thead > tr,\n",
       ".dataframe > tbody > tr {\n",
       "  text-align: right;\n",
       "  white-space: pre-wrap;\n",
       "}\n",
       "</style>\n",
       "<small>shape: (15_584, 5)</small><table border=\"1\" class=\"dataframe\"><thead><tr><th>STATION</th><th>Element</th><th>DATE</th><th>daily_values</th><th>qc_flags</th></tr><tr><td>str</td><td>str</td><td>date</td><td>list[f32]</td><td>list[str]</td></tr></thead><tbody><tr><td>&quot;USW00094789&quot;</td><td>&quot;TMAX&quot;</td><td>1948-07-01</td><td>[-9999.0, -9999.0, … 317.0]</td><td>[&quot;&quot;, &quot;&quot;, … &quot;&quot;]</td></tr><tr><td>&quot;USW00094789&quot;</td><td>&quot;TMIN&quot;</td><td>1948-07-01</td><td>[-9999.0, -9999.0, … 233.0]</td><td>[&quot;&quot;, &quot;&quot;, … &quot;&quot;]</td></tr><tr><td>&quot;USW00094789&quot;</td><td>&quot;PRCP&quot;</td><td>1948-07-01</td><td>[-9999.0, -9999.0, … 0.0]</td><td>[&quot;&quot;, &quot;&quot;, … &quot;&quot;]</td></tr><tr><td>&quot;USW00094789&quot;</td><td>&quot;SNOW&quot;</td><td>1948-07-01</td><td>[-9999.0, -9999.0, … 0.0]</td><td>[&quot;&quot;, &quot;&quot;, … &quot;&quot;]</td></tr><tr><td>&quot;USW00094789&quot;</td><td>&quot;SNWD&quot;</td><td>1948-07-01</td><td>[-9999.0, -9999.0, … 0.0]</td><td>[&quot;&quot;, &quot;&quot;, … &quot;&quot;]</td></tr><tr><td>&hellip;</td><td>&hellip;</td><td>&hellip;</td><td>&hellip;</td><td>&hellip;</td></tr><tr><td>&quot;USW00094789&quot;</td><td>&quot;TAVG&quot;</td><td>2025-03-01</td><td>[93.0, -5.0, … -9999.0]</td><td>[&quot;&quot;, &quot;&quot;, … &quot;&quot;]</td></tr><tr><td>&quot;USW00094789&quot;</td><td>&quot;WDF2&quot;</td><td>2025-03-01</td><td>[310.0, 330.0, … -9999.0]</td><td>[&quot;&quot;, &quot;&quot;, … &quot;&quot;]</td></tr><tr><td>&quot;USW00094789&quot;</td><td>&quot;WDF5&quot;</td><td>2025-03-01</td><td>[310.0, 330.0, … -9999.0]</td><td>[&quot;&quot;, &quot;&quot;, … &quot;&quot;]</td></tr><tr><td>&quot;USW00094789&quot;</td><td>&quot;WSF2&quot;</td><td>2025-03-01</td><td>[165.0, 143.0, … -9999.0]</td><td>[&quot;&quot;, &quot;&quot;, … &quot;&quot;]</td></tr><tr><td>&quot;USW00094789&quot;</td><td>&quot;WSF5&quot;</td><td>2025-03-01</td><td>[219.0, 188.0, … -9999.0]</td><td>[&quot;&quot;, &quot;&quot;, … &quot;&quot;]</td></tr></tbody></table></div>"
      ],
      "text/plain": [
       "shape: (15_584, 5)\n",
       "┌─────────────┬─────────┬────────────┬─────────────────────────────┬────────────────┐\n",
       "│ STATION     ┆ Element ┆ DATE       ┆ daily_values                ┆ qc_flags       │\n",
       "│ ---         ┆ ---     ┆ ---        ┆ ---                         ┆ ---            │\n",
       "│ str         ┆ str     ┆ date       ┆ list[f32]                   ┆ list[str]      │\n",
       "╞═════════════╪═════════╪════════════╪═════════════════════════════╪════════════════╡\n",
       "│ USW00094789 ┆ TMAX    ┆ 1948-07-01 ┆ [-9999.0, -9999.0, … 317.0] ┆ [\"\", \"\", … \"\"] │\n",
       "│ USW00094789 ┆ TMIN    ┆ 1948-07-01 ┆ [-9999.0, -9999.0, … 233.0] ┆ [\"\", \"\", … \"\"] │\n",
       "│ USW00094789 ┆ PRCP    ┆ 1948-07-01 ┆ [-9999.0, -9999.0, … 0.0]   ┆ [\"\", \"\", … \"\"] │\n",
       "│ USW00094789 ┆ SNOW    ┆ 1948-07-01 ┆ [-9999.0, -9999.0, … 0.0]   ┆ [\"\", \"\", … \"\"] │\n",
       "│ USW00094789 ┆ SNWD    ┆ 1948-07-01 ┆ [-9999.0, -9999.0, … 0.0]   ┆ [\"\", \"\", … \"\"] │\n",
       "│ …           ┆ …       ┆ …          ┆ …                           ┆ …              │\n",
       "│ USW00094789 ┆ TAVG    ┆ 2025-03-01 ┆ [93.0, -5.0, … -9999.0]     ┆ [\"\", \"\", … \"\"] │\n",
       "│ USW00094789 ┆ WDF2    ┆ 2025-03-01 ┆ [310.0, 330.0, … -9999.0]   ┆ [\"\", \"\", … \"\"] │\n",
       "│ USW00094789 ┆ WDF5    ┆ 2025-03-01 ┆ [310.0, 330.0, … -9999.0]   ┆ [\"\", \"\", … \"\"] │\n",
       "│ USW00094789 ┆ WSF2    ┆ 2025-03-01 ┆ [165.0, 143.0, … -9999.0]   ┆ [\"\", \"\", … \"\"] │\n",
       "│ USW00094789 ┆ WSF5    ┆ 2025-03-01 ┆ [219.0, 188.0, … -9999.0]   ┆ [\"\", \"\", … \"\"] │\n",
       "└─────────────┴─────────┴────────────┴─────────────────────────────┴────────────────┘"
      ]
     },
     "execution_count": 7,
     "metadata": {},
     "output_type": "execute_result"
    }
   ],
   "source": [
    "import InputOutputUtils as io\n",
    "from importlib import reload\n",
    "reload(io) #Prevents caching in Python modules\n",
    "station_file = \"stations/USW00094789.dly\"\n",
    "df = io.dlyAsDataFrame( station_file )\n",
    "df.select([\"STATION\", \"Element\", \"DATE\", \"daily_values\", \"qc_flags\"])"
   ]
  },
  {
   "cell_type": "markdown",
   "id": "e914cbba-2bce-446e-93bb-c353fb0fd54d",
   "metadata": {},
   "source": [
    "What's happening inside of input_output_utils is outside the scope of this talk, but it's a useful class. Shoutout to (GET NAME) over on StackOverflow for posting the snippet I used to create it. The important thing is, we've converted our fixed-width flat file into a Polars Dataframe.\n",
    "\n",
    "The real GSOM puts out more than 63 possible element-columns. In this quick demonstration, our program will only put out 5 elements:\n",
    "* Average Minimum Temperature\n",
    "* Average Maximum Temperature\n",
    "* Average Temperature\n",
    "* Cooling Degree Days\n",
    "* Heating Degree Days\n",
    "\n",
    "To create these elements, we'll only need to keep rows where Element is equal to TMIN and TMAX. Let's go ahead and filter those elements:"
   ]
  },
  {
   "cell_type": "code",
   "execution_count": 8,
   "id": "91e4af81-7388-489d-8c79-3411e912bb54",
   "metadata": {},
   "outputs": [
    {
     "data": {
      "text/html": [
       "<div><style>\n",
       ".dataframe > thead > tr,\n",
       ".dataframe > tbody > tr {\n",
       "  text-align: right;\n",
       "  white-space: pre-wrap;\n",
       "}\n",
       "</style>\n",
       "<small>shape: (1_842, 5)</small><table border=\"1\" class=\"dataframe\"><thead><tr><th>STATION</th><th>Element</th><th>DATE</th><th>daily_values</th><th>qc_flags</th></tr><tr><td>str</td><td>str</td><td>date</td><td>list[f32]</td><td>list[str]</td></tr></thead><tbody><tr><td>&quot;USW00094789&quot;</td><td>&quot;TMAX&quot;</td><td>1948-07-01</td><td>[-9999.0, -9999.0, … 317.0]</td><td>[&quot;&quot;, &quot;&quot;, … &quot;&quot;]</td></tr><tr><td>&quot;USW00094789&quot;</td><td>&quot;TMIN&quot;</td><td>1948-07-01</td><td>[-9999.0, -9999.0, … 233.0]</td><td>[&quot;&quot;, &quot;&quot;, … &quot;&quot;]</td></tr><tr><td>&quot;USW00094789&quot;</td><td>&quot;TMAX&quot;</td><td>1948-08-01</td><td>[233.0, 261.0, … 283.0]</td><td>[&quot;&quot;, &quot;&quot;, … &quot;&quot;]</td></tr><tr><td>&quot;USW00094789&quot;</td><td>&quot;TMIN&quot;</td><td>1948-08-01</td><td>[211.0, 200.0, … 172.0]</td><td>[&quot;&quot;, &quot;&quot;, … &quot;&quot;]</td></tr><tr><td>&quot;USW00094789&quot;</td><td>&quot;TMAX&quot;</td><td>1948-09-01</td><td>[256.0, 250.0, … -9999.0]</td><td>[&quot;&quot;, &quot;&quot;, … &quot;&quot;]</td></tr><tr><td>&hellip;</td><td>&hellip;</td><td>&hellip;</td><td>&hellip;</td><td>&hellip;</td></tr><tr><td>&quot;USW00094789&quot;</td><td>&quot;TMIN&quot;</td><td>2025-01-01</td><td>[50.0, 17.0, … 44.0]</td><td>[&quot;&quot;, &quot;&quot;, … &quot;&quot;]</td></tr><tr><td>&quot;USW00094789&quot;</td><td>&quot;TMAX&quot;</td><td>2025-02-01</td><td>[100.0, 39.0, … -9999.0]</td><td>[&quot;&quot;, &quot;&quot;, … &quot;&quot;]</td></tr><tr><td>&quot;USW00094789&quot;</td><td>&quot;TMIN&quot;</td><td>2025-02-01</td><td>[-49.0, -71.0, … -9999.0]</td><td>[&quot;&quot;, &quot;&quot;, … &quot;&quot;]</td></tr><tr><td>&quot;USW00094789&quot;</td><td>&quot;TMAX&quot;</td><td>2025-03-01</td><td>[194.0, 33.0, … -9999.0]</td><td>[&quot;&quot;, &quot;&quot;, … &quot;&quot;]</td></tr><tr><td>&quot;USW00094789&quot;</td><td>&quot;TMIN&quot;</td><td>2025-03-01</td><td>[-10.0, -49.0, … -9999.0]</td><td>[&quot;&quot;, &quot;&quot;, … &quot;&quot;]</td></tr></tbody></table></div>"
      ],
      "text/plain": [
       "shape: (1_842, 5)\n",
       "┌─────────────┬─────────┬────────────┬─────────────────────────────┬────────────────┐\n",
       "│ STATION     ┆ Element ┆ DATE       ┆ daily_values                ┆ qc_flags       │\n",
       "│ ---         ┆ ---     ┆ ---        ┆ ---                         ┆ ---            │\n",
       "│ str         ┆ str     ┆ date       ┆ list[f32]                   ┆ list[str]      │\n",
       "╞═════════════╪═════════╪════════════╪═════════════════════════════╪════════════════╡\n",
       "│ USW00094789 ┆ TMAX    ┆ 1948-07-01 ┆ [-9999.0, -9999.0, … 317.0] ┆ [\"\", \"\", … \"\"] │\n",
       "│ USW00094789 ┆ TMIN    ┆ 1948-07-01 ┆ [-9999.0, -9999.0, … 233.0] ┆ [\"\", \"\", … \"\"] │\n",
       "│ USW00094789 ┆ TMAX    ┆ 1948-08-01 ┆ [233.0, 261.0, … 283.0]     ┆ [\"\", \"\", … \"\"] │\n",
       "│ USW00094789 ┆ TMIN    ┆ 1948-08-01 ┆ [211.0, 200.0, … 172.0]     ┆ [\"\", \"\", … \"\"] │\n",
       "│ USW00094789 ┆ TMAX    ┆ 1948-09-01 ┆ [256.0, 250.0, … -9999.0]   ┆ [\"\", \"\", … \"\"] │\n",
       "│ …           ┆ …       ┆ …          ┆ …                           ┆ …              │\n",
       "│ USW00094789 ┆ TMIN    ┆ 2025-01-01 ┆ [50.0, 17.0, … 44.0]        ┆ [\"\", \"\", … \"\"] │\n",
       "│ USW00094789 ┆ TMAX    ┆ 2025-02-01 ┆ [100.0, 39.0, … -9999.0]    ┆ [\"\", \"\", … \"\"] │\n",
       "│ USW00094789 ┆ TMIN    ┆ 2025-02-01 ┆ [-49.0, -71.0, … -9999.0]   ┆ [\"\", \"\", … \"\"] │\n",
       "│ USW00094789 ┆ TMAX    ┆ 2025-03-01 ┆ [194.0, 33.0, … -9999.0]    ┆ [\"\", \"\", … \"\"] │\n",
       "│ USW00094789 ┆ TMIN    ┆ 2025-03-01 ┆ [-10.0, -49.0, … -9999.0]   ┆ [\"\", \"\", … \"\"] │\n",
       "└─────────────┴─────────┴────────────┴─────────────────────────────┴────────────────┘"
      ]
     },
     "execution_count": 8,
     "metadata": {},
     "output_type": "execute_result"
    }
   ],
   "source": [
    "needed = [\"TMIN\", \"TMAX\"]\n",
    "df = df.filter(\n",
    "    pl.col(\"Element\").is_in(needed)#only show columns that match the string in this list\n",
    ")\n",
    "\n",
    "df.select([\"STATION\", \"Element\", \"DATE\", \"daily_values\", \"qc_flags\"])"
   ]
  },
  {
   "cell_type": "markdown",
   "id": "9d171143-408a-4235-ab4b-6438bb40f80a",
   "metadata": {},
   "source": [
    "If you look at the shape of the dataframes, you'll see our row count has dropped from 15, 584 rows to 1,842. You don't necessarily need to drive yourself nuts trying to whittle down the size of your dataset, but if it's 700% larger than it needs to be, your speed will suffer."
   ]
  },
  {
   "cell_type": "code",
   "execution_count": 9,
   "id": "70f24705-40c4-4225-b780-f657eb775e45",
   "metadata": {},
   "outputs": [],
   "source": [
    "#TODO Remove bad data\n",
    "#TODO Run .mean() on TMIN and TMAX\n",
    "#TODO Create TAVG with the \"free real estate\" method\n",
    "#TODO Create Numba JIT function for ClDD/HTDD\n"
   ]
  },
  {
   "cell_type": "code",
   "execution_count": null,
   "id": "237075dc-7c52-4500-87e7-403ea2b8ae6e",
   "metadata": {},
   "outputs": [],
   "source": []
  }
 ],
 "metadata": {
  "kernelspec": {
   "display_name": "Python 3 (ipykernel)",
   "language": "python",
   "name": "python3"
  },
  "language_info": {
   "codemirror_mode": {
    "name": "ipython",
    "version": 3
   },
   "file_extension": ".py",
   "mimetype": "text/x-python",
   "name": "python",
   "nbconvert_exporter": "python",
   "pygments_lexer": "ipython3",
   "version": "3.12.0"
  }
 },
 "nbformat": 4,
 "nbformat_minor": 5
}
