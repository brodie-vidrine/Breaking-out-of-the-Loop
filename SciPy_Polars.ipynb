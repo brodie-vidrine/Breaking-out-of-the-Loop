{
 "cells": [
  {
   "cell_type": "markdown",
   "id": "9a5acccb-e66b-434e-842a-7b027bed2a4f",
   "metadata": {},
   "source": [
    "# Breaking Out of the Loop\n",
    "## Refactoring Legacy Software with Polars\n",
    "\n",
    "In this quick tutorial, we'll be creating a very limited version of the Global Summary of the Month. By the end, you should have a handy cookbook for whipping up solutions to common data-crunching requirements.\n",
    "\n",
    "\n",
    "### Part 1 - Reading Your Input\n",
    "***\n",
    "\n",
    "Let's start by importing Polars. We'll also import a library called itables to make exploring our tables easier in the notebook."
   ]
  },
  {
   "cell_type": "code",
   "execution_count": 1,
   "id": "5d17ef78-52c2-449d-b59c-7307cda59b26",
   "metadata": {},
   "outputs": [],
   "source": [
    "import polars as pl\n",
    "#import itables\n",
    "#itables.init_notebook_mode(connected=False)"
   ]
  },
  {
   "cell_type": "markdown",
   "id": "b6a11d19-8f50-4524-a5f3-372b2fb3dccd",
   "metadata": {},
   "source": [
    "For today's example, we'll be using real NOAA data. More specifically, we'll be pulling station files from the Global Historical Climate Network's daily dataset. These are just plain text \"flat files\" with fixed column widths. Daily values are limited to 5 spaces and are followed by measurement, QC, and source flags--each taking up a single space:\n",
    "\n",
    "<img src=\"imgs/dly.png\" alt=\"image\" width=\"500\" height=\"auto\">\n",
    "\n",
    "Unfortunately, Polars doesn't have a native method for reading fixed-width files, so I'm including a utility class here. You'll find it in the GitHub repo as **InputOutputUtils.py.**"
   ]
  },
  {
   "cell_type": "code",
   "execution_count": 2,
   "id": "3615841d-d477-4790-b3e0-2ac1385390d6",
   "metadata": {
    "scrolled": true
   },
   "outputs": [
    {
     "data": {
      "text/html": [
       "<div><style>\n",
       ".dataframe > thead > tr,\n",
       ".dataframe > tbody > tr {\n",
       "  text-align: right;\n",
       "  white-space: pre-wrap;\n",
       "}\n",
       "</style>\n",
       "<small>shape: (5, 6)</small><table border=\"1\" class=\"dataframe\"><thead><tr><th>STATION</th><th>DATE</th><th>Element</th><th>daily_values</th><th>qc_flags</th><th>days_in_month</th></tr><tr><td>str</td><td>date</td><td>str</td><td>list[f32]</td><td>list[str]</td><td>i32</td></tr></thead><tbody><tr><td>&quot;USW00094789&quot;</td><td>1948-07-01</td><td>&quot;TMAX&quot;</td><td>[-9999.0, -9999.0, … 317.0]</td><td>[&quot;&quot;, &quot;&quot;, … &quot;&quot;]</td><td>31</td></tr><tr><td>&quot;USW00094789&quot;</td><td>1948-07-01</td><td>&quot;TMIN&quot;</td><td>[-9999.0, -9999.0, … 233.0]</td><td>[&quot;&quot;, &quot;&quot;, … &quot;&quot;]</td><td>31</td></tr><tr><td>&quot;USW00094789&quot;</td><td>1948-07-01</td><td>&quot;PRCP&quot;</td><td>[-9999.0, -9999.0, … 0.0]</td><td>[&quot;&quot;, &quot;&quot;, … &quot;&quot;]</td><td>31</td></tr><tr><td>&quot;USW00094789&quot;</td><td>1948-07-01</td><td>&quot;SNOW&quot;</td><td>[-9999.0, -9999.0, … 0.0]</td><td>[&quot;&quot;, &quot;&quot;, … &quot;&quot;]</td><td>31</td></tr><tr><td>&quot;USW00094789&quot;</td><td>1948-07-01</td><td>&quot;SNWD&quot;</td><td>[-9999.0, -9999.0, … 0.0]</td><td>[&quot;&quot;, &quot;&quot;, … &quot;&quot;]</td><td>31</td></tr></tbody></table></div>"
      ],
      "text/plain": [
       "shape: (5, 6)\n",
       "┌─────────────┬────────────┬─────────┬─────────────────────────────┬────────────────┬───────────────┐\n",
       "│ STATION     ┆ DATE       ┆ Element ┆ daily_values                ┆ qc_flags       ┆ days_in_month │\n",
       "│ ---         ┆ ---        ┆ ---     ┆ ---                         ┆ ---            ┆ ---           │\n",
       "│ str         ┆ date       ┆ str     ┆ list[f32]                   ┆ list[str]      ┆ i32           │\n",
       "╞═════════════╪════════════╪═════════╪═════════════════════════════╪════════════════╪═══════════════╡\n",
       "│ USW00094789 ┆ 1948-07-01 ┆ TMAX    ┆ [-9999.0, -9999.0, … 317.0] ┆ [\"\", \"\", … \"\"] ┆ 31            │\n",
       "│ USW00094789 ┆ 1948-07-01 ┆ TMIN    ┆ [-9999.0, -9999.0, … 233.0] ┆ [\"\", \"\", … \"\"] ┆ 31            │\n",
       "│ USW00094789 ┆ 1948-07-01 ┆ PRCP    ┆ [-9999.0, -9999.0, … 0.0]   ┆ [\"\", \"\", … \"\"] ┆ 31            │\n",
       "│ USW00094789 ┆ 1948-07-01 ┆ SNOW    ┆ [-9999.0, -9999.0, … 0.0]   ┆ [\"\", \"\", … \"\"] ┆ 31            │\n",
       "│ USW00094789 ┆ 1948-07-01 ┆ SNWD    ┆ [-9999.0, -9999.0, … 0.0]   ┆ [\"\", \"\", … \"\"] ┆ 31            │\n",
       "└─────────────┴────────────┴─────────┴─────────────────────────────┴────────────────┴───────────────┘"
      ]
     },
     "execution_count": 2,
     "metadata": {},
     "output_type": "execute_result"
    }
   ],
   "source": [
    "import InputOutputUtils as io\n",
    "from importlib import reload\n",
    "reload(io) #Prevents caching in Python modules\n",
    "#JFK International Airport\n",
    "station_file = \"stations/USW00094789.dly\"\n",
    "df = io.dlyAsDataFrame( station_file )\n",
    "df.head()\n",
    "#show(df, layout={\"topStart\": None, \"topEnd\": None})"
   ]
  },
  {
   "cell_type": "markdown",
   "id": "e914cbba-2bce-446e-93bb-c353fb0fd54d",
   "metadata": {},
   "source": [
    "\n",
    "\n",
    "What's happening inside of input_output_utils is outside the scope of this talk, but it's a useful class. Shoutout to (GET NAME) over on StackOverflow for posting the snippet I used to create it. The important thing is, we've converted our fixed-width flat file into a Polars Dataframe.\n",
    "\n",
    "### Part 2 - Data Crunching\n",
    "***\n",
    "\n",
    "The real GSOM puts out more than 63 possible element-columns. In this quick demonstration, our program will only put out 5 elements:\n",
    "* Average Minimum Temperature\n",
    "* Average Maximum Temperature\n",
    "* Average Temperature\n",
    "* Cooling Degree Days\n",
    "* Heating Degree Days\n",
    "\n",
    "#### 2A - Filtering\n",
    "***\n",
    "\n",
    "To create these elements, we'll only need to keep rows where Element is equal to TMIN and TMAX. Let's go ahead and filter those elements:\n"
   ]
  },
  {
   "cell_type": "code",
   "execution_count": 3,
   "id": "91e4af81-7388-489d-8c79-3411e912bb54",
   "metadata": {},
   "outputs": [
    {
     "data": {
      "text/html": [
       "<div><style>\n",
       ".dataframe > thead > tr,\n",
       ".dataframe > tbody > tr {\n",
       "  text-align: right;\n",
       "  white-space: pre-wrap;\n",
       "}\n",
       "</style>\n",
       "<small>shape: (5, 5)</small><table border=\"1\" class=\"dataframe\"><thead><tr><th>STATION</th><th>Element</th><th>DATE</th><th>daily_values</th><th>qc_flags</th></tr><tr><td>str</td><td>str</td><td>date</td><td>list[f32]</td><td>list[str]</td></tr></thead><tbody><tr><td>&quot;USW00094789&quot;</td><td>&quot;TMAX&quot;</td><td>1948-07-01</td><td>[-9999.0, -9999.0, … 317.0]</td><td>[&quot;&quot;, &quot;&quot;, … &quot;&quot;]</td></tr><tr><td>&quot;USW00094789&quot;</td><td>&quot;TMIN&quot;</td><td>1948-07-01</td><td>[-9999.0, -9999.0, … 233.0]</td><td>[&quot;&quot;, &quot;&quot;, … &quot;&quot;]</td></tr><tr><td>&quot;USW00094789&quot;</td><td>&quot;TMAX&quot;</td><td>1948-08-01</td><td>[233.0, 261.0, … 283.0]</td><td>[&quot;&quot;, &quot;&quot;, … &quot;&quot;]</td></tr><tr><td>&quot;USW00094789&quot;</td><td>&quot;TMIN&quot;</td><td>1948-08-01</td><td>[211.0, 200.0, … 172.0]</td><td>[&quot;&quot;, &quot;&quot;, … &quot;&quot;]</td></tr><tr><td>&quot;USW00094789&quot;</td><td>&quot;TMAX&quot;</td><td>1948-09-01</td><td>[256.0, 250.0, … -9999.0]</td><td>[&quot;&quot;, &quot;&quot;, … &quot;&quot;]</td></tr></tbody></table></div>"
      ],
      "text/plain": [
       "shape: (5, 5)\n",
       "┌─────────────┬─────────┬────────────┬─────────────────────────────┬────────────────┐\n",
       "│ STATION     ┆ Element ┆ DATE       ┆ daily_values                ┆ qc_flags       │\n",
       "│ ---         ┆ ---     ┆ ---        ┆ ---                         ┆ ---            │\n",
       "│ str         ┆ str     ┆ date       ┆ list[f32]                   ┆ list[str]      │\n",
       "╞═════════════╪═════════╪════════════╪═════════════════════════════╪════════════════╡\n",
       "│ USW00094789 ┆ TMAX    ┆ 1948-07-01 ┆ [-9999.0, -9999.0, … 317.0] ┆ [\"\", \"\", … \"\"] │\n",
       "│ USW00094789 ┆ TMIN    ┆ 1948-07-01 ┆ [-9999.0, -9999.0, … 233.0] ┆ [\"\", \"\", … \"\"] │\n",
       "│ USW00094789 ┆ TMAX    ┆ 1948-08-01 ┆ [233.0, 261.0, … 283.0]     ┆ [\"\", \"\", … \"\"] │\n",
       "│ USW00094789 ┆ TMIN    ┆ 1948-08-01 ┆ [211.0, 200.0, … 172.0]     ┆ [\"\", \"\", … \"\"] │\n",
       "│ USW00094789 ┆ TMAX    ┆ 1948-09-01 ┆ [256.0, 250.0, … -9999.0]   ┆ [\"\", \"\", … \"\"] │\n",
       "└─────────────┴─────────┴────────────┴─────────────────────────────┴────────────────┘"
      ]
     },
     "execution_count": 3,
     "metadata": {},
     "output_type": "execute_result"
    }
   ],
   "source": [
    "#Create an array with the elements we want to keep\n",
    "needed = [\"TMIN\", \"TMAX\"]\n",
    "\n",
    "#only show rows where \"Element\" matches strings in this list\n",
    "df = df.filter(\n",
    "    pl.col(\"Element\").is_in(needed)\n",
    ")\n",
    "\n",
    "df.select([\"STATION\", \"Element\", \"DATE\", \"daily_values\", \"qc_flags\"]).head()"
   ]
  },
  {
   "cell_type": "markdown",
   "id": "9d171143-408a-4235-ab4b-6438bb40f80a",
   "metadata": {},
   "source": [
    "If you look at the shape of the dataframes, you'll see our row count has dropped from 15, 584 rows to 1,842. You don't necessarily need to drive yourself nuts trying to whittle down the size of your dataset, but if it's 700% larger than it needs to be, your speed will suffer.\n"
   ]
  },
  {
   "cell_type": "markdown",
   "id": "acd3113a-b24a-48dd-aba5-b8e54933b065",
   "metadata": {},
   "source": [
    "#### 2B - Data Validation\n",
    "***\n",
    "\n",
    "Before we run our calculations, let's first delete any invalid data in our daily_value lists. In the real GSOM, we'd remove any daily values where the corresponding QC flag wasn't an empty string. For the purposes of this demo, we're only going to remove the values that are equal to -9999.0."
   ]
  },
  {
   "cell_type": "code",
   "execution_count": 4,
   "id": "70f24705-40c4-4225-b780-f657eb775e45",
   "metadata": {},
   "outputs": [
    {
     "data": {
      "text/html": [
       "<div><style>\n",
       ".dataframe > thead > tr,\n",
       ".dataframe > tbody > tr {\n",
       "  text-align: right;\n",
       "  white-space: pre-wrap;\n",
       "}\n",
       "</style>\n",
       "<small>shape: (5, 4)</small><table border=\"1\" class=\"dataframe\"><thead><tr><th>DATE</th><th>Element</th><th>daily_values</th><th>filtered_values</th></tr><tr><td>date</td><td>str</td><td>list[f32]</td><td>list[f32]</td></tr></thead><tbody><tr><td>1948-07-01</td><td>&quot;TMAX&quot;</td><td>[-9999.0, -9999.0, … 317.0]</td><td>[233.0, 272.0, … 317.0]</td></tr><tr><td>1948-07-01</td><td>&quot;TMIN&quot;</td><td>[-9999.0, -9999.0, … 233.0]</td><td>[178.0, 211.0, … 233.0]</td></tr><tr><td>1948-08-01</td><td>&quot;TMAX&quot;</td><td>[233.0, 261.0, … 283.0]</td><td>[233.0, 261.0, … 283.0]</td></tr><tr><td>1948-08-01</td><td>&quot;TMIN&quot;</td><td>[211.0, 200.0, … 172.0]</td><td>[211.0, 200.0, … 172.0]</td></tr><tr><td>1948-09-01</td><td>&quot;TMAX&quot;</td><td>[256.0, 250.0, … -9999.0]</td><td>[256.0, 250.0, … 239.0]</td></tr></tbody></table></div>"
      ],
      "text/plain": [
       "shape: (5, 4)\n",
       "┌────────────┬─────────┬─────────────────────────────┬─────────────────────────┐\n",
       "│ DATE       ┆ Element ┆ daily_values                ┆ filtered_values         │\n",
       "│ ---        ┆ ---     ┆ ---                         ┆ ---                     │\n",
       "│ date       ┆ str     ┆ list[f32]                   ┆ list[f32]               │\n",
       "╞════════════╪═════════╪═════════════════════════════╪═════════════════════════╡\n",
       "│ 1948-07-01 ┆ TMAX    ┆ [-9999.0, -9999.0, … 317.0] ┆ [233.0, 272.0, … 317.0] │\n",
       "│ 1948-07-01 ┆ TMIN    ┆ [-9999.0, -9999.0, … 233.0] ┆ [178.0, 211.0, … 233.0] │\n",
       "│ 1948-08-01 ┆ TMAX    ┆ [233.0, 261.0, … 283.0]     ┆ [233.0, 261.0, … 283.0] │\n",
       "│ 1948-08-01 ┆ TMIN    ┆ [211.0, 200.0, … 172.0]     ┆ [211.0, 200.0, … 172.0] │\n",
       "│ 1948-09-01 ┆ TMAX    ┆ [256.0, 250.0, … -9999.0]   ┆ [256.0, 250.0, … 239.0] │\n",
       "└────────────┴─────────┴─────────────────────────────┴─────────────────────────┘"
      ]
     },
     "execution_count": 4,
     "metadata": {},
     "output_type": "execute_result"
    }
   ],
   "source": [
    "\n",
    "df = df.with_columns(\n",
    "        #We could have simply replaced daily_values, but we're not done with it yet!\n",
    "        filtered_values = pl.col(\"daily_values\").list.eval(\n",
    "            pl.element().filter(pl.element() != -9999.0)\n",
    "        )\n",
    "    )\n",
    "\n",
    "df.select(\n",
    "    [\"DATE\", \"Element\", \"daily_values\", \"filtered_values\"]\n",
    "    ).head()"
   ]
  },
  {
   "cell_type": "markdown",
   "id": "00936798-4c12-4f1b-b3e9-631ccee83b32",
   "metadata": {},
   "source": [
    "Once we've filtered our daily_values, we can subtract it's length from the days_in_month column. We'll then filter out any rows where we have 4 or more missing_days. "
   ]
  },
  {
   "cell_type": "code",
   "execution_count": 5,
   "id": "2de84274-455b-4ebb-a60a-25d76cbb93a8",
   "metadata": {},
   "outputs": [
    {
     "data": {
      "text/html": [
       "<div><style>\n",
       ".dataframe > thead > tr,\n",
       ".dataframe > tbody > tr {\n",
       "  text-align: right;\n",
       "  white-space: pre-wrap;\n",
       "}\n",
       "</style>\n",
       "<small>shape: (5, 5)</small><table border=\"1\" class=\"dataframe\"><thead><tr><th>DATE</th><th>Element</th><th>daily_values</th><th>filtered_values</th><th>missing_days</th></tr><tr><td>date</td><td>str</td><td>list[f32]</td><td>list[f32]</td><td>i64</td></tr></thead><tbody><tr><td>1948-08-01</td><td>&quot;TMAX&quot;</td><td>[233.0, 261.0, … 283.0]</td><td>[233.0, 261.0, … 283.0]</td><td>0</td></tr><tr><td>1948-08-01</td><td>&quot;TMIN&quot;</td><td>[211.0, 200.0, … 172.0]</td><td>[211.0, 200.0, … 172.0]</td><td>0</td></tr><tr><td>1948-09-01</td><td>&quot;TMAX&quot;</td><td>[256.0, 250.0, … -9999.0]</td><td>[256.0, 250.0, … 239.0]</td><td>0</td></tr><tr><td>1948-09-01</td><td>&quot;TMIN&quot;</td><td>[144.0, 150.0, … -9999.0]</td><td>[144.0, 150.0, … 167.0]</td><td>0</td></tr><tr><td>1948-10-01</td><td>&quot;TMAX&quot;</td><td>[256.0, 261.0, … 200.0]</td><td>[256.0, 261.0, … 200.0]</td><td>0</td></tr></tbody></table></div>"
      ],
      "text/plain": [
       "shape: (5, 5)\n",
       "┌────────────┬─────────┬───────────────────────────┬─────────────────────────┬──────────────┐\n",
       "│ DATE       ┆ Element ┆ daily_values              ┆ filtered_values         ┆ missing_days │\n",
       "│ ---        ┆ ---     ┆ ---                       ┆ ---                     ┆ ---          │\n",
       "│ date       ┆ str     ┆ list[f32]                 ┆ list[f32]               ┆ i64          │\n",
       "╞════════════╪═════════╪═══════════════════════════╪═════════════════════════╪══════════════╡\n",
       "│ 1948-08-01 ┆ TMAX    ┆ [233.0, 261.0, … 283.0]   ┆ [233.0, 261.0, … 283.0] ┆ 0            │\n",
       "│ 1948-08-01 ┆ TMIN    ┆ [211.0, 200.0, … 172.0]   ┆ [211.0, 200.0, … 172.0] ┆ 0            │\n",
       "│ 1948-09-01 ┆ TMAX    ┆ [256.0, 250.0, … -9999.0] ┆ [256.0, 250.0, … 239.0] ┆ 0            │\n",
       "│ 1948-09-01 ┆ TMIN    ┆ [144.0, 150.0, … -9999.0] ┆ [144.0, 150.0, … 167.0] ┆ 0            │\n",
       "│ 1948-10-01 ┆ TMAX    ┆ [256.0, 261.0, … 200.0]   ┆ [256.0, 261.0, … 200.0] ┆ 0            │\n",
       "└────────────┴─────────┴───────────────────────────┴─────────────────────────┴──────────────┘"
      ]
     },
     "execution_count": 5,
     "metadata": {},
     "output_type": "execute_result"
    }
   ],
   "source": [
    "df = df.with_columns(\n",
    "        missing_days = pl.col(\"days_in_month\") - pl.col(\"filtered_values\").list.len()\n",
    "    ).filter(\n",
    "        pl.col(\"missing_days\") < 4\n",
    "    )\n",
    "\n",
    "df.select(\n",
    "        [\"DATE\", \"Element\", \"daily_values\", \"filtered_values\", \"missing_days\"]\n",
    "    ).head()"
   ]
  },
  {
   "cell_type": "markdown",
   "id": "eb9f2afa-391f-4a03-9a98-f028a206386e",
   "metadata": {},
   "source": [
    "#### 2C - Easy Requirements\n",
    "***\n",
    "Now that we have a cleaned up version of our daily_values, we can create a monthly summary for Average Minimum Temperature and Average Maximum Temperature. We'll also need to scale the value down by 90%. Luckily, we can handle this all in a single line!"
   ]
  },
  {
   "cell_type": "code",
   "execution_count": 6,
   "id": "237075dc-7c52-4500-87e7-403ea2b8ae6e",
   "metadata": {},
   "outputs": [
    {
     "data": {
      "text/html": [
       "<div><style>\n",
       ".dataframe > thead > tr,\n",
       ".dataframe > tbody > tr {\n",
       "  text-align: right;\n",
       "  white-space: pre-wrap;\n",
       "}\n",
       "</style>\n",
       "<small>shape: (5, 4)</small><table border=\"1\" class=\"dataframe\"><thead><tr><th>DATE</th><th>Element</th><th>filtered_values</th><th>value</th></tr><tr><td>date</td><td>str</td><td>list[f32]</td><td>f32</td></tr></thead><tbody><tr><td>1948-08-01</td><td>&quot;TMAX&quot;</td><td>[233.0, 261.0, … 283.0]</td><td>27.812902</td></tr><tr><td>1948-08-01</td><td>&quot;TMIN&quot;</td><td>[211.0, 200.0, … 172.0]</td><td>19.493549</td></tr><tr><td>1948-09-01</td><td>&quot;TMAX&quot;</td><td>[256.0, 250.0, … 239.0]</td><td>24.969999</td></tr><tr><td>1948-09-01</td><td>&quot;TMIN&quot;</td><td>[144.0, 150.0, … 167.0]</td><td>15.313334</td></tr><tr><td>1948-10-01</td><td>&quot;TMAX&quot;</td><td>[256.0, 261.0, … 200.0]</td><td>17.670967</td></tr></tbody></table></div>"
      ],
      "text/plain": [
       "shape: (5, 4)\n",
       "┌────────────┬─────────┬─────────────────────────┬───────────┐\n",
       "│ DATE       ┆ Element ┆ filtered_values         ┆ value     │\n",
       "│ ---        ┆ ---     ┆ ---                     ┆ ---       │\n",
       "│ date       ┆ str     ┆ list[f32]               ┆ f32       │\n",
       "╞════════════╪═════════╪═════════════════════════╪═══════════╡\n",
       "│ 1948-08-01 ┆ TMAX    ┆ [233.0, 261.0, … 283.0] ┆ 27.812902 │\n",
       "│ 1948-08-01 ┆ TMIN    ┆ [211.0, 200.0, … 172.0] ┆ 19.493549 │\n",
       "│ 1948-09-01 ┆ TMAX    ┆ [256.0, 250.0, … 239.0] ┆ 24.969999 │\n",
       "│ 1948-09-01 ┆ TMIN    ┆ [144.0, 150.0, … 167.0] ┆ 15.313334 │\n",
       "│ 1948-10-01 ┆ TMAX    ┆ [256.0, 261.0, … 200.0] ┆ 17.670967 │\n",
       "└────────────┴─────────┴─────────────────────────┴───────────┘"
      ]
     },
     "execution_count": 6,
     "metadata": {},
     "output_type": "execute_result"
    }
   ],
   "source": [
    "#TODO Run .mean() on TMIN and TMAX\n",
    "df = df.with_columns(\n",
    "    value = pl.col(\"filtered_values\").list.mean() * .1\n",
    "    \n",
    ")\n",
    "\n",
    "df.select([\"DATE\", \"Element\", \"filtered_values\", \"value\"]).head()"
   ]
  },
  {
   "cell_type": "markdown",
   "id": "e688e149-a933-4794-89a4-31f600bc6896",
   "metadata": {},
   "source": []
  },
  {
   "cell_type": "markdown",
   "id": "7196d856-242f-45e3-bebd-e427141f5bb6",
   "metadata": {},
   "source": [
    "#### 2C - Challenging Requirements\n",
    "***\n",
    "We've successfully run calculations on our base elements and decided which values we need to discard using only native Polars expressions. What if we need to compare two base elements? **FOR EXAMPLE**, GSOM also produces Average Temperature by comparing Average Max Temp and Average Min Temp. The real GSOM actually just adds TMAX & TMIN and then divides by two. What if we wanted to be a little more precise and create a list of daily averages and then mean() that? How am I supposed to make it human readable? How does that work?\n",
    "\n",
    "We're going to give ourselves permission to add as many columns as we need to. Just drop them when you're done with your calculations. \"It's free real estate.\" Polars and Panda are meant to operate in columnwise fashion. Operating over many columns is absolutely no problem.\n",
    "\n",
    "The first step will be creating both \"sides\" of our new TAVG elements."
   ]
  },
  {
   "cell_type": "code",
   "execution_count": 7,
   "id": "50d28528-8176-4e8c-9622-86a2f82c999f",
   "metadata": {},
   "outputs": [
    {
     "data": {
      "text/html": [
       "<div><style>\n",
       ".dataframe > thead > tr,\n",
       ".dataframe > tbody > tr {\n",
       "  text-align: right;\n",
       "  white-space: pre-wrap;\n",
       "}\n",
       "</style>\n",
       "<small>shape: (5, 11)</small><table border=\"1\" class=\"dataframe\"><thead><tr><th>STATION</th><th>DATE</th><th>Element</th><th>daily_values</th><th>qc_flags</th><th>days_in_month</th><th>filtered_values</th><th>missing_days</th><th>value</th><th>daily_values_2</th><th>qc_flags_2</th></tr><tr><td>str</td><td>date</td><td>str</td><td>list[f32]</td><td>list[str]</td><td>i32</td><td>list[f32]</td><td>i64</td><td>f32</td><td>list[f32]</td><td>list[str]</td></tr></thead><tbody><tr><td>&quot;USW00094789&quot;</td><td>1948-08-01</td><td>&quot;TMIN&quot;</td><td>[233.0, 261.0, … 283.0]</td><td>[&quot;&quot;, &quot;&quot;, … &quot;&quot;]</td><td>31</td><td>[233.0, 261.0, … 283.0]</td><td>0</td><td>27.812902</td><td>[233.0, 261.0, … 283.0]</td><td>[&quot;&quot;, &quot;&quot;, … &quot;&quot;]</td></tr><tr><td>&quot;USW00094789&quot;</td><td>1948-09-01</td><td>&quot;TMIN&quot;</td><td>[256.0, 250.0, … -9999.0]</td><td>[&quot;&quot;, &quot;&quot;, … &quot;&quot;]</td><td>30</td><td>[256.0, 250.0, … 239.0]</td><td>0</td><td>24.969999</td><td>[256.0, 250.0, … -9999.0]</td><td>[&quot;&quot;, &quot;&quot;, … &quot;&quot;]</td></tr><tr><td>&quot;USW00094789&quot;</td><td>1948-10-01</td><td>&quot;TMIN&quot;</td><td>[256.0, 261.0, … 200.0]</td><td>[&quot;&quot;, &quot;&quot;, … &quot;&quot;]</td><td>31</td><td>[256.0, 261.0, … 200.0]</td><td>0</td><td>17.670967</td><td>[256.0, 261.0, … 200.0]</td><td>[&quot;&quot;, &quot;&quot;, … &quot;&quot;]</td></tr><tr><td>&quot;USW00094789&quot;</td><td>1948-11-01</td><td>&quot;TMIN&quot;</td><td>[172.0, 128.0, … -9999.0]</td><td>[&quot;&quot;, &quot;&quot;, … &quot;&quot;]</td><td>30</td><td>[172.0, 128.0, … 72.0]</td><td>0</td><td>14.173334</td><td>[172.0, 128.0, … -9999.0]</td><td>[&quot;&quot;, &quot;&quot;, … &quot;&quot;]</td></tr><tr><td>&quot;USW00094789&quot;</td><td>1948-12-01</td><td>&quot;TMIN&quot;</td><td>[106.0, 83.0, … 100.0]</td><td>[&quot;&quot;, &quot;&quot;, … &quot;&quot;]</td><td>31</td><td>[106.0, 83.0, … 100.0]</td><td>0</td><td>6.551613</td><td>[106.0, 83.0, … 100.0]</td><td>[&quot;&quot;, &quot;&quot;, … &quot;&quot;]</td></tr></tbody></table></div>"
      ],
      "text/plain": [
       "shape: (5, 11)\n",
       "┌─────────────┬────────────┬─────────┬────────────────┬───┬──────────────┬───────────┬────────────────┬────────────────┐\n",
       "│ STATION     ┆ DATE       ┆ Element ┆ daily_values   ┆ … ┆ missing_days ┆ value     ┆ daily_values_2 ┆ qc_flags_2     │\n",
       "│ ---         ┆ ---        ┆ ---     ┆ ---            ┆   ┆ ---          ┆ ---       ┆ ---            ┆ ---            │\n",
       "│ str         ┆ date       ┆ str     ┆ list[f32]      ┆   ┆ i64          ┆ f32       ┆ list[f32]      ┆ list[str]      │\n",
       "╞═════════════╪════════════╪═════════╪════════════════╪═══╪══════════════╪═══════════╪════════════════╪════════════════╡\n",
       "│ USW00094789 ┆ 1948-08-01 ┆ TMIN    ┆ [233.0, 261.0, ┆ … ┆ 0            ┆ 27.812902 ┆ [233.0, 261.0, ┆ [\"\", \"\", … \"\"] │\n",
       "│             ┆            ┆         ┆ … 283.0]       ┆   ┆              ┆           ┆ … 283.0]       ┆                │\n",
       "│ USW00094789 ┆ 1948-09-01 ┆ TMIN    ┆ [256.0, 250.0, ┆ … ┆ 0            ┆ 24.969999 ┆ [256.0, 250.0, ┆ [\"\", \"\", … \"\"] │\n",
       "│             ┆            ┆         ┆ … -9999.0]     ┆   ┆              ┆           ┆ … -9999.0]     ┆                │\n",
       "│ USW00094789 ┆ 1948-10-01 ┆ TMIN    ┆ [256.0, 261.0, ┆ … ┆ 0            ┆ 17.670967 ┆ [256.0, 261.0, ┆ [\"\", \"\", … \"\"] │\n",
       "│             ┆            ┆         ┆ … 200.0]       ┆   ┆              ┆           ┆ … 200.0]       ┆                │\n",
       "│ USW00094789 ┆ 1948-11-01 ┆ TMIN    ┆ [172.0, 128.0, ┆ … ┆ 0            ┆ 14.173334 ┆ [172.0, 128.0, ┆ [\"\", \"\", … \"\"] │\n",
       "│             ┆            ┆         ┆ … -9999.0]     ┆   ┆              ┆           ┆ … -9999.0]     ┆                │\n",
       "│ USW00094789 ┆ 1948-12-01 ┆ TMIN    ┆ [106.0, 83.0,  ┆ … ┆ 0            ┆ 6.551613  ┆ [106.0, 83.0,  ┆ [\"\", \"\", … \"\"] │\n",
       "│             ┆            ┆         ┆ … 100.0]       ┆   ┆              ┆           ┆ … 100.0]       ┆                │\n",
       "└─────────────┴────────────┴─────────┴────────────────┴───┴──────────────┴───────────┴────────────────┴────────────────┘"
      ]
     },
     "execution_count": 7,
     "metadata": {},
     "output_type": "execute_result"
    }
   ],
   "source": [
    "#TODO Create TAVG with the \"free real estate\" method\n",
    "#Let's start by grabbing all of the TMIN. They'll be the \"left side\" of our join.\n",
    "tavg = df.filter(pl.col(\"Element\")==\"TMIN\")\n",
    "\n",
    "#Now let's grab our tmax rows and change the name of our list columns\n",
    "tmax = df.filter(\n",
    "    pl.col(\"Element\")==\"TMAX\"\n",
    ").with_columns(\n",
    "    daily_values_2 = pl.col(\"daily_values\"),\n",
    "    qc_flags_2 = pl.col(\"qc_flags\")\n",
    ")#.select([\"DATE\", \"Element\", \"daily_values_2\", \"qc_flags_2\"])\n",
    "\n",
    "#We change the element name to prepare for the join. \n",
    "#We use pl.lit() for literal values\n",
    "tmax = tmax.with_columns(\n",
    "    Element = pl.lit(\"TMIN\")\n",
    ")\n",
    "\n",
    "tmax.head()"
   ]
  },
  {
   "cell_type": "markdown",
   "id": "c65be41f-9917-4b40-8f93-1fd069129ea3",
   "metadata": {},
   "source": [
    "Let's use the join() expression to create our TAVG rows with everything they'll need to be calculated."
   ]
  },
  {
   "cell_type": "code",
   "execution_count": 8,
   "id": "ed61e49d-484d-4051-8b78-d0d08faf5f02",
   "metadata": {},
   "outputs": [
    {
     "data": {
      "text/html": [
       "<div><style>\n",
       ".dataframe > thead > tr,\n",
       ".dataframe > tbody > tr {\n",
       "  text-align: right;\n",
       "  white-space: pre-wrap;\n",
       "}\n",
       "</style>\n",
       "<small>shape: (5, 11)</small><table border=\"1\" class=\"dataframe\"><thead><tr><th>STATION</th><th>DATE</th><th>Element</th><th>daily_values</th><th>qc_flags</th><th>days_in_month</th><th>filtered_values</th><th>missing_days</th><th>value</th><th>daily_values_2</th><th>qc_flags_2</th></tr><tr><td>str</td><td>date</td><td>str</td><td>list[f32]</td><td>list[str]</td><td>i32</td><td>list[f32]</td><td>i64</td><td>f32</td><td>list[f32]</td><td>list[str]</td></tr></thead><tbody><tr><td>&quot;USW00094789&quot;</td><td>1948-08-01</td><td>&quot;TAVG&quot;</td><td>[211.0, 200.0, … 172.0]</td><td>[&quot;&quot;, &quot;&quot;, … &quot;&quot;]</td><td>31</td><td>[211.0, 200.0, … 172.0]</td><td>0</td><td>19.493549</td><td>[233.0, 261.0, … 283.0]</td><td>[&quot;&quot;, &quot;&quot;, … &quot;&quot;]</td></tr><tr><td>&quot;USW00094789&quot;</td><td>1948-09-01</td><td>&quot;TAVG&quot;</td><td>[144.0, 150.0, … -9999.0]</td><td>[&quot;&quot;, &quot;&quot;, … &quot;&quot;]</td><td>30</td><td>[144.0, 150.0, … 167.0]</td><td>0</td><td>15.313334</td><td>[256.0, 250.0, … -9999.0]</td><td>[&quot;&quot;, &quot;&quot;, … &quot;&quot;]</td></tr><tr><td>&quot;USW00094789&quot;</td><td>1948-10-01</td><td>&quot;TAVG&quot;</td><td>[167.0, 161.0, … 67.0]</td><td>[&quot;&quot;, &quot;&quot;, … &quot;&quot;]</td><td>31</td><td>[167.0, 161.0, … 67.0]</td><td>0</td><td>8.841936</td><td>[256.0, 261.0, … 200.0]</td><td>[&quot;&quot;, &quot;&quot;, … &quot;&quot;]</td></tr><tr><td>&quot;USW00094789&quot;</td><td>1948-11-01</td><td>&quot;TAVG&quot;</td><td>[100.0, 56.0, … -9999.0]</td><td>[&quot;&quot;, &quot;&quot;, … &quot;&quot;]</td><td>30</td><td>[100.0, 56.0, … -6.0]</td><td>0</td><td>6.6</td><td>[172.0, 128.0, … -9999.0]</td><td>[&quot;&quot;, &quot;&quot;, … &quot;&quot;]</td></tr><tr><td>&quot;USW00094789&quot;</td><td>1948-12-01</td><td>&quot;TAVG&quot;</td><td>[22.0, -6.0, … -39.0]</td><td>[&quot;&quot;, &quot;&quot;, … &quot;&quot;]</td><td>31</td><td>[22.0, -6.0, … -39.0]</td><td>0</td><td>-1.148387</td><td>[106.0, 83.0, … 100.0]</td><td>[&quot;&quot;, &quot;&quot;, … &quot;&quot;]</td></tr></tbody></table></div>"
      ],
      "text/plain": [
       "shape: (5, 11)\n",
       "┌─────────────┬────────────┬─────────┬────────────────┬───┬──────────────┬───────────┬────────────────┬────────────────┐\n",
       "│ STATION     ┆ DATE       ┆ Element ┆ daily_values   ┆ … ┆ missing_days ┆ value     ┆ daily_values_2 ┆ qc_flags_2     │\n",
       "│ ---         ┆ ---        ┆ ---     ┆ ---            ┆   ┆ ---          ┆ ---       ┆ ---            ┆ ---            │\n",
       "│ str         ┆ date       ┆ str     ┆ list[f32]      ┆   ┆ i64          ┆ f32       ┆ list[f32]      ┆ list[str]      │\n",
       "╞═════════════╪════════════╪═════════╪════════════════╪═══╪══════════════╪═══════════╪════════════════╪════════════════╡\n",
       "│ USW00094789 ┆ 1948-08-01 ┆ TAVG    ┆ [211.0, 200.0, ┆ … ┆ 0            ┆ 19.493549 ┆ [233.0, 261.0, ┆ [\"\", \"\", … \"\"] │\n",
       "│             ┆            ┆         ┆ … 172.0]       ┆   ┆              ┆           ┆ … 283.0]       ┆                │\n",
       "│ USW00094789 ┆ 1948-09-01 ┆ TAVG    ┆ [144.0, 150.0, ┆ … ┆ 0            ┆ 15.313334 ┆ [256.0, 250.0, ┆ [\"\", \"\", … \"\"] │\n",
       "│             ┆            ┆         ┆ … -9999.0]     ┆   ┆              ┆           ┆ … -9999.0]     ┆                │\n",
       "│ USW00094789 ┆ 1948-10-01 ┆ TAVG    ┆ [167.0, 161.0, ┆ … ┆ 0            ┆ 8.841936  ┆ [256.0, 261.0, ┆ [\"\", \"\", … \"\"] │\n",
       "│             ┆            ┆         ┆ … 67.0]        ┆   ┆              ┆           ┆ … 200.0]       ┆                │\n",
       "│ USW00094789 ┆ 1948-11-01 ┆ TAVG    ┆ [100.0, 56.0,  ┆ … ┆ 0            ┆ 6.6       ┆ [172.0, 128.0, ┆ [\"\", \"\", … \"\"] │\n",
       "│             ┆            ┆         ┆ … -9999.0]     ┆   ┆              ┆           ┆ … -9999.0]     ┆                │\n",
       "│ USW00094789 ┆ 1948-12-01 ┆ TAVG    ┆ [22.0, -6.0, … ┆ … ┆ 0            ┆ -1.148387 ┆ [106.0, 83.0,  ┆ [\"\", \"\", … \"\"] │\n",
       "│             ┆            ┆         ┆ -39.0]         ┆   ┆              ┆           ┆ … 100.0]       ┆                │\n",
       "└─────────────┴────────────┴─────────┴────────────────┴───┴──────────────┴───────────┴────────────────┴────────────────┘"
      ]
     },
     "execution_count": 8,
     "metadata": {},
     "output_type": "execute_result"
    }
   ],
   "source": [
    "tavg = tavg.join(\n",
    "            tmax, on=[\"DATE\", \"Element\"], how=\"left\"\n",
    "        ).with_columns(\n",
    "            Element = pl.lit(\"TAVG\")\n",
    "        )\n",
    "#Saving the columns we need for the vertical stack manually\n",
    "#In this case I've only got 11 columns, so brute force is ok\n",
    "#If you try to vstack tables with mismatched width, you're gonna have a real bad time.\n",
    "tavg = tavg.select([\"STATION\", \"DATE\", \"Element\", \"daily_values\", \"qc_flags\", \"days_in_month\", \"filtered_values\", \"missing_days\", \"value\", \"daily_values_2\", \"qc_flags_2\"])\n",
    "tavg.head()"
   ]
  },
  {
   "cell_type": "code",
   "execution_count": 9,
   "id": "6df32cc8-bc43-4071-a696-35ed6ac3217b",
   "metadata": {},
   "outputs": [
    {
     "data": {
      "text/html": [
       "<div><style>\n",
       ".dataframe > thead > tr,\n",
       ".dataframe > tbody > tr {\n",
       "  text-align: right;\n",
       "  white-space: pre-wrap;\n",
       "}\n",
       "</style>\n",
       "<small>shape: (5, 11)</small><table border=\"1\" class=\"dataframe\"><thead><tr><th>STATION</th><th>DATE</th><th>Element</th><th>daily_values</th><th>qc_flags</th><th>days_in_month</th><th>filtered_values</th><th>missing_days</th><th>value</th><th>daily_values_2</th><th>qc_flags_2</th></tr><tr><td>str</td><td>date</td><td>str</td><td>list[f32]</td><td>list[str]</td><td>i32</td><td>list[f32]</td><td>i64</td><td>f32</td><td>list[f32]</td><td>list[str]</td></tr></thead><tbody><tr><td>&quot;USW00094789&quot;</td><td>1948-08-01</td><td>&quot;TMAX&quot;</td><td>[233.0, 261.0, … 283.0]</td><td>[&quot;&quot;, &quot;&quot;, … &quot;&quot;]</td><td>31</td><td>[233.0, 261.0, … 283.0]</td><td>0</td><td>27.812902</td><td>[]</td><td>[]</td></tr><tr><td>&quot;USW00094789&quot;</td><td>1948-08-01</td><td>&quot;TMIN&quot;</td><td>[211.0, 200.0, … 172.0]</td><td>[&quot;&quot;, &quot;&quot;, … &quot;&quot;]</td><td>31</td><td>[211.0, 200.0, … 172.0]</td><td>0</td><td>19.493549</td><td>[]</td><td>[]</td></tr><tr><td>&quot;USW00094789&quot;</td><td>1948-08-01</td><td>&quot;TAVG&quot;</td><td>[211.0, 200.0, … 172.0]</td><td>[&quot;&quot;, &quot;&quot;, … &quot;&quot;]</td><td>31</td><td>[211.0, 200.0, … 172.0]</td><td>0</td><td>19.493549</td><td>[233.0, 261.0, … 283.0]</td><td>[&quot;&quot;, &quot;&quot;, … &quot;&quot;]</td></tr><tr><td>&quot;USW00094789&quot;</td><td>1948-09-01</td><td>&quot;TMAX&quot;</td><td>[256.0, 250.0, … -9999.0]</td><td>[&quot;&quot;, &quot;&quot;, … &quot;&quot;]</td><td>30</td><td>[256.0, 250.0, … 239.0]</td><td>0</td><td>24.969999</td><td>[]</td><td>[]</td></tr><tr><td>&quot;USW00094789&quot;</td><td>1948-09-01</td><td>&quot;TMIN&quot;</td><td>[144.0, 150.0, … -9999.0]</td><td>[&quot;&quot;, &quot;&quot;, … &quot;&quot;]</td><td>30</td><td>[144.0, 150.0, … 167.0]</td><td>0</td><td>15.313334</td><td>[]</td><td>[]</td></tr></tbody></table></div>"
      ],
      "text/plain": [
       "shape: (5, 11)\n",
       "┌─────────────┬────────────┬─────────┬────────────────┬───┬──────────────┬───────────┬────────────────┬────────────────┐\n",
       "│ STATION     ┆ DATE       ┆ Element ┆ daily_values   ┆ … ┆ missing_days ┆ value     ┆ daily_values_2 ┆ qc_flags_2     │\n",
       "│ ---         ┆ ---        ┆ ---     ┆ ---            ┆   ┆ ---          ┆ ---       ┆ ---            ┆ ---            │\n",
       "│ str         ┆ date       ┆ str     ┆ list[f32]      ┆   ┆ i64          ┆ f32       ┆ list[f32]      ┆ list[str]      │\n",
       "╞═════════════╪════════════╪═════════╪════════════════╪═══╪══════════════╪═══════════╪════════════════╪════════════════╡\n",
       "│ USW00094789 ┆ 1948-08-01 ┆ TMAX    ┆ [233.0, 261.0, ┆ … ┆ 0            ┆ 27.812902 ┆ []             ┆ []             │\n",
       "│             ┆            ┆         ┆ … 283.0]       ┆   ┆              ┆           ┆                ┆                │\n",
       "│ USW00094789 ┆ 1948-08-01 ┆ TMIN    ┆ [211.0, 200.0, ┆ … ┆ 0            ┆ 19.493549 ┆ []             ┆ []             │\n",
       "│             ┆            ┆         ┆ … 172.0]       ┆   ┆              ┆           ┆                ┆                │\n",
       "│ USW00094789 ┆ 1948-08-01 ┆ TAVG    ┆ [211.0, 200.0, ┆ … ┆ 0            ┆ 19.493549 ┆ [233.0, 261.0, ┆ [\"\", \"\", … \"\"] │\n",
       "│             ┆            ┆         ┆ … 172.0]       ┆   ┆              ┆           ┆ … 283.0]       ┆                │\n",
       "│ USW00094789 ┆ 1948-09-01 ┆ TMAX    ┆ [256.0, 250.0, ┆ … ┆ 0            ┆ 24.969999 ┆ []             ┆ []             │\n",
       "│             ┆            ┆         ┆ … -9999.0]     ┆   ┆              ┆           ┆                ┆                │\n",
       "│ USW00094789 ┆ 1948-09-01 ┆ TMIN    ┆ [144.0, 150.0, ┆ … ┆ 0            ┆ 15.313334 ┆ []             ┆ []             │\n",
       "│             ┆            ┆         ┆ … -9999.0]     ┆   ┆              ┆           ┆                ┆                │\n",
       "└─────────────┴────────────┴─────────┴────────────────┴───┴──────────────┴───────────┴────────────────┴────────────────┘"
      ]
     },
     "execution_count": 9,
     "metadata": {},
     "output_type": "execute_result"
    }
   ],
   "source": [
    "#Add blank columns for daily_values_2 and qc_flags_2 \n",
    "#so we don't break the vstack\n",
    "df = df.with_columns(\n",
    "    daily_values_2 = [],\n",
    "    qc_flags_2 = []\n",
    ").with_columns(\n",
    "    pl.col(\"daily_values_2\").cast(pl.List(pl.Float32)),\n",
    "    pl.col(\"qc_flags_2\").cast(pl.List(pl.String))\n",
    ")\n",
    "\n",
    "#Finally insert our derived \n",
    "df = df.vstack(tavg).sort(\"DATE\")\n",
    "df.head()"
   ]
  },
  {
   "cell_type": "code",
   "execution_count": 10,
   "id": "cd9f3fc6-4e67-405e-a104-e70a5817e515",
   "metadata": {},
   "outputs": [
    {
     "data": {
      "text/html": [
       "<div><style>\n",
       ".dataframe > thead > tr,\n",
       ".dataframe > tbody > tr {\n",
       "  text-align: right;\n",
       "  white-space: pre-wrap;\n",
       "}\n",
       "</style>\n",
       "<small>shape: (5, 135)</small><table border=\"1\" class=\"dataframe\"><thead><tr><th>STATION</th><th>DATE</th><th>Element</th><th>daily_values</th><th>qc_flags</th><th>days_in_month</th><th>filtered_values</th><th>missing_days</th><th>value</th><th>daily_values_2</th><th>qc_flags_2</th><th>tmin_0</th><th>tmin_1</th><th>tmin_2</th><th>tmin_3</th><th>tmin_4</th><th>tmin_5</th><th>tmin_6</th><th>tmin_7</th><th>tmin_8</th><th>tmin_9</th><th>tmin_10</th><th>tmin_11</th><th>tmin_12</th><th>tmin_13</th><th>tmin_14</th><th>tmin_15</th><th>tmin_16</th><th>tmin_17</th><th>tmin_18</th><th>tmin_19</th><th>tmin_20</th><th>tmin_21</th><th>tmin_22</th><th>tmin_23</th><th>tmin_24</th><th>tmin_25</th><th>&hellip;</th><th>min_qc_25</th><th>min_qc_26</th><th>min_qc_27</th><th>min_qc_28</th><th>min_qc_29</th><th>min_qc_30</th><th>max_qc_0</th><th>max_qc_1</th><th>max_qc_2</th><th>max_qc_3</th><th>max_qc_4</th><th>max_qc_5</th><th>max_qc_6</th><th>max_qc_7</th><th>max_qc_8</th><th>max_qc_9</th><th>max_qc_10</th><th>max_qc_11</th><th>max_qc_12</th><th>max_qc_13</th><th>max_qc_14</th><th>max_qc_15</th><th>max_qc_16</th><th>max_qc_17</th><th>max_qc_18</th><th>max_qc_19</th><th>max_qc_20</th><th>max_qc_21</th><th>max_qc_22</th><th>max_qc_23</th><th>max_qc_24</th><th>max_qc_25</th><th>max_qc_26</th><th>max_qc_27</th><th>max_qc_28</th><th>max_qc_29</th><th>max_qc_30</th></tr><tr><td>str</td><td>date</td><td>str</td><td>list[f32]</td><td>list[str]</td><td>i32</td><td>list[f32]</td><td>i64</td><td>f32</td><td>list[f32]</td><td>list[str]</td><td>f32</td><td>f32</td><td>f32</td><td>f32</td><td>f32</td><td>f32</td><td>f32</td><td>f32</td><td>f32</td><td>f32</td><td>f32</td><td>f32</td><td>f32</td><td>f32</td><td>f32</td><td>f32</td><td>f32</td><td>f32</td><td>f32</td><td>f32</td><td>f32</td><td>f32</td><td>f32</td><td>f32</td><td>f32</td><td>f32</td><td>&hellip;</td><td>str</td><td>str</td><td>str</td><td>str</td><td>str</td><td>str</td><td>str</td><td>str</td><td>str</td><td>str</td><td>str</td><td>str</td><td>str</td><td>str</td><td>str</td><td>str</td><td>str</td><td>str</td><td>str</td><td>str</td><td>str</td><td>str</td><td>str</td><td>str</td><td>str</td><td>str</td><td>str</td><td>str</td><td>str</td><td>str</td><td>str</td><td>str</td><td>str</td><td>str</td><td>str</td><td>str</td><td>str</td></tr></thead><tbody><tr><td>&quot;USW00094789&quot;</td><td>1948-08-01</td><td>&quot;TMAX&quot;</td><td>[233.0, 261.0, … 283.0]</td><td>[&quot;&quot;, &quot;&quot;, … &quot;&quot;]</td><td>31</td><td>[233.0, 261.0, … 283.0]</td><td>0</td><td>27.812902</td><td>[]</td><td>[]</td><td>233.0</td><td>261.0</td><td>239.0</td><td>239.0</td><td>222.0</td><td>233.0</td><td>256.0</td><td>250.0</td><td>278.0</td><td>267.0</td><td>261.0</td><td>239.0</td><td>272.0</td><td>289.0</td><td>311.0</td><td>289.0</td><td>267.0</td><td>244.0</td><td>261.0</td><td>222.0</td><td>267.0</td><td>256.0</td><td>272.0</td><td>261.0</td><td>344.0</td><td>378.0</td><td>&hellip;</td><td>&quot;&quot;</td><td>&quot;&quot;</td><td>&quot;&quot;</td><td>&quot;&quot;</td><td>&quot;&quot;</td><td>&quot;&quot;</td><td>null</td><td>null</td><td>null</td><td>null</td><td>null</td><td>null</td><td>null</td><td>null</td><td>null</td><td>null</td><td>null</td><td>null</td><td>null</td><td>null</td><td>null</td><td>null</td><td>null</td><td>null</td><td>null</td><td>null</td><td>null</td><td>null</td><td>null</td><td>null</td><td>null</td><td>null</td><td>null</td><td>null</td><td>null</td><td>null</td><td>null</td></tr><tr><td>&quot;USW00094789&quot;</td><td>1948-08-01</td><td>&quot;TMIN&quot;</td><td>[211.0, 200.0, … 172.0]</td><td>[&quot;&quot;, &quot;&quot;, … &quot;&quot;]</td><td>31</td><td>[211.0, 200.0, … 172.0]</td><td>0</td><td>19.493549</td><td>[]</td><td>[]</td><td>211.0</td><td>200.0</td><td>189.0</td><td>206.0</td><td>194.0</td><td>167.0</td><td>150.0</td><td>161.0</td><td>172.0</td><td>167.0</td><td>161.0</td><td>206.0</td><td>206.0</td><td>189.0</td><td>172.0</td><td>189.0</td><td>178.0</td><td>183.0</td><td>200.0</td><td>194.0</td><td>183.0</td><td>183.0</td><td>183.0</td><td>194.0</td><td>217.0</td><td>244.0</td><td>&hellip;</td><td>&quot;&quot;</td><td>&quot;&quot;</td><td>&quot;&quot;</td><td>&quot;&quot;</td><td>&quot;&quot;</td><td>&quot;&quot;</td><td>null</td><td>null</td><td>null</td><td>null</td><td>null</td><td>null</td><td>null</td><td>null</td><td>null</td><td>null</td><td>null</td><td>null</td><td>null</td><td>null</td><td>null</td><td>null</td><td>null</td><td>null</td><td>null</td><td>null</td><td>null</td><td>null</td><td>null</td><td>null</td><td>null</td><td>null</td><td>null</td><td>null</td><td>null</td><td>null</td><td>null</td></tr><tr><td>&quot;USW00094789&quot;</td><td>1948-08-01</td><td>&quot;TAVG&quot;</td><td>[211.0, 200.0, … 172.0]</td><td>[&quot;&quot;, &quot;&quot;, … &quot;&quot;]</td><td>31</td><td>[211.0, 200.0, … 172.0]</td><td>0</td><td>19.493549</td><td>[233.0, 261.0, … 283.0]</td><td>[&quot;&quot;, &quot;&quot;, … &quot;&quot;]</td><td>211.0</td><td>200.0</td><td>189.0</td><td>206.0</td><td>194.0</td><td>167.0</td><td>150.0</td><td>161.0</td><td>172.0</td><td>167.0</td><td>161.0</td><td>206.0</td><td>206.0</td><td>189.0</td><td>172.0</td><td>189.0</td><td>178.0</td><td>183.0</td><td>200.0</td><td>194.0</td><td>183.0</td><td>183.0</td><td>183.0</td><td>194.0</td><td>217.0</td><td>244.0</td><td>&hellip;</td><td>&quot;&quot;</td><td>&quot;&quot;</td><td>&quot;&quot;</td><td>&quot;&quot;</td><td>&quot;&quot;</td><td>&quot;&quot;</td><td>&quot;&quot;</td><td>&quot;&quot;</td><td>&quot;&quot;</td><td>&quot;&quot;</td><td>&quot;&quot;</td><td>&quot;&quot;</td><td>&quot;&quot;</td><td>&quot;&quot;</td><td>&quot;&quot;</td><td>&quot;&quot;</td><td>&quot;&quot;</td><td>&quot;&quot;</td><td>&quot;&quot;</td><td>&quot;&quot;</td><td>&quot;&quot;</td><td>&quot;&quot;</td><td>&quot;&quot;</td><td>&quot;&quot;</td><td>&quot;&quot;</td><td>&quot;&quot;</td><td>&quot;&quot;</td><td>&quot;&quot;</td><td>&quot;&quot;</td><td>&quot;&quot;</td><td>&quot;&quot;</td><td>&quot;&quot;</td><td>&quot;&quot;</td><td>&quot;&quot;</td><td>&quot;&quot;</td><td>&quot;&quot;</td><td>&quot;&quot;</td></tr><tr><td>&quot;USW00094789&quot;</td><td>1948-09-01</td><td>&quot;TMAX&quot;</td><td>[256.0, 250.0, … -9999.0]</td><td>[&quot;&quot;, &quot;&quot;, … &quot;&quot;]</td><td>30</td><td>[256.0, 250.0, … 239.0]</td><td>0</td><td>24.969999</td><td>[]</td><td>[]</td><td>256.0</td><td>250.0</td><td>244.0</td><td>256.0</td><td>261.0</td><td>256.0</td><td>261.0</td><td>261.0</td><td>278.0</td><td>233.0</td><td>250.0</td><td>272.0</td><td>278.0</td><td>272.0</td><td>233.0</td><td>217.0</td><td>217.0</td><td>300.0</td><td>278.0</td><td>267.0</td><td>233.0</td><td>217.0</td><td>211.0</td><td>189.0</td><td>217.0</td><td>228.0</td><td>&hellip;</td><td>&quot;&quot;</td><td>&quot;&quot;</td><td>&quot;&quot;</td><td>&quot;&quot;</td><td>&quot;&quot;</td><td>&quot;&quot;</td><td>null</td><td>null</td><td>null</td><td>null</td><td>null</td><td>null</td><td>null</td><td>null</td><td>null</td><td>null</td><td>null</td><td>null</td><td>null</td><td>null</td><td>null</td><td>null</td><td>null</td><td>null</td><td>null</td><td>null</td><td>null</td><td>null</td><td>null</td><td>null</td><td>null</td><td>null</td><td>null</td><td>null</td><td>null</td><td>null</td><td>null</td></tr><tr><td>&quot;USW00094789&quot;</td><td>1948-09-01</td><td>&quot;TMIN&quot;</td><td>[144.0, 150.0, … -9999.0]</td><td>[&quot;&quot;, &quot;&quot;, … &quot;&quot;]</td><td>30</td><td>[144.0, 150.0, … 167.0]</td><td>0</td><td>15.313334</td><td>[]</td><td>[]</td><td>144.0</td><td>150.0</td><td>183.0</td><td>172.0</td><td>183.0</td><td>167.0</td><td>178.0</td><td>189.0</td><td>211.0</td><td>172.0</td><td>161.0</td><td>178.0</td><td>200.0</td><td>172.0</td><td>133.0</td><td>117.0</td><td>106.0</td><td>178.0</td><td>189.0</td><td>194.0</td><td>139.0</td><td>100.0</td><td>100.0</td><td>128.0</td><td>122.0</td><td>100.0</td><td>&hellip;</td><td>&quot;&quot;</td><td>&quot;&quot;</td><td>&quot;&quot;</td><td>&quot;&quot;</td><td>&quot;&quot;</td><td>&quot;&quot;</td><td>null</td><td>null</td><td>null</td><td>null</td><td>null</td><td>null</td><td>null</td><td>null</td><td>null</td><td>null</td><td>null</td><td>null</td><td>null</td><td>null</td><td>null</td><td>null</td><td>null</td><td>null</td><td>null</td><td>null</td><td>null</td><td>null</td><td>null</td><td>null</td><td>null</td><td>null</td><td>null</td><td>null</td><td>null</td><td>null</td><td>null</td></tr></tbody></table></div>"
      ],
      "text/plain": [
       "shape: (5, 135)\n",
       "┌─────────────┬────────────┬─────────┬───────────────────────────┬───┬───────────┬───────────┬───────────┬───────────┐\n",
       "│ STATION     ┆ DATE       ┆ Element ┆ daily_values              ┆ … ┆ max_qc_27 ┆ max_qc_28 ┆ max_qc_29 ┆ max_qc_30 │\n",
       "│ ---         ┆ ---        ┆ ---     ┆ ---                       ┆   ┆ ---       ┆ ---       ┆ ---       ┆ ---       │\n",
       "│ str         ┆ date       ┆ str     ┆ list[f32]                 ┆   ┆ str       ┆ str       ┆ str       ┆ str       │\n",
       "╞═════════════╪════════════╪═════════╪═══════════════════════════╪═══╪═══════════╪═══════════╪═══════════╪═══════════╡\n",
       "│ USW00094789 ┆ 1948-08-01 ┆ TMAX    ┆ [233.0, 261.0, … 283.0]   ┆ … ┆ null      ┆ null      ┆ null      ┆ null      │\n",
       "│ USW00094789 ┆ 1948-08-01 ┆ TMIN    ┆ [211.0, 200.0, … 172.0]   ┆ … ┆ null      ┆ null      ┆ null      ┆ null      │\n",
       "│ USW00094789 ┆ 1948-08-01 ┆ TAVG    ┆ [211.0, 200.0, … 172.0]   ┆ … ┆           ┆           ┆           ┆           │\n",
       "│ USW00094789 ┆ 1948-09-01 ┆ TMAX    ┆ [256.0, 250.0, … -9999.0] ┆ … ┆ null      ┆ null      ┆ null      ┆ null      │\n",
       "│ USW00094789 ┆ 1948-09-01 ┆ TMIN    ┆ [144.0, 150.0, … -9999.0] ┆ … ┆ null      ┆ null      ┆ null      ┆ null      │\n",
       "└─────────────┴────────────┴─────────┴───────────────────────────┴───┴───────────┴───────────┴───────────┴───────────┘"
      ]
     },
     "execution_count": 10,
     "metadata": {},
     "output_type": "execute_result"
    }
   ],
   "source": [
    "tmin_vals = [\"tmin_\" + str(i) for i in range(31)]\n",
    "tmax_vals = [\"tmax_\" + str(i) for i in range(31)]\n",
    "min_qc_flags = [\"min_qc_\" + str(i) for i in range(31)]\n",
    "max_qc_flags = [\"max_qc_\" + str(i) for i in range(31)]\n",
    "\n",
    "df = df.with_columns(\n",
    "        df.select( \n",
    "            pl.col.daily_values.list.to_struct(fields=tmin_vals)\n",
    "        ).unnest(\"daily_values\")\n",
    "    ).with_columns(\n",
    "         df.select( \n",
    "            pl.col.daily_values_2.list.to_struct(fields=tmax_vals)\n",
    "        ).unnest(\"daily_values_2\")\n",
    "    ).with_columns(\n",
    "        df.select( \n",
    "            pl.col.qc_flags.list.to_struct(fields=min_qc_flags)\n",
    "        ).unnest(\"qc_flags\")\n",
    "    ).with_columns(\n",
    "        df.select( \n",
    "            pl.col.qc_flags_2.list.to_struct(fields=max_qc_flags)\n",
    "        ).unnest(\"qc_flags_2\")\n",
    "    )\n",
    "\n",
    "df.head()"
   ]
  },
  {
   "cell_type": "markdown",
   "id": "89141145-b3c2-45ab-9631-c71daae54bf4",
   "metadata": {},
   "source": [
    "**135 columns?** Have you lost your mind, Brodie?!\n",
    "\n",
    "Just remember your mantra, kids:\n",
    "\n",
    "<img src=\"imgs/free_real_estate.png\" alt=\"image\" width=\"500\" height=\"auto\">\n",
    "\n",
    "\n",
    "OK. I promise we're almost there! So how are we supposed to write a query that compares 125 columns? We're going to dynamically build 31 queries using a loop. I know I titled the presentation \"Breaking Out of the Loop\", but we're really going to want to make an exception here. "
   ]
  },
  {
   "cell_type": "code",
   "execution_count": 11,
   "id": "b1b3dee5-0ef2-4cda-9bf9-b802925775ce",
   "metadata": {},
   "outputs": [
    {
     "data": {
      "text/html": [
       "<div><style>\n",
       ".dataframe > thead > tr,\n",
       ".dataframe > tbody > tr {\n",
       "  text-align: right;\n",
       "  white-space: pre-wrap;\n",
       "}\n",
       "</style>\n",
       "<small>shape: (5, 13)</small><table border=\"1\" class=\"dataframe\"><thead><tr><th>STATION</th><th>DATE</th><th>Element</th><th>daily_values</th><th>qc_flags</th><th>days_in_month</th><th>filtered_values</th><th>missing_days</th><th>value</th><th>daily_values_2</th><th>qc_flags_2</th><th>daily_average_struct</th><th>daily_averages</th></tr><tr><td>str</td><td>date</td><td>str</td><td>list[f32]</td><td>list[str]</td><td>i32</td><td>list[f32]</td><td>i64</td><td>f32</td><td>list[f32]</td><td>list[str]</td><td>struct[31]</td><td>list[f32]</td></tr></thead><tbody><tr><td>&quot;USW00094789&quot;</td><td>1948-08-01</td><td>&quot;TAVG&quot;</td><td>[211.0, 200.0, … 172.0]</td><td>[&quot;&quot;, &quot;&quot;, … &quot;&quot;]</td><td>31</td><td>[211.0, 200.0, … 172.0]</td><td>0</td><td>19.493549</td><td>[233.0, 261.0, … 283.0]</td><td>[&quot;&quot;, &quot;&quot;, … &quot;&quot;]</td><td>{22.200001,23.050001,21.4,22.25,20.800001,20.0,20.300001,20.550001,22.5,21.700001,21.1,22.25,23.9,23.9,24.15,23.9,22.25,21.35,23.050001,20.800001,22.5,21.950001,22.75,22.75,28.050001,31.1,31.35,30.85,30.6,27.200001,22.75}</td><td>[22.200001, 23.050001, … 22.75]</td></tr><tr><td>&quot;USW00094789&quot;</td><td>1948-09-01</td><td>&quot;TAVG&quot;</td><td>[144.0, 150.0, … -9999.0]</td><td>[&quot;&quot;, &quot;&quot;, … &quot;&quot;]</td><td>30</td><td>[144.0, 150.0, … 167.0]</td><td>0</td><td>15.313334</td><td>[256.0, 250.0, … -9999.0]</td><td>[&quot;&quot;, &quot;&quot;, … &quot;&quot;]</td><td>{20.0,20.0,21.35,21.4,22.200001,21.15,21.950001,22.5,24.450001,20.25,20.550001,22.5,23.9,22.200001,18.300001,16.700001,16.15,23.9,23.35,23.050001,18.6,15.85,15.55,15.85,16.950001,16.4,17.75,20.300001,20.85,20.300001,-9999.0}</td><td>[20.0, 20.0, … -9999.0]</td></tr><tr><td>&quot;USW00094789&quot;</td><td>1948-10-01</td><td>&quot;TAVG&quot;</td><td>[167.0, 161.0, … 67.0]</td><td>[&quot;&quot;, &quot;&quot;, … &quot;&quot;]</td><td>31</td><td>[167.0, 161.0, … 67.0]</td><td>0</td><td>8.841936</td><td>[256.0, 261.0, … 200.0]</td><td>[&quot;&quot;, &quot;&quot;, … &quot;&quot;]</td><td>{21.15,21.1,15.85,11.7,11.95,14.75,18.050001,16.65,14.45,16.4,16.950001,15.8,14.150001,12.5,12.8,11.400001,16.35,10.25,5.3,8.35,7.5,8.900001,10.85,9.45,10.25,14.7,12.8,11.95,13.900001,11.400001,13.35}</td><td>[21.15, 21.1, … 13.35]</td></tr><tr><td>&quot;USW00094789&quot;</td><td>1948-11-01</td><td>&quot;TAVG&quot;</td><td>[100.0, 56.0, … -9999.0]</td><td>[&quot;&quot;, &quot;&quot;, … &quot;&quot;]</td><td>30</td><td>[100.0, 56.0, … -6.0]</td><td>0</td><td>6.6</td><td>[172.0, 128.0, … -9999.0]</td><td>[&quot;&quot;, &quot;&quot;, … &quot;&quot;]</td><td>{13.6,9.2,10.6,15.3,16.1,16.950001,13.85,11.150001,11.95,14.45,9.45,9.7,10.8,7.75,10.0,9.2,11.400001,10.55,9.2,15.6,10.0,8.6,9.7,8.650001,7.8,6.7,11.400001,5.55,3.1,3.3,-9999.0}</td><td>[13.6, 9.2, … -9999.0]</td></tr><tr><td>&quot;USW00094789&quot;</td><td>1948-12-01</td><td>&quot;TAVG&quot;</td><td>[22.0, -6.0, … -39.0]</td><td>[&quot;&quot;, &quot;&quot;, … &quot;&quot;]</td><td>31</td><td>[22.0, -6.0, … -39.0]</td><td>0</td><td>-1.148387</td><td>[106.0, 83.0, … 100.0]</td><td>[&quot;&quot;, &quot;&quot;, … &quot;&quot;]</td><td>{6.4,3.85,6.95,8.900001,8.3,10.0,8.05,8.85,2.8,3.35,1.95,6.95,10.55,6.1,-0.25,3.35,4.15,0.3,-1.95,-2.8,-1.15,1.65,0.55,-5.25,-8.05,-9.45,-6.95,-0.85,3.6,10.8,3.05}</td><td>[6.4, 3.85, … 3.05]</td></tr></tbody></table></div>"
      ],
      "text/plain": [
       "shape: (5, 13)\n",
       "┌─────────────┬────────────┬─────────┬───────────────┬───┬───────────────┬───────────────┬──────────────┬──────────────┐\n",
       "│ STATION     ┆ DATE       ┆ Element ┆ daily_values  ┆ … ┆ daily_values_ ┆ qc_flags_2    ┆ daily_averag ┆ daily_averag │\n",
       "│ ---         ┆ ---        ┆ ---     ┆ ---           ┆   ┆ 2             ┆ ---           ┆ e_struct     ┆ es           │\n",
       "│ str         ┆ date       ┆ str     ┆ list[f32]     ┆   ┆ ---           ┆ list[str]     ┆ ---          ┆ ---          │\n",
       "│             ┆            ┆         ┆               ┆   ┆ list[f32]     ┆               ┆ struct[31]   ┆ list[f32]    │\n",
       "╞═════════════╪════════════╪═════════╪═══════════════╪═══╪═══════════════╪═══════════════╪══════════════╪══════════════╡\n",
       "│ USW00094789 ┆ 1948-08-01 ┆ TAVG    ┆ [211.0,       ┆ … ┆ [233.0,       ┆ [\"\", \"\", …    ┆ {22.200001,2 ┆ [22.200001,  │\n",
       "│             ┆            ┆         ┆ 200.0, …      ┆   ┆ 261.0, …      ┆ \"\"]           ┆ 3.050001,21. ┆ 23.050001, … │\n",
       "│             ┆            ┆         ┆ 172.0]        ┆   ┆ 283.0]        ┆               ┆ 4,22.2…      ┆ 22.75…       │\n",
       "│ USW00094789 ┆ 1948-09-01 ┆ TAVG    ┆ [144.0,       ┆ … ┆ [256.0,       ┆ [\"\", \"\", …    ┆ {20.0,20.0,2 ┆ [20.0, 20.0, │\n",
       "│             ┆            ┆         ┆ 150.0, …      ┆   ┆ 250.0, …      ┆ \"\"]           ┆ 1.35,21.4,22 ┆ … -9999.0]   │\n",
       "│             ┆            ┆         ┆ -9999.0]      ┆   ┆ -9999.0]      ┆               ┆ .20000…      ┆              │\n",
       "│ USW00094789 ┆ 1948-10-01 ┆ TAVG    ┆ [167.0,       ┆ … ┆ [256.0,       ┆ [\"\", \"\", …    ┆ {21.15,21.1, ┆ [21.15,      │\n",
       "│             ┆            ┆         ┆ 161.0, …      ┆   ┆ 261.0, …      ┆ \"\"]           ┆ 15.85,11.7,1 ┆ 21.1, …      │\n",
       "│             ┆            ┆         ┆ 67.0]         ┆   ┆ 200.0]        ┆               ┆ 1.95,1…      ┆ 13.35]       │\n",
       "│ USW00094789 ┆ 1948-11-01 ┆ TAVG    ┆ [100.0, 56.0, ┆ … ┆ [172.0,       ┆ [\"\", \"\", …    ┆ {13.6,9.2,10 ┆ [13.6, 9.2,  │\n",
       "│             ┆            ┆         ┆ … -9999.0]    ┆   ┆ 128.0, …      ┆ \"\"]           ┆ .6,15.3,16.1 ┆ … -9999.0]   │\n",
       "│             ┆            ┆         ┆               ┆   ┆ -9999.0]      ┆               ┆ ,16.95…      ┆              │\n",
       "│ USW00094789 ┆ 1948-12-01 ┆ TAVG    ┆ [22.0, -6.0,  ┆ … ┆ [106.0, 83.0, ┆ [\"\", \"\", …    ┆ {6.4,3.85,6. ┆ [6.4, 3.85,  │\n",
       "│             ┆            ┆         ┆ … -39.0]      ┆   ┆ … 100.0]      ┆ \"\"]           ┆ 95,8.900001, ┆ … 3.05]      │\n",
       "│             ┆            ┆         ┆               ┆   ┆               ┆               ┆ 8.3,10…      ┆              │\n",
       "└─────────────┴────────────┴─────────┴───────────────┴───┴───────────────┴───────────────┴──────────────┴──────────────┘"
      ]
     },
     "execution_count": 11,
     "metadata": {},
     "output_type": "execute_result"
    }
   ],
   "source": [
    "daily_average_expressions = []\n",
    "daily_averages = [\"da_\" + str(i) for i in range(31)]\n",
    "\n",
    "for v, v2, qc, qc2, dv in zip(tmin_vals, tmax_vals, min_qc_flags, max_qc_flags, daily_averages):\n",
    "    daily_average_expressions.append(\n",
    "        pl.when(\n",
    "            pl.col(\"Element\").is_in([\"TAVG\"]) \n",
    "            & ~pl.col( v ).is_in([-9999.0])\n",
    "            & pl.col( qc ).is_in([\"\"])\n",
    "            & ~pl.col( v2 ).is_in([-9999.0])\n",
    "            & pl.col( qc2 ).is_in([\"\"])\n",
    "        ).then(\n",
    "            ((pl.col(v) + pl.col(v2))/2)*.1\n",
    "        ).otherwise(\n",
    "            -9999.0\n",
    "        ).alias(dv)\n",
    "    )\n",
    "\n",
    "#\n",
    "import polars.selectors as cs\n",
    "\n",
    "df = df.with_columns(\n",
    "            daily_average_expressions\n",
    "        ).with_columns(\n",
    "            daily_average_struct = pl.struct(daily_averages)\n",
    "        ).with_columns(\n",
    "            daily_averages = pl.concat_list(cs.matches(\".*da_.*\"))\n",
    "        )\n",
    "\n",
    "#Say goodbye to all those columns!\n",
    "drop_list = daily_averages + tmin_vals + tmax_vals + min_qc_flags + max_qc_flags\n",
    "df = df.drop(drop_list)\n",
    "\n",
    "df.filter(pl.col.Element.is_in([\"TAVG\"])).head()"
   ]
  },
  {
   "cell_type": "markdown",
   "id": "fa92bbee-0159-44ec-a00a-d877af94930e",
   "metadata": {},
   "source": [
    "We got our daily_average list, dropped those ugly 125 columns, and the processor didn't burst into flames. Let's now mean a filtered version of daily_averages(see the data validation portion for a simpler version of this) and assign it as the \"value\" of TAVG. Let's be careful not to overwrite the work we did on TMIN and TMAX."
   ]
  },
  {
   "cell_type": "code",
   "execution_count": 12,
   "id": "665ef4b1-345b-44fd-ab21-c0d32459af92",
   "metadata": {},
   "outputs": [
    {
     "data": {
      "text/html": [
       "<div><style>\n",
       ".dataframe > thead > tr,\n",
       ".dataframe > tbody > tr {\n",
       "  text-align: right;\n",
       "  white-space: pre-wrap;\n",
       "}\n",
       "</style>\n",
       "<small>shape: (6, 3)</small><table border=\"1\" class=\"dataframe\"><thead><tr><th>DATE</th><th>Element</th><th>value</th></tr><tr><td>date</td><td>str</td><td>f32</td></tr></thead><tbody><tr><td>1948-08-01</td><td>&quot;TMAX&quot;</td><td>27.812902</td></tr><tr><td>1948-08-01</td><td>&quot;TMIN&quot;</td><td>19.493549</td></tr><tr><td>1948-08-01</td><td>&quot;TAVG&quot;</td><td>23.653221</td></tr><tr><td>1948-09-01</td><td>&quot;TMAX&quot;</td><td>24.969999</td></tr><tr><td>1948-09-01</td><td>&quot;TMIN&quot;</td><td>15.313334</td></tr><tr><td>1948-09-01</td><td>&quot;TAVG&quot;</td><td>20.141665</td></tr></tbody></table></div>"
      ],
      "text/plain": [
       "shape: (6, 3)\n",
       "┌────────────┬─────────┬───────────┐\n",
       "│ DATE       ┆ Element ┆ value     │\n",
       "│ ---        ┆ ---     ┆ ---       │\n",
       "│ date       ┆ str     ┆ f32       │\n",
       "╞════════════╪═════════╪═══════════╡\n",
       "│ 1948-08-01 ┆ TMAX    ┆ 27.812902 │\n",
       "│ 1948-08-01 ┆ TMIN    ┆ 19.493549 │\n",
       "│ 1948-08-01 ┆ TAVG    ┆ 23.653221 │\n",
       "│ 1948-09-01 ┆ TMAX    ┆ 24.969999 │\n",
       "│ 1948-09-01 ┆ TMIN    ┆ 15.313334 │\n",
       "│ 1948-09-01 ┆ TAVG    ┆ 20.141665 │\n",
       "└────────────┴─────────┴───────────┘"
      ]
     },
     "execution_count": 12,
     "metadata": {},
     "output_type": "execute_result"
    }
   ],
   "source": [
    "df = df.with_columns(\n",
    "    filtered_daily_averages = pl.col(\"daily_averages\").list.eval(\n",
    "        pl.element().filter(pl.element() != -9999.0)\n",
    "    )\n",
    ").with_columns(\n",
    "    pl.when(\n",
    "        #If you have more than one condition,\n",
    "        #use .is_in([])\n",
    "        pl.col(\"Element\") == \"TAVG\"\n",
    "    ).then(\n",
    "        pl.col(\"filtered_daily_averages\").list.mean()\n",
    "    \n",
    "    #if not TAVG, then use previous value\n",
    "    ).otherwise(\n",
    "        pl.col(\"value\")\n",
    "    ).alias(\"value\")\n",
    ")\n",
    "\n",
    "df.select([\"DATE\", \"Element\", \"value\"]).head(6)"
   ]
  },
  {
   "cell_type": "markdown",
   "id": "9675a2df-46a4-4f58-83d5-07f7b132c263",
   "metadata": {},
   "source": [
    "#### 2D - \"Tap Out\" Requirements\n",
    "***\n",
    "Ok, so you really tried your best to use native Polars or Pandas expressions, but neither you nor the AI can get the right output. What now? Now we're going to create a custom, \"Just in time\" compiled function using Numba. We'll then use Polars map_batches to pass our daily_average list to a compiled function.\n",
    "\n",
    "I can't stress strongly enough that we used **native** Polars expressions for Cooling Degree Days and Heating Degree Days. Time is running short and this is about as complex a problem as we can explore."
   ]
  },
  {
   "cell_type": "code",
   "execution_count": 13,
   "id": "b4dd2749-40cc-4918-9a40-71d548bc83bb",
   "metadata": {},
   "outputs": [],
   "source": [
    "import numpy as np\n",
    "from numba import float64, boolean, guvectorize\n",
    "\n",
    "#Check the daily average against the ideal temp, 65F. Sum the differences (hot and cold) for the month.\n",
    "@guvectorize([(float64[:], float64[:], float64[:], float64[:], float64[:], float64[:], float64[:], float64[:], float64[:], float64[:], float64[:], float64[:], float64[:], \n",
    "float64[:], float64[:], float64[:], float64[:], float64[:], float64[:], float64[:], float64[:], float64[:], float64[:], float64[:], float64[:], float64[:], float64[:], \n",
    "float64[:], float64[:], float64[:], float64[:], float64[:], float64[:, :])], \n",
    "\"(d), (n), (n), (n), (n), (n), (n), (n), (n), (n), (n), (n), (n), (n), (n), (n), (n), (n), (n), (n), (n), (n), (n), (n), (n), (n), (n), (n), (n), (n), (n), (n)->(n, d)\")\n",
    "def monthly_degree_days(empty, d1, d2, d3, d4, d5, d6, d7, d8, d9, d10, d11, d12, d13, d14, d15, d16, d17, d18, d19, d20, d21, d22, d23, d24, d25, d26, d27, d28, d29, d30, d31, mdd):\n",
    "    \n",
    "    month = [d1, d2, d3, d4, d5, d6, d7, d8, d9, d10, d11, d12, d13, d14, d15, d16, d17, d18, d19, d20, d21, d22, d23, d24, d25, d26, d27, d28, d29, d30, d31]\n",
    "    ideal_temp = 18.333333333 #metric\n",
    "    \n",
    "    for row in range(len(d1)):\n",
    "\n",
    "        cooling_degree_day = 0.0\n",
    "        heating_degree_day = 0.0\n",
    "    \n",
    "        for day in range(len(month)):\n",
    "            average = month[day][row]\n",
    "            if average != -9999.0:\n",
    "                if average < ideal_temp:\n",
    "                    ideal_diff = ideal_temp - average\n",
    "                    heating_degree_day = heating_degree_day + ideal_diff\n",
    "                else:\n",
    "                    ideal_diff = average - ideal_temp\n",
    "                    cooling_degree_day = cooling_degree_day + ideal_diff\n",
    "\n",
    "                \n",
    "        mdd[row][0] = round(cooling_degree_day, 1)#CLDD\n",
    "        mdd[row][1] = round(heating_degree_day, 1)#HTDD"
   ]
  },
  {
   "cell_type": "code",
   "execution_count": 14,
   "id": "c1490d4a-41eb-4e75-8ee0-18d2d653e945",
   "metadata": {},
   "outputs": [
    {
     "data": {
      "text/html": [
       "<div><style>\n",
       ".dataframe > thead > tr,\n",
       ".dataframe > tbody > tr {\n",
       "  text-align: right;\n",
       "  white-space: pre-wrap;\n",
       "}\n",
       "</style>\n",
       "<small>shape: (4_595, 3)</small><table border=\"1\" class=\"dataframe\"><thead><tr><th>DATE</th><th>Element</th><th>value</th></tr><tr><td>date</td><td>str</td><td>f32</td></tr></thead><tbody><tr><td>1948-08-01</td><td>&quot;TMAX&quot;</td><td>27.809999</td></tr><tr><td>1948-08-01</td><td>&quot;TMIN&quot;</td><td>19.49</td></tr><tr><td>1948-08-01</td><td>&quot;TAVG&quot;</td><td>23.65</td></tr><tr><td>1948-08-01</td><td>&quot;CLDD&quot;</td><td>164.899994</td></tr><tr><td>1948-08-01</td><td>&quot;HTDD&quot;</td><td>0.0</td></tr><tr><td>&hellip;</td><td>&hellip;</td><td>&hellip;</td></tr><tr><td>2025-02-01</td><td>&quot;TMAX&quot;</td><td>6.65</td></tr><tr><td>2025-02-01</td><td>&quot;TMIN&quot;</td><td>-0.82</td></tr><tr><td>2025-02-01</td><td>&quot;TAVG&quot;</td><td>2.91</td></tr><tr><td>2025-02-01</td><td>&quot;CLDD&quot;</td><td>0.0</td></tr><tr><td>2025-02-01</td><td>&quot;HTDD&quot;</td><td>431.700012</td></tr></tbody></table></div>"
      ],
      "text/plain": [
       "shape: (4_595, 3)\n",
       "┌────────────┬─────────┬────────────┐\n",
       "│ DATE       ┆ Element ┆ value      │\n",
       "│ ---        ┆ ---     ┆ ---        │\n",
       "│ date       ┆ str     ┆ f32        │\n",
       "╞════════════╪═════════╪════════════╡\n",
       "│ 1948-08-01 ┆ TMAX    ┆ 27.809999  │\n",
       "│ 1948-08-01 ┆ TMIN    ┆ 19.49      │\n",
       "│ 1948-08-01 ┆ TAVG    ┆ 23.65      │\n",
       "│ 1948-08-01 ┆ CLDD    ┆ 164.899994 │\n",
       "│ 1948-08-01 ┆ HTDD    ┆ 0.0        │\n",
       "│ …          ┆ …       ┆ …          │\n",
       "│ 2025-02-01 ┆ TMAX    ┆ 6.65       │\n",
       "│ 2025-02-01 ┆ TMIN    ┆ -0.82      │\n",
       "│ 2025-02-01 ┆ TAVG    ┆ 2.91       │\n",
       "│ 2025-02-01 ┆ CLDD    ┆ 0.0        │\n",
       "│ 2025-02-01 ┆ HTDD    ┆ 431.700012 │\n",
       "└────────────┴─────────┴────────────┘"
      ]
     },
     "execution_count": 14,
     "metadata": {},
     "output_type": "execute_result"
    }
   ],
   "source": [
    "df = df.with_columns(\n",
    "        pl.when(\n",
    "            pl.col(\"Element\") == \"TAVG\"\n",
    "        ).then(\n",
    "            pl.col(\"daily_average_struct\").map_batches(\n",
    "                lambda da: monthly_degree_days(\n",
    "                    #The first parameter is so that we have the correct shape for output signature (#TODO best way to do this?)\n",
    "                    np.array([0.0, 0.0]), da.struct.field(\"da_0\"), da.struct.field(\"da_1\"), da.struct.field(\"da_2\"), da.struct.field(\"da_3\"), da.struct.field(\"da_4\"), da.struct.field(\"da_5\")\n",
    "                    , da.struct.field(\"da_6\"), da.struct.field(\"da_7\"), da.struct.field(\"da_8\"), da.struct.field(\"da_9\"), da.struct.field(\"da_10\")\n",
    "                    , da.struct.field(\"da_11\"), da.struct.field(\"da_12\"), da.struct.field(\"da_13\"), da.struct.field(\"da_14\"), da.struct.field(\"da_15\")\n",
    "                    , da.struct.field(\"da_16\"), da.struct.field(\"da_17\"), da.struct.field(\"da_18\"), da.struct.field(\"da_19\"), da.struct.field(\"da_20\")\n",
    "                    , da.struct.field(\"da_21\"), da.struct.field(\"da_22\"), da.struct.field(\"da_23\"), da.struct.field(\"da_24\"), da.struct.field(\"da_25\")\n",
    "                    , da.struct.field(\"da_26\"), da.struct.field(\"da_27\"), da.struct.field(\"da_28\"), da.struct.field(\"da_29\"), da.struct.field(\"da_30\")), return_dtype=pl.Array(pl.Float64, 1)\n",
    "            )\n",
    "        ).alias(\n",
    "            \"CLDD_HTDD\"\n",
    "        )\n",
    "    ).with_columns(\n",
    "        pl.col(\"CLDD_HTDD\").list.to_struct(fields=[\"CLDD\", \"HTDD\"])\n",
    "    ).unnest(\"CLDD_HTDD\")\n",
    "\n",
    "CLDD = HTDD = df.filter(pl.col(\"Element\").is_in([\"TAVG\"]))\n",
    "\n",
    "CLDD = CLDD.with_columns(\n",
    "                Element = pl.lit(\"CLDD\")\n",
    "            ).with_columns(\n",
    "                value = pl.col(\"CLDD\").cast(pl.Float32)\n",
    "            )\n",
    "\n",
    "HTDD = HTDD.with_columns(\n",
    "                Element = pl.lit(\"HTDD\")\n",
    "            ).with_columns(\n",
    "                value = pl.col(\"HTDD\").cast(pl.Float32)\n",
    "            )\n",
    "\n",
    "df = df.vstack(CLDD)\n",
    "df = df.vstack(HTDD)\n",
    "\n",
    "#We're done with our calculations, so let's round them, eh?\n",
    "df = df.with_columns(\n",
    "    value = pl.col(\"value\").round(2)\n",
    ")\n",
    "\n",
    "df.select(\"DATE\", \"Element\", \"value\").sort(\"DATE\")"
   ]
  },
  {
   "cell_type": "markdown",
   "id": "293df93a-c620-44f5-afe3-ae6913ede46b",
   "metadata": {},
   "source": [
    "### Part 3 - Creating the Output CSV\n",
    "***"
   ]
  },
  {
   "cell_type": "code",
   "execution_count": 19,
   "id": "9bca5f4c-afd2-4d33-8b9a-6d3415e97cde",
   "metadata": {},
   "outputs": [
    {
     "data": {
      "text/html": [
       "<div><style>\n",
       ".dataframe > thead > tr,\n",
       ".dataframe > tbody > tr {\n",
       "  text-align: right;\n",
       "  white-space: pre-wrap;\n",
       "}\n",
       "</style>\n",
       "<small>shape: (5, 11)</small><table border=\"1\" class=\"dataframe\"><thead><tr><th>DATE</th><th>value_TMAX</th><th>value_TMIN</th><th>value_TAVG</th><th>value_CLDD</th><th>value_HTDD</th><th>flags_TMAX</th><th>flags_TMIN</th><th>flags_TAVG</th><th>flags_CLDD</th><th>flags_HTDD</th></tr><tr><td>date</td><td>f32</td><td>f32</td><td>f32</td><td>f32</td><td>f32</td><td>str</td><td>str</td><td>str</td><td>str</td><td>str</td></tr></thead><tbody><tr><td>1948-08-01</td><td>27.809999</td><td>19.49</td><td>23.65</td><td>164.899994</td><td>0.0</td><td>&quot;x, y, z&quot;</td><td>&quot;x, y, z&quot;</td><td>&quot;x, y, z&quot;</td><td>&quot;x, y, z&quot;</td><td>&quot;x, y, z&quot;</td></tr><tr><td>1948-09-01</td><td>24.969999</td><td>15.31</td><td>20.139999</td><td>69.800003</td><td>15.5</td><td>&quot;x, y, z&quot;</td><td>&quot;x, y, z&quot;</td><td>&quot;x, y, z&quot;</td><td>&quot;x, y, z&quot;</td><td>&quot;x, y, z&quot;</td></tr><tr><td>1948-10-01</td><td>17.67</td><td>8.84</td><td>13.26</td><td>5.6</td><td>163.0</td><td>&quot;x, y, z&quot;</td><td>&quot;x, y, z&quot;</td><td>&quot;x, y, z&quot;</td><td>&quot;x, y, z&quot;</td><td>&quot;x, y, z&quot;</td></tr><tr><td>1948-11-01</td><td>14.17</td><td>6.6</td><td>10.39</td><td>0.0</td><td>238.399994</td><td>&quot;x, y, z&quot;</td><td>&quot;x, y, z&quot;</td><td>&quot;x, y, z&quot;</td><td>&quot;x, y, z&quot;</td><td>&quot;x, y, z&quot;</td></tr><tr><td>1948-12-01</td><td>6.55</td><td>-1.15</td><td>2.7</td><td>0.0</td><td>484.600006</td><td>&quot;x, y, z&quot;</td><td>&quot;x, y, z&quot;</td><td>&quot;x, y, z&quot;</td><td>&quot;x, y, z&quot;</td><td>&quot;x, y, z&quot;</td></tr></tbody></table></div>"
      ],
      "text/plain": [
       "shape: (5, 11)\n",
       "┌────────────┬────────────┬────────────┬────────────┬───┬────────────┬────────────┬────────────┬────────────┐\n",
       "│ DATE       ┆ value_TMAX ┆ value_TMIN ┆ value_TAVG ┆ … ┆ flags_TMIN ┆ flags_TAVG ┆ flags_CLDD ┆ flags_HTDD │\n",
       "│ ---        ┆ ---        ┆ ---        ┆ ---        ┆   ┆ ---        ┆ ---        ┆ ---        ┆ ---        │\n",
       "│ date       ┆ f32        ┆ f32        ┆ f32        ┆   ┆ str        ┆ str        ┆ str        ┆ str        │\n",
       "╞════════════╪════════════╪════════════╪════════════╪═══╪════════════╪════════════╪════════════╪════════════╡\n",
       "│ 1948-08-01 ┆ 27.809999  ┆ 19.49      ┆ 23.65      ┆ … ┆ x, y, z    ┆ x, y, z    ┆ x, y, z    ┆ x, y, z    │\n",
       "│ 1948-09-01 ┆ 24.969999  ┆ 15.31      ┆ 20.139999  ┆ … ┆ x, y, z    ┆ x, y, z    ┆ x, y, z    ┆ x, y, z    │\n",
       "│ 1948-10-01 ┆ 17.67      ┆ 8.84       ┆ 13.26      ┆ … ┆ x, y, z    ┆ x, y, z    ┆ x, y, z    ┆ x, y, z    │\n",
       "│ 1948-11-01 ┆ 14.17      ┆ 6.6        ┆ 10.39      ┆ … ┆ x, y, z    ┆ x, y, z    ┆ x, y, z    ┆ x, y, z    │\n",
       "│ 1948-12-01 ┆ 6.55       ┆ -1.15      ┆ 2.7        ┆ … ┆ x, y, z    ┆ x, y, z    ┆ x, y, z    ┆ x, y, z    │\n",
       "└────────────┴────────────┴────────────┴────────────┴───┴────────────┴────────────┴────────────┴────────────┘"
      ]
     },
     "execution_count": 19,
     "metadata": {},
     "output_type": "execute_result"
    }
   ],
   "source": [
    "#TODO Pivot the dataframe to the final structure\n",
    "\n",
    "#In the real version, every Element comes with a corresponding \"attributes\" column\n",
    "#To make our pivot more interesting, let's go ahead and create a generic one for all elements\n",
    "df = df.with_columns(\n",
    "    flags = pl.lit(\"x, y, z\")\n",
    ")\n",
    "\n",
    "\n",
    "outputDF = df.pivot(\"Element\", index=\"DATE\", values=[\"value\", \"flags\"])\n",
    "\n",
    "outputDF.head()"
   ]
  },
  {
   "cell_type": "code",
   "execution_count": 20,
   "id": "aa8f801c-32bd-4d17-befe-a85065b06a6e",
   "metadata": {},
   "outputs": [
    {
     "ename": "ComputeError",
     "evalue": "CSV format does not support nested data",
     "output_type": "error",
     "traceback": [
      "\u001b[31m---------------------------------------------------------------------------\u001b[39m",
      "\u001b[31mComputeError\u001b[39m                              Traceback (most recent call last)",
      "\u001b[36mCell\u001b[39m\u001b[36m \u001b[39m\u001b[32mIn[20]\u001b[39m\u001b[32m, line 1\u001b[39m\n\u001b[32m----> \u001b[39m\u001b[32m1\u001b[39m \u001b[43mdf\u001b[49m\u001b[43m.\u001b[49m\u001b[43mwrite_csv\u001b[49m\u001b[43m(\u001b[49m\u001b[33;43m\"\u001b[39;49m\u001b[33;43moutput/summary.csv\u001b[39;49m\u001b[33;43m\"\u001b[39;49m\u001b[43m,\u001b[49m\u001b[43m \u001b[49m\u001b[43mseparator\u001b[49m\u001b[43m=\u001b[49m\u001b[33;43m\"\u001b[39;49m\u001b[33;43m,\u001b[39;49m\u001b[33;43m\"\u001b[39;49m\u001b[43m)\u001b[49m\u001b[38;5;66;03m#TODO Write to CSV to local\u001b[39;00m\n",
      "\u001b[36mFile \u001b[39m\u001b[32m~\\AppData\\Local\\Programs\\Python\\Python312\\Lib\\site-packages\\polars\\dataframe\\frame.py:3073\u001b[39m, in \u001b[36mDataFrame.write_csv\u001b[39m\u001b[34m(self, file, include_bom, include_header, separator, line_terminator, quote_char, batch_size, datetime_format, date_format, time_format, float_scientific, float_precision, null_value, quote_style, storage_options, credential_provider, retries)\u001b[39m\n\u001b[32m   3069\u001b[39m engine: EngineType = \u001b[33m\"\u001b[39m\u001b[33min-memory\u001b[39m\u001b[33m\"\u001b[39m\n\u001b[32m   3071\u001b[39m \u001b[38;5;28;01mfrom\u001b[39;00m\u001b[38;5;250m \u001b[39m\u001b[34;01mpolars\u001b[39;00m\u001b[34;01m.\u001b[39;00m\u001b[34;01mlazyframe\u001b[39;00m\u001b[34;01m.\u001b[39;00m\u001b[34;01mopt_flags\u001b[39;00m\u001b[38;5;250m \u001b[39m\u001b[38;5;28;01mimport\u001b[39;00m QueryOptFlags\n\u001b[32m-> \u001b[39m\u001b[32m3073\u001b[39m \u001b[38;5;28;43mself\u001b[39;49m\u001b[43m.\u001b[49m\u001b[43mlazy\u001b[49m\u001b[43m(\u001b[49m\u001b[43m)\u001b[49m\u001b[43m.\u001b[49m\u001b[43msink_csv\u001b[49m\u001b[43m(\u001b[49m\n\u001b[32m   3074\u001b[39m \u001b[43m    \u001b[49m\u001b[43mtarget\u001b[49m\u001b[43m,\u001b[49m\n\u001b[32m   3075\u001b[39m \u001b[43m    \u001b[49m\u001b[43minclude_bom\u001b[49m\u001b[43m=\u001b[49m\u001b[43minclude_bom\u001b[49m\u001b[43m,\u001b[49m\n\u001b[32m   3076\u001b[39m \u001b[43m    \u001b[49m\u001b[43minclude_header\u001b[49m\u001b[43m=\u001b[49m\u001b[43minclude_header\u001b[49m\u001b[43m,\u001b[49m\n\u001b[32m   3077\u001b[39m \u001b[43m    \u001b[49m\u001b[43mseparator\u001b[49m\u001b[43m=\u001b[49m\u001b[43mseparator\u001b[49m\u001b[43m,\u001b[49m\n\u001b[32m   3078\u001b[39m \u001b[43m    \u001b[49m\u001b[43mline_terminator\u001b[49m\u001b[43m=\u001b[49m\u001b[43mline_terminator\u001b[49m\u001b[43m,\u001b[49m\n\u001b[32m   3079\u001b[39m \u001b[43m    \u001b[49m\u001b[43mquote_char\u001b[49m\u001b[43m=\u001b[49m\u001b[43mquote_char\u001b[49m\u001b[43m,\u001b[49m\n\u001b[32m   3080\u001b[39m \u001b[43m    \u001b[49m\u001b[43mbatch_size\u001b[49m\u001b[43m=\u001b[49m\u001b[43mbatch_size\u001b[49m\u001b[43m,\u001b[49m\n\u001b[32m   3081\u001b[39m \u001b[43m    \u001b[49m\u001b[43mdatetime_format\u001b[49m\u001b[43m=\u001b[49m\u001b[43mdatetime_format\u001b[49m\u001b[43m,\u001b[49m\n\u001b[32m   3082\u001b[39m \u001b[43m    \u001b[49m\u001b[43mdate_format\u001b[49m\u001b[43m=\u001b[49m\u001b[43mdate_format\u001b[49m\u001b[43m,\u001b[49m\n\u001b[32m   3083\u001b[39m \u001b[43m    \u001b[49m\u001b[43mtime_format\u001b[49m\u001b[43m=\u001b[49m\u001b[43mtime_format\u001b[49m\u001b[43m,\u001b[49m\n\u001b[32m   3084\u001b[39m \u001b[43m    \u001b[49m\u001b[43mfloat_scientific\u001b[49m\u001b[43m=\u001b[49m\u001b[43mfloat_scientific\u001b[49m\u001b[43m,\u001b[49m\n\u001b[32m   3085\u001b[39m \u001b[43m    \u001b[49m\u001b[43mfloat_precision\u001b[49m\u001b[43m=\u001b[49m\u001b[43mfloat_precision\u001b[49m\u001b[43m,\u001b[49m\n\u001b[32m   3086\u001b[39m \u001b[43m    \u001b[49m\u001b[43mnull_value\u001b[49m\u001b[43m=\u001b[49m\u001b[43mnull_value\u001b[49m\u001b[43m,\u001b[49m\n\u001b[32m   3087\u001b[39m \u001b[43m    \u001b[49m\u001b[43mquote_style\u001b[49m\u001b[43m=\u001b[49m\u001b[43mquote_style\u001b[49m\u001b[43m,\u001b[49m\n\u001b[32m   3088\u001b[39m \u001b[43m    \u001b[49m\u001b[43mstorage_options\u001b[49m\u001b[43m=\u001b[49m\u001b[43mstorage_options\u001b[49m\u001b[43m,\u001b[49m\n\u001b[32m   3089\u001b[39m \u001b[43m    \u001b[49m\u001b[43mcredential_provider\u001b[49m\u001b[43m=\u001b[49m\u001b[43mcredential_provider\u001b[49m\u001b[43m,\u001b[49m\n\u001b[32m   3090\u001b[39m \u001b[43m    \u001b[49m\u001b[43mretries\u001b[49m\u001b[43m=\u001b[49m\u001b[43mretries\u001b[49m\u001b[43m,\u001b[49m\n\u001b[32m   3091\u001b[39m \u001b[43m    \u001b[49m\u001b[43moptimizations\u001b[49m\u001b[43m=\u001b[49m\u001b[43mQueryOptFlags\u001b[49m\u001b[43m.\u001b[49m\u001b[43m_eager\u001b[49m\u001b[43m(\u001b[49m\u001b[43m)\u001b[49m\u001b[43m,\u001b[49m\n\u001b[32m   3092\u001b[39m \u001b[43m    \u001b[49m\u001b[43mengine\u001b[49m\u001b[43m=\u001b[49m\u001b[43mengine\u001b[49m\u001b[43m,\u001b[49m\n\u001b[32m   3093\u001b[39m \u001b[43m\u001b[49m\u001b[43m)\u001b[49m\n\u001b[32m   3095\u001b[39m \u001b[38;5;28;01mif\u001b[39;00m should_return_buffer:\n\u001b[32m   3096\u001b[39m     \u001b[38;5;28;01mreturn\u001b[39;00m \u001b[38;5;28mstr\u001b[39m(target.getvalue(), encoding=\u001b[33m\"\u001b[39m\u001b[33mutf-8\u001b[39m\u001b[33m\"\u001b[39m)  \u001b[38;5;66;03m# type: ignore[union-attr]\u001b[39;00m\n",
      "\u001b[36mFile \u001b[39m\u001b[32m~\\AppData\\Local\\Programs\\Python\\Python312\\Lib\\site-packages\\polars\\lazyframe\\frame.py:3300\u001b[39m, in \u001b[36mLazyFrame.sink_csv\u001b[39m\u001b[34m(***failed resolving arguments***)\u001b[39m\n\u001b[32m   3298\u001b[39m     ldf = ldf.with_optimizations(optimizations._pyoptflags)\n\u001b[32m   3299\u001b[39m     ldf = LazyFrame._from_pyldf(ldf)\n\u001b[32m-> \u001b[39m\u001b[32m3300\u001b[39m     \u001b[43mldf\u001b[49m\u001b[43m.\u001b[49m\u001b[43mcollect\u001b[49m\u001b[43m(\u001b[49m\u001b[43mengine\u001b[49m\u001b[43m=\u001b[49m\u001b[43mengine\u001b[49m\u001b[43m)\u001b[49m\n\u001b[32m   3301\u001b[39m     \u001b[38;5;28;01mreturn\u001b[39;00m \u001b[38;5;28;01mNone\u001b[39;00m\n\u001b[32m   3302\u001b[39m \u001b[38;5;28;01mreturn\u001b[39;00m LazyFrame._from_pyldf(ldf)\n",
      "\u001b[36mFile \u001b[39m\u001b[32m~\\AppData\\Local\\Programs\\Python\\Python312\\Lib\\site-packages\\polars\\_utils\\deprecation.py:97\u001b[39m, in \u001b[36mdeprecate_streaming_parameter.<locals>.decorate.<locals>.wrapper\u001b[39m\u001b[34m(*args, **kwargs)\u001b[39m\n\u001b[32m     93\u001b[39m         kwargs[\u001b[33m\"\u001b[39m\u001b[33mengine\u001b[39m\u001b[33m\"\u001b[39m] = \u001b[33m\"\u001b[39m\u001b[33min-memory\u001b[39m\u001b[33m\"\u001b[39m\n\u001b[32m     95\u001b[39m     \u001b[38;5;28;01mdel\u001b[39;00m kwargs[\u001b[33m\"\u001b[39m\u001b[33mstreaming\u001b[39m\u001b[33m\"\u001b[39m]\n\u001b[32m---> \u001b[39m\u001b[32m97\u001b[39m \u001b[38;5;28;01mreturn\u001b[39;00m \u001b[43mfunction\u001b[49m\u001b[43m(\u001b[49m\u001b[43m*\u001b[49m\u001b[43margs\u001b[49m\u001b[43m,\u001b[49m\u001b[43m \u001b[49m\u001b[43m*\u001b[49m\u001b[43m*\u001b[49m\u001b[43mkwargs\u001b[49m\u001b[43m)\u001b[49m\n",
      "\u001b[36mFile \u001b[39m\u001b[32m~\\AppData\\Local\\Programs\\Python\\Python312\\Lib\\site-packages\\polars\\lazyframe\\opt_flags.py:330\u001b[39m, in \u001b[36mforward_old_opt_flags.<locals>.decorate.<locals>.wrapper\u001b[39m\u001b[34m(*args, **kwargs)\u001b[39m\n\u001b[32m    327\u001b[39m         optflags = cb(optflags, kwargs.pop(key))  \u001b[38;5;66;03m# type: ignore[no-untyped-call,unused-ignore]\u001b[39;00m\n\u001b[32m    329\u001b[39m kwargs[\u001b[33m\"\u001b[39m\u001b[33moptimizations\u001b[39m\u001b[33m\"\u001b[39m] = optflags\n\u001b[32m--> \u001b[39m\u001b[32m330\u001b[39m \u001b[38;5;28;01mreturn\u001b[39;00m \u001b[43mfunction\u001b[49m\u001b[43m(\u001b[49m\u001b[43m*\u001b[49m\u001b[43margs\u001b[49m\u001b[43m,\u001b[49m\u001b[43m \u001b[49m\u001b[43m*\u001b[49m\u001b[43m*\u001b[49m\u001b[43mkwargs\u001b[49m\u001b[43m)\u001b[49m\n",
      "\u001b[36mFile \u001b[39m\u001b[32m~\\AppData\\Local\\Programs\\Python\\Python312\\Lib\\site-packages\\polars\\lazyframe\\frame.py:2332\u001b[39m, in \u001b[36mLazyFrame.collect\u001b[39m\u001b[34m(self, type_coercion, predicate_pushdown, projection_pushdown, simplify_expression, slice_pushdown, comm_subplan_elim, comm_subexpr_elim, cluster_with_columns, collapse_joins, no_optimization, engine, background, optimizations, **_kwargs)\u001b[39m\n\u001b[32m   2330\u001b[39m \u001b[38;5;66;03m# Only for testing purposes\u001b[39;00m\n\u001b[32m   2331\u001b[39m callback = _kwargs.get(\u001b[33m\"\u001b[39m\u001b[33mpost_opt_callback\u001b[39m\u001b[33m\"\u001b[39m, callback)\n\u001b[32m-> \u001b[39m\u001b[32m2332\u001b[39m \u001b[38;5;28;01mreturn\u001b[39;00m wrap_df(\u001b[43mldf\u001b[49m\u001b[43m.\u001b[49m\u001b[43mcollect\u001b[49m\u001b[43m(\u001b[49m\u001b[43mengine\u001b[49m\u001b[43m,\u001b[49m\u001b[43m \u001b[49m\u001b[43mcallback\u001b[49m\u001b[43m)\u001b[49m)\n",
      "\u001b[31mComputeError\u001b[39m: CSV format does not support nested data"
     ]
    }
   ],
   "source": [
    "import csv\n",
    "rows = outputDF.rows()\n",
    "headers = outputDF.columns\n",
    "with open(filePaths['output'].format(stationID), mode='w', newline='') as f:\n",
    "    writer = csv.writer(f, quoting=csv.QUOTE_NOTNULL)\n",
    "    writer.writerow(headers)\n",
    "    writer.writerows(rows)\n",
    "df.write_csv(\"output/summary.csv\", separator=\",\")#TODO Write to CSV to local"
   ]
  }
 ],
 "metadata": {
  "kernelspec": {
   "display_name": "Python 3 (ipykernel)",
   "language": "python",
   "name": "python3"
  },
  "language_info": {
   "codemirror_mode": {
    "name": "ipython",
    "version": 3
   },
   "file_extension": ".py",
   "mimetype": "text/x-python",
   "name": "python",
   "nbconvert_exporter": "python",
   "pygments_lexer": "ipython3",
   "version": "3.12.0"
  }
 },
 "nbformat": 4,
 "nbformat_minor": 5
}
